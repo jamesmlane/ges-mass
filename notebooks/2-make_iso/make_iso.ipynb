{
 "cells": [
  {
   "cell_type": "code",
   "execution_count": null,
   "metadata": {},
   "outputs": [],
   "source": [
    "# ------------------------------------------------------------------------\n",
    "#\n",
    "# TITLE - make_iso.ipynb\n",
    "# AUTHOR - James Lane\n",
    "# PROJECT - ges-mass\n",
    "#\n",
    "# ------------------------------------------------------------------------\n",
    "#\n",
    "# Docstrings and metadata:\n",
    "'''Do some processing on the raw PARSEC v1.2 isochrones to make an isochrone\n",
    "grid which can be used with the mass fitting program. Specifically, add \n",
    "weights which represent the fractional number density of each isochrone point.\n",
    "'''\n",
    "\n",
    "__author__ = \"James Lane\""
   ]
  },
  {
   "cell_type": "code",
   "execution_count": null,
   "metadata": {},
   "outputs": [],
   "source": [
    "### Imports\n",
    "\n",
    "## Basic\n",
    "import numpy as np\n",
    "import sys, os, pdb, copy, warnings\n",
    "from matplotlib import pyplot as plt\n",
    "import scipy.integrate\n",
    "from tqdm.notebook import tqdm\n",
    "from isodist import Z2FEH,FEH2Z\n",
    "\n",
    "# Project specific\n",
    "sys.path.insert(0,'../../src/')\n",
    "from ges_mass import util as putil\n",
    "from ges_mass import iso as piso\n",
    "\n",
    "### Notebook setup\n",
    "\n",
    "%matplotlib inline\n",
    "plt.style.use('../../src/mpl/project.mplstyle') # This must be exactly here\n",
    "%config InlineBackend.figure_format = 'retina'\n",
    "%load_ext autoreload\n",
    "%autoreload 2"
   ]
  },
  {
   "cell_type": "markdown",
   "metadata": {
    "tags": []
   },
   "source": [
    "### Preliminaries\n",
    "- The `M_MIN` keyword will be used here to act as a starting point for the isochrone weights calculation.\n",
    "- Consider changing which IMF is used to calculate the default weights for the code (below). By default it's Chabrier (2003)"
   ]
  },
  {
   "cell_type": "code",
   "execution_count": null,
   "metadata": {},
   "outputs": [],
   "source": [
    "# Keywords\n",
    "cdict = putil.load_config_to_dict()\n",
    "keywords = ['BASE_DIR','APOGEE_DR','APOGEE_RESULTS_VERS','GAIA_DR','LOGG_MIN',\n",
    "            'LOGG_MAX','FEH_MIN','FEH_MAX','FEH_MIN_GSE','FEH_MAX_GSE','M_MIN']\n",
    "base_dir,apogee_dr,apogee_results_vers,gaia_dr,logg_min,logg_max,feh_min,\\\n",
    "    feh_max,feh_min_gse,feh_max_gse,m_min \\\n",
    "    = putil.parse_config_dict(cdict,keywords)\n",
    "feh_range_gse = [feh_min_gse,feh_max_gse]\n",
    "feh_range_all = [feh_min,feh_max]\n",
    "logg_range = [logg_min,logg_max]\n",
    "data_dir = base_dir+'data/'\n",
    "version_dir = 'apogee_'+apogee_dr+'_'+apogee_results_vers+'_gaia_'+gaia_dr+'/'\n",
    "ga_dir = data_dir+'gaia_apogee/'+version_dir\n",
    "fig_dir = './fig/'\n",
    "os.makedirs(fig_dir, exist_ok=True)"
   ]
  },
  {
   "cell_type": "markdown",
   "metadata": {},
   "source": [
    "### Load data"
   ]
  },
  {
   "cell_type": "code",
   "execution_count": null,
   "metadata": {},
   "outputs": [],
   "source": [
    "# Path for isochrone, I keep it where data for isodist lives\n",
    "iso_dir = os.environ['ISODIST_DATA']+'/parsec1.2/'\n",
    "# Two isochrones, one for low metallicity and one for higher metallicity.\n",
    "# Done separately because of CMD 3.6 limitations, now joined.\n",
    "iso_names = ['2mass-spitzer-wise-0.0001-z-0.0030-1e10-age-1.4e10.dat',\n",
    "             '2mass-spitzer-wise-0.0031-z-0.0060-1e10-age-1.4e10.dat']\n",
    "iso_1 = np.genfromtxt(iso_dir+iso_names[0], names=True, skip_header=13, \n",
    "                      comments='#')\n",
    "iso_2 = np.genfromtxt(iso_dir+iso_names[1], names=True, skip_header=13, \n",
    "                      comments='#')\n",
    "iso = np.concatenate((iso_1,iso_2))"
   ]
  },
  {
   "cell_type": "markdown",
   "metadata": {},
   "source": [
    "### Normalizations"
   ]
  },
  {
   "cell_type": "code",
   "execution_count": null,
   "metadata": {
    "tags": []
   },
   "outputs": [],
   "source": [
    "# Lambda functions for IMF*mass calculation\n",
    "chabrier01_imf_mass = lambda mass: piso.chabrier01_lognormal(mass)*mass\n",
    "chabrier03_imf_mass = lambda mass: piso.chabrier03_lognormal(mass)*mass\n",
    "kroupa_imf_mass = lambda mass: piso.kroupa(mass)*mass"
   ]
  },
  {
   "cell_type": "code",
   "execution_count": null,
   "metadata": {},
   "outputs": [],
   "source": [
    "imf_norm_chabrier01 = scipy.integrate.quad(chabrier01_imf_mass,0.,100.)[0]\n",
    "imf_norm_chabrier03 = scipy.integrate.quad(chabrier03_imf_mass,0.,100.)[0]\n",
    "imf_norm_kroupa = scipy.integrate.quad(kroupa_imf_mass,0.,100.)[0]"
   ]
  },
  {
   "cell_type": "markdown",
   "metadata": {},
   "source": [
    "### Plot IMFs\n",
    "Show the Chabrier 2001, Chabrier 2003, Kroupa IMFs"
   ]
  },
  {
   "cell_type": "code",
   "execution_count": null,
   "metadata": {},
   "outputs": [],
   "source": [
    "fig = plt.figure()\n",
    "ax = fig.add_subplot(111)\n",
    "\n",
    "ms = np.logspace(-2,0.,num=100)\n",
    "\n",
    "ax.plot(ms, piso.chabrier01_lognormal(ms)/imf_norm_chabrier01, \n",
    "        color='Red', label='Chabrier 2001')\n",
    "ax.plot(ms, piso.chabrier03_lognormal(ms)/imf_norm_chabrier03, \n",
    "        color='ForestGreen', label='Chabrier 2003')\n",
    "ax.plot(ms, piso.kroupa(ms)/imf_norm_kroupa, \n",
    "        color='DodgerBlue', label='Kroupa')\n",
    "\n",
    "ax.set_xlabel('m [solar]')\n",
    "ax.set_ylabel(r'$\\xi$(m)')\n",
    "ax.set_xscale('log')\n",
    "ax.set_yscale('log')\n",
    "ax.legend()\n",
    "\n",
    "fig.savefig(fig_dir+'imfs.png')\n",
    "fig.show()"
   ]
  },
  {
   "cell_type": "markdown",
   "metadata": {},
   "source": [
    "### Process Isochrone\n",
    "First calculate the IMF-based weights and include them in the isochrone. The \n",
    "IMF for each isochrone element is the delta of iso['int_IMF'], calculated \n",
    "individually for each isochrone of a unique Z and Age. For the first mass point \n",
    "I integrate a normalized (1 M solar total) Chabrier (2001) IMF from 0.08 to the \n",
    "first initial mass point.\n",
    "\n",
    "Additionally remove any points with luminosity -9.999, which are WDs that can \n",
    "significantly warp the inferred mass fraction"
   ]
  },
  {
   "cell_type": "code",
   "execution_count": null,
   "metadata": {},
   "outputs": [],
   "source": [
    "iso_new = copy.deepcopy(iso)\n",
    "\n",
    "# Weights from Chabrier (2001) IMF\n",
    "print('Calculating weights using Chabrier (2001) IMF')\n",
    "iso_new = piso.calculate_weights_imf(iso_new, norm=imf_norm_chabrier01,\n",
    "    imf=piso.chabrier01_lognormal, m_min=m_min, \n",
    "    weights_key='weights_imf_chabrier01_mmin_'+str(m_min))\n",
    "\n",
    "# Weights from Chabrier (2003) IMF\n",
    "print('Calculating weights using Chabrier (2003) IMF')\n",
    "iso_new = piso.calculate_weights_imf(iso_new, norm=imf_norm_chabrier03,\n",
    "    imf=piso.chabrier03_lognormal, m_min=m_min, \n",
    "    weights_key='weights_imf_chabrier03_mmin_'+str(m_min))\n",
    "\n",
    "# Weights from Kroupa IMF\n",
    "print('Calculating weights using Kroupa IMF')\n",
    "iso_new = piso.calculate_weights_imf(iso_new, norm=imf_norm_kroupa,\n",
    "    imf=piso.kroupa, m_min=m_min, weights_key='weights_imf_kroupa_mmin_'+str(m_min))\n",
    "\n",
    "# Weights from differencing 'int_IMF' field\n",
    "print('Calculating weights by differencing \"int_IMF\" field in the isochrone')\n",
    "iso_new = piso.calculate_weights_imf(iso_new, weights_key='weights_imf_diff',\n",
    "                                        diff=True, diff_key='int_IMF')\n",
    "\n",
    "# Make one set of weights that will be the default: 'weights_imf'\n",
    "w_imf = np.zeros(len(iso), dtype=[('weights_imf','f8'),])\n",
    "w_imf['weights_imf'] = iso_new['weights_imf_chabrier03_mmin_'+str(m_min)]\n",
    "iso_new = np.lib.recfunctions.merge_arrays((iso_new,w_imf), flatten=True)\n",
    "\n",
    "iso_new = iso_new[iso_new['logL'] > -9]"
   ]
  },
  {
   "cell_type": "code",
   "execution_count": null,
   "metadata": {},
   "outputs": [],
   "source": [
    "# Save, store it with all of the other things required to do density modelling\n",
    "np.save(ga_dir+'iso_grid.npy',iso_new)"
   ]
  },
  {
   "cell_type": "markdown",
   "metadata": {},
   "source": [
    "### Calculate some Isochrone factors, Plot weights"
   ]
  },
  {
   "cell_type": "code",
   "execution_count": null,
   "metadata": {},
   "outputs": [],
   "source": [
    "# Assuming a standard set of minimum (J-K) determine the \n",
    "# average mass in giants and mass ratio factors\n",
    "jkmins = [0.3,0.5]\n",
    "\n",
    "def determine_isofactors(iso,feh_range,logg_range,jkmin,weights_key):\n",
    "    # The mass ratio mask is for all stars considered, determined by \n",
    "    # [Fe/H] and age\n",
    "    massratio_isomask = (Z2FEH(iso['Zini']) > feh_range[0]) &\\\n",
    "                        (Z2FEH(iso['Zini']) < feh_range[1]) &\\\n",
    "                        (iso['logAge'] >= 10) &\\\n",
    "                        (iso['logL'] > -9) # Eliminates WDs\n",
    "    # The average mass mask extracts fitted sample based on color and logg\n",
    "    # but also cuts on [Fe/H] and age (from massratio_isomask)\n",
    "    avmass_isomask = massratio_isomask &\\\n",
    "                     (iso['Jmag']-iso['Ksmag'] > jkmin) &\\\n",
    "                     (iso['logg'] > logg_range[0]) &\\\n",
    "                     (iso['logg'] < logg_range[1])\n",
    "    massratio = piso.mass_ratio(iso[massratio_isomask], logg_range=logg_range,\n",
    "                                jk_range=[jkmin,999.], weights_key=weights_key)\n",
    "    avmass = piso.average_mass(iso[avmass_isomask], weights_key=weights_key)\n",
    "    return avmass, massratio\n",
    "\n",
    "weights_keys = ['weights_imf_chabrier01_mmin_'+str(m_min),\n",
    "                'weights_imf_chabrier03_mmin_'+str(m_min),\n",
    "                'weights_imf_kroupa_mmin_'+str(m_min),\n",
    "                'weights_imf_diff']\n",
    "\n",
    "for i in range(len(jkmins)):\n",
    "    for j in range(2):\n",
    "        if j==0:\n",
    "            feh_range = feh_range_all\n",
    "        else:\n",
    "            feh_range = feh_range_gse\n",
    "        for k in range(len(weights_keys)):\n",
    "    \n",
    "            avmass, massratio = determine_isofactors(iso_new, feh_range, \n",
    "                                                     logg_range, jkmin=jkmins[i], \n",
    "                                                     weights_key=weights_keys[k])\n",
    "            print('\\nFor minimum (J-K)='+str(jkmins[i])+', Fe/H range: '+\\\n",
    "                  str(feh_range)+', weights_key='+str(weights_keys[k]))\n",
    "            print('Average mass of giants: '+str(round(avmass,3)))\n",
    "            print('Mass ratio of giants to whole isochrone: '+str(round(massratio,5)))\n",
    "            print('Isochrone factor: '+str(round(avmass/massratio,1)))\n",
    "        print('\\n----------')           "
   ]
  },
  {
   "cell_type": "code",
   "execution_count": null,
   "metadata": {},
   "outputs": [],
   "source": [
    "# Unique metallicity and ages\n",
    "unique_zini = np.unique(iso['Zini'])\n",
    "unique_age = np.unique(iso['logAge'])\n",
    "jkmin = 0.5\n",
    "\n",
    "for i in range(len(unique_zini)):\n",
    "    for j in range(len(unique_age)):\n",
    "        if i%10 != 0: continue\n",
    "        iso_mask = np.where((iso_new['Zini']==unique_zini[i]) &\\\n",
    "                            (iso_new['logAge']==unique_age[j]))[0]\n",
    "        this_iso = iso_new[iso_mask]\n",
    "        \n",
    "        fig = plt.figure()\n",
    "        ax = fig.add_subplot(111)\n",
    "        \n",
    "        ax.plot(iso_new[iso_mask][1:]['Mini'], \n",
    "                iso_new[iso_mask][1:]['weights_imf_chabrier01_mmin_'+str(m_min)],\n",
    "                color='Red', label='Chabrier 2001', zorder=1)\n",
    "        ax.plot(iso_new[iso_mask][1:]['Mini'], \n",
    "                iso_new[iso_mask][1:]['weights_imf_chabrier03_mmin_'+str(m_min)],\n",
    "                color='Orange', label='Chabrier 2003', zorder=1)\n",
    "        ax.plot(iso_new[iso_mask][1:]['Mini'], \n",
    "                iso_new[iso_mask][1:]['weights_imf_kroupa_mmin_'+str(m_min)],\n",
    "                color='ForestGreen', label='Kroupa', zorder=1)\n",
    "        ax.plot(iso_new[iso_mask][1:]['Mini'], \n",
    "                iso_new[iso_mask][1:]['weights_imf_diff'],\n",
    "                color='DodgerBlue', linestyle='dashed', zorder=2, label='Diff')\n",
    "        ax.set_xlabel(r'M$_{ini}$')\n",
    "        ax.set_ylabel(r'w$_{i}$')\n",
    "        ax.legend()\n",
    "        fig.savefig(fig_dir+'z'+str(unique_zini[i])+'_logAge'+\\\n",
    "                    str(unique_age[j])+'_weights_no_m0.png', dpi=100)\n",
    "        plt.close()"
   ]
  }
 ],
 "metadata": {
  "kernel_info": {
   "name": "python3"
  },
  "kernelspec": {
   "display_name": "Python 3 (ipykernel)",
   "language": "python",
   "name": "python3"
  },
  "language_info": {
   "codemirror_mode": {
    "name": "ipython",
    "version": 3
   },
   "file_extension": ".py",
   "mimetype": "text/x-python",
   "name": "python",
   "nbconvert_exporter": "python",
   "pygments_lexer": "ipython3",
   "version": "3.10.11"
  },
  "nteract": {
   "version": "0.28.0"
  }
 },
 "nbformat": 4,
 "nbformat_minor": 4
}
