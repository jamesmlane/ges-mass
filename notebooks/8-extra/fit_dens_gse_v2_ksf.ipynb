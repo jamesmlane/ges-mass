{
 "cells": [
  {
   "cell_type": "code",
   "execution_count": 1,
   "metadata": {
    "tags": []
   },
   "outputs": [],
   "source": [
    "# ------------------------------------------------------------------------\n",
    "#\n",
    "# TITLE - fit_dens_gse_v2_ksf.ipynb\n",
    "# AUTHOR - James Lane\n",
    "# PROJECT - ges-mass\n",
    "#\n",
    "# ------------------------------------------------------------------------\n",
    "#\n",
    "# Docstrings and metadata:\n",
    "'''Take the best-fitting models from the GSE v1 KSF analysis and fit them \n",
    "with the v2 KSF.\n",
    "'''\n",
    "\n",
    "__author__ = \"James Lane\""
   ]
  },
  {
   "cell_type": "code",
   "execution_count": 2,
   "metadata": {
    "tags": []
   },
   "outputs": [
    {
     "name": "stdout",
     "output_type": "stream",
     "text": [
      "\u001b[91mA new version of galpy (1.8.2) is available, please upgrade using pip/conda/... to get the latest features and bug fixes!\u001b[0m\n",
      "/home/lane/software/galpy/galpy/util/bovy_plot.py:7: FutureWarning: galpy.util.bovy_plot is being deprecated in favor of galpy.util.plot; functions inside of this module have also changed name, but all functions still exist; please switch to the new import and new function names, because the old import and function names will be removed in v1.9\n",
      "  warnings.warn('galpy.util.bovy_plot is being deprecated in favor of galpy.util.plot; functions inside of this module have also changed name, but all functions still exist; please switch to the new import and new function names, because the old import and function names will be removed in v1.9',FutureWarning)\n",
      "\n",
      "/home/lane/software/miniconda3/envs/phd/lib/python3.10/site-packages/pkg_resources/__init__.py:123: PkgResourcesDeprecationWarning: 1. is an invalid version and will not be supported in a future release\n",
      "  warnings.warn(\n",
      "\n"
     ]
    }
   ],
   "source": [
    "### Imports\n",
    "\n",
    "# Basic\n",
    "import os, sys, copy, dill as pickle\n",
    "import numpy as np\n",
    "\n",
    "# Matplotlib and plotting \n",
    "import matplotlib.pyplot as plt\n",
    "\n",
    "# Project specific\n",
    "sys.path.insert(0,'../../src/')\n",
    "from ges_mass import mass as pmass\n",
    "from ges_mass import densprofiles as pdens\n",
    "from ges_mass import util as putil\n",
    "\n",
    "### Notebook setup\n",
    "\n",
    "%matplotlib inline\n",
    "plt.style.use('../../src/mpl/project.mplstyle') # This must be exactly here\n",
    "%config InlineBackend.figure_format = 'retina'\n",
    "%load_ext autoreload\n",
    "%autoreload 2"
   ]
  },
  {
   "cell_type": "markdown",
   "metadata": {
    "tags": []
   },
   "source": [
    "### Keywords, Pathing, Loading, Data Preparation"
   ]
  },
  {
   "cell_type": "code",
   "execution_count": 3,
   "metadata": {
    "tags": []
   },
   "outputs": [
    {
     "name": "stdout",
     "output_type": "stream",
     "text": [
      "Loading config file from /home/lane/projects/ges-mass/notebooks/config.txt\n",
      "\n",
      "Loading APOGEE sel. func. from /geir_data/scr/lane/projects/ges-mass/data/gaia_apogee/apogee_dr16_l33_gaia_edr3/apogee_SF.dat\n",
      "/home/lane/software/galpy/galpy/util/bovy_coords.py:8: FutureWarning: galpy.util.bovy_coords is being deprecated in favor of galpy.util.coords; all functions in there are the same; please switch to the new import, because the old import will be removed in v1.9\n",
      "  warnings.warn('galpy.util.bovy_coords is being deprecated in favor of galpy.util.coords; all functions in there are the same; please switch to the new import, because the old import will be removed in v1.9',FutureWarning)\n",
      "\n",
      "\n",
      "Loading APOGEE eff. sel. func. from /geir_data/scr/lane/projects/ges-mass/data/gaia_apogee/apogee_dr16_l33_gaia_edr3/apogee_effSF_grid_inclArea_-2.0_feh_-0.6.dat\n",
      "\n",
      "Loading APOGEE eff. sel. func. mask from /geir_data/scr/lane/projects/ges-mass/data/gaia_apogee/apogee_dr16_l33_gaia_edr3/apogee_effSF_grid_mask.npy\n",
      "\n",
      "Loading cleaned kinematics from /geir_data/scr/lane/projects/ges-mass/data/gaia_apogee_processed/apogee_dr16_l33_gaia_edr3/clean_kinematics_sampled.npy\n",
      "\n",
      "Loading isochrone grid from /geir_data/scr/lane/projects/ges-mass/data/gaia_apogee/apogee_dr16_l33_gaia_edr3/iso_grid.npy\n"
     ]
    }
   ],
   "source": [
    "# %load ../../src/nb_modules/keywords_pathing_loading_data_prep.py\n",
    "## Keywords\n",
    "cdict = putil.load_config_to_dict()\n",
    "keywords = ['BASE_DIR','APOGEE_DR','APOGEE_RESULTS_VERS','GAIA_DR','NDMOD',\n",
    "            'DMOD_MIN','DMOD_MAX','LOGG_MIN','LOGG_MAX','FEH_MIN','FEH_MAX',\n",
    "            'FEH_MIN_GSE','FEH_MAX_GSE','DF_VERSION','KSF_VERSION','NPROCS',\n",
    "            'RO','VO','ZO']\n",
    "base_dir,apogee_dr,apogee_results_vers,gaia_dr,ndmod,dmod_min,dmod_max,\\\n",
    "    logg_min,logg_max,feh_min,feh_max,feh_min_gse,feh_max_gse,df_version,\\\n",
    "    ksf_version,nprocs,ro,vo,zo = putil.parse_config_dict(cdict,keywords)\n",
    "logg_range = [logg_min,logg_max]\n",
    "feh_range = [feh_min,feh_max]\n",
    "feh_range_gse = [feh_min_gse,feh_max_gse]\n",
    "feh_range_all = [feh_min,feh_max_gse]\n",
    "feh_range_fit = copy.deepcopy(feh_range_gse) # Need to choose here\n",
    "\n",
    "df_version = 'v2_lb_ps_hb_tp'\n",
    "ksf_version = 'v2.03_beta_03_6e8_09_1.5e8'\n",
    "\n",
    "## Pathing\n",
    "fit_paths = putil.prepare_paths(base_dir,apogee_dr,apogee_results_vers,gaia_dr,\n",
    "                                df_version,ksf_version)\n",
    "data_dir,version_dir,ga_dir,gap_dir,df_dir,ksf_dir,fit_dir = fit_paths\n",
    "\n",
    "## Filenames\n",
    "fit_filenames = putil.prepare_filenames(ga_dir,gap_dir,feh_range_fit)\n",
    "apogee_SF_filename,apogee_effSF_filename,apogee_effSF_mask_filename,\\\n",
    "    iso_grid_filename,clean_kinematics_filename = fit_filenames\n",
    "\n",
    "## File loading and data preparation\n",
    "fit_stuff,other_stuff = putil.prepare_fitting(fit_filenames,\n",
    "    [ndmod,dmod_min,dmod_max], ro,zo,return_other=True)\n",
    "apogee_effSF_mask,dmap,iso_grid,jkmins,dmods,ds,effsel_grid,apof,\\\n",
    "    allstar_nomask,orbs_nomask = fit_stuff\n",
    "Rgrid,phigrid,zgrid = effsel_grid\n",
    "\n",
    "# ## Load the distribution functions\n",
    "# df_filename = df_dir+'dfs.pkl'\n",
    "# betas = [0.3,0.8]\n",
    "# dfs = putil.load_distribution_functions(df_filename, betas)"
   ]
  },
  {
   "cell_type": "markdown",
   "metadata": {},
   "source": [
    "### Global Parameters"
   ]
  },
  {
   "cell_type": "code",
   "execution_count": 5,
   "metadata": {
    "tags": []
   },
   "outputs": [],
   "source": [
    "# %load ../../src/nb_modules/global_fitting_params.py\n",
    "## general kwargs\n",
    "verbose = True\n",
    "\n",
    "## HaloFit kwargs (ordering follows HaloFit.__init__)\n",
    "# allstar and orbs loaded in prep cell\n",
    "init = None\n",
    "init_type = 'ML'\n",
    "# fit_type provided at runtime\n",
    "mask_disk = True\n",
    "mask_halo = True\n",
    "# densfunc, selec provided at runtime\n",
    "# effsel, effsel_grid, effsel_mask, dmods loaded in prep cell\n",
    "nwalkers = 100\n",
    "nit = int(2e3)\n",
    "ncut = int(1e3)\n",
    "# usr_log_prior provided at runtime\n",
    "n_mass = 2000 # int(nwalkers*(nit-ncut))\n",
    "int_r_range = [2.,70.]\n",
    "iso = None # Will read from iso_grid_filename\n",
    "# iso_filename, jkmins loaded in prep cell\n",
    "# feh_range provided at runtime\n",
    "# logg_range loaded in config cell\n",
    "# fit_dir, gap_dir, ksf_dir loaded in prep cell\n",
    "# version provided at runtime\n",
    "# ro, vo, zo loaded in config cell\n",
    "\n",
    "hf_kwargs = {## HaloFit parameters\n",
    "             'allstar':allstar_nomask,\n",
    "             'orbs':orbs_nomask,\n",
    "             'init':init,\n",
    "             'init_type':init_type,\n",
    "             # 'fit_type':fit_type, # provided at runtime\n",
    "             'mask_disk':mask_disk,\n",
    "             'mask_halo':mask_halo,\n",
    "             ## _HaloFit parameters\n",
    "             # 'densfunc':densfunc, # provided at runtime\n",
    "             # 'selec':selec, # provided at runtime\n",
    "             'effsel':apof,\n",
    "             'effsel_mask':apogee_effSF_mask,\n",
    "             'effsel_grid':effsel_grid,\n",
    "             'dmods':dmods,\n",
    "             'nwalkers':nwalkers,\n",
    "             'nit':nit,\n",
    "             'ncut':ncut,\n",
    "             # 'usr_log_prior':usr_log_prior, # provided at runtime\n",
    "             'n_mass':n_mass,\n",
    "             'int_r_range':int_r_range,\n",
    "             'iso':iso,\n",
    "             'iso_filename':iso_grid_filename,\n",
    "             'jkmins':jkmins,\n",
    "             # 'feh_range':feh_range, # provided at runtime\n",
    "             'logg_range':logg_range,\n",
    "             'fit_dir':fit_dir,\n",
    "             'gap_dir':gap_dir,\n",
    "             'ksf_dir':ksf_dir,\n",
    "             # 'version':version, # provided at runtime\n",
    "             'verbose':verbose,\n",
    "             'ro':ro,\n",
    "             'vo':vo,\n",
    "             'zo':zo}\n",
    "\n",
    "## pmass.fit() function kwargs\n",
    "# nprocs set in config file\n",
    "force_fit = True\n",
    "mle_init = True\n",
    "just_mle = False\n",
    "return_walkers = True\n",
    "optimizer_method = 'Powell'\n",
    "mass_int_type = 'spherical_grid'\n",
    "batch_masses = True\n",
    "make_ml_aic_bic = True\n",
    "calculate_masses = True\n",
    "post_optimization = True\n",
    "mcmc_diagnostic = True\n",
    "\n",
    "fit_kwargs = {# 'nprocs':nprocs, # Normally given at runtime \n",
    "              'force_fit':force_fit,\n",
    "              'mle_init':mle_init,\n",
    "              'just_mle':just_mle,\n",
    "              'return_walkers':return_walkers,\n",
    "              'optimizer_method':optimizer_method,\n",
    "              'mass_int_type':mass_int_type,\n",
    "              'batch_masses':batch_masses,\n",
    "              'make_ml_aic_bic':make_ml_aic_bic,\n",
    "              'calculate_masses':calculate_masses,\n",
    "              'post_optimization':post_optimization,\n",
    "              'mcmc_diagnostic':mcmc_diagnostic,\n",
    "              }"
   ]
  },
  {
   "cell_type": "markdown",
   "metadata": {},
   "source": [
    "# Fits to GS/E halo data. Use -2 < [Fe/H] < -0.6"
   ]
  },
  {
   "cell_type": "code",
   "execution_count": 7,
   "metadata": {},
   "outputs": [
    {
     "name": "stdout",
     "output_type": "stream",
     "text": [
      "n walkers 100\n",
      "n iterations/walker 2000\n",
      "n cut 1000\n",
      "total n samples 100000\n"
     ]
    }
   ],
   "source": [
    "fit_type = 'gse'\n",
    "version = '100w_2e3n_ksf_v2.03'\n",
    "print('n walkers',nwalkers)\n",
    "print('n iterations/walker',nit)\n",
    "print('n cut',ncut)\n",
    "print('total n samples',nwalkers*(nit-ncut))"
   ]
  },
  {
   "cell_type": "markdown",
   "metadata": {},
   "source": [
    "## Fits to data with e-Lz selection, GS/E [Fe/H] range"
   ]
  },
  {
   "cell_type": "code",
   "execution_count": 11,
   "metadata": {
    "tags": []
   },
   "outputs": [
    {
     "name": "stdout",
     "output_type": "stream",
     "text": [
      "Loading APOGEE kin. eff. sel. grid from /geir_data/scr/lane/projects/ges-mass/data/ksf/apogee_dr16_l33_gaia_edr3/v2_lb_ps_hb_tp/v2.03_beta_03_6e8_09_1.5e8/kSF_grid_linear_eLz.dat\n",
      "Using informed init\n",
      "warning: setting init_type to uninformed because densfunc is triaxial_single_angle_zvecpa\n",
      "init_type: uninformed\n",
      "densfunc_source: None\n"
     ]
    }
   ],
   "source": [
    "densfunc = pdens.triaxial_single_angle_zvecpa\n",
    "selec = ['eLz',]\n",
    "\n",
    "hf = pmass.HaloFit(densfunc=densfunc,\n",
    "                   selec=selec,\n",
    "                   fit_type=fit_type,\n",
    "                   feh_range=feh_range_fit,\n",
    "                   version=version,\n",
    "                   **hf_kwargs)"
   ]
  },
  {
   "cell_type": "code",
   "execution_count": 12,
   "metadata": {},
   "outputs": [
    {
     "data": {
      "text/plain": [
       "151"
      ]
     },
     "execution_count": 12,
     "metadata": {},
     "output_type": "execute_result"
    }
   ],
   "source": [
    "hf.n_star"
   ]
  },
  {
   "cell_type": "markdown",
   "metadata": {},
   "source": [
    "### Triaxial Single power law"
   ]
  },
  {
   "cell_type": "code",
   "execution_count": 13,
   "metadata": {
    "tags": []
   },
   "outputs": [],
   "source": [
    "# def usr_log_prior(densfunc,params):\n",
    "#     return 0\n",
    "\n",
    "# densfunc = pdens.triaxial_single_angle_zvecpa\n",
    "# hf.set_densfunc(densfunc,usr_log_prior=usr_log_prior)\n",
    "# pmass.fit(hf, nprocs=nprocs, **fit_kwargs)\n",
    "\n",
    "# densfunc = pdens.triaxial_single_angle_zvecpa_plusexpdisk\n",
    "# hf.set_densfunc(densfunc,usr_log_prior=usr_log_prior)\n",
    "# pmass.fit(hf, nprocs=nprocs, **fit_kwargs)"
   ]
  },
  {
   "cell_type": "markdown",
   "metadata": {},
   "source": [
    "### Triaxial exponential cutoff"
   ]
  },
  {
   "cell_type": "code",
   "execution_count": 14,
   "metadata": {
    "tags": []
   },
   "outputs": [
    {
     "name": "stdout",
     "output_type": "stream",
     "text": [
      "Setting densfunc to: triaxial_single_cutoff_zvecpa_plusexpdisk\n",
      "Version is: 100w_2e3n_ksf_v2.03/\n",
      "Using init_type: ML\n",
      "warning: files required for init_type \"ML\" not present, changing init_type to \"uninformed\"\n",
      "init_type: uninformed\n",
      "densfunc_source: triaxial_single_cutoff_zvecpa\n",
      "source_fit_data_dir: /geir_data/scr/lane/projects/ges-mass/data/fitting/data/gse/eLz/-2.0_feh_-0.6/triaxial_single_cutoff_zvecpa/100w_2e3n_ksf_v2.03/\n",
      "Doing maximum likelihood to find starting point\n",
      "MLE successful\n",
      "MLE result: [-4.56307076  3.13571712  0.49732774  0.28570361  0.18887144  0.99751152\n",
      "  0.55987621  0.59285967]\n",
      "Running MCMC with 10 processers\n",
      "Generating MCMC samples...\n",
      "sampled 200/2000 per walker\n",
      "mean tau: 19.3208492662013\n",
      "min nit/tau: 9.581719964041103\n",
      "[min,max] delta tau: [inf,inf]\n",
      "[min,max] acceptance fraction: [0.22,0.5]\n",
      "total max nit/tau 9.581719964041103\n",
      "(nit/tau)/max[(nit/tau)] 1.0\n",
      "---\n",
      "\n",
      "sampled 400/2000 per walker\n",
      "mean tau: 35.350712787316056\n",
      "min nit/tau: 10.098353250223084\n",
      "[min,max] delta tau: [-0.4750461091584504,-0.407223424186229]\n",
      "[min,max] acceptance fraction: [0.24,0.44]\n",
      "total max nit/tau 10.098353250223084\n",
      "(nit/tau)/max[(nit/tau)] 1.0\n",
      "---\n",
      "\n",
      "sampled 600/2000 per walker\n",
      "mean tau: 51.11478358592693\n",
      "min nit/tau: 10.321300895902615\n",
      "[min,max] delta tau: [-0.3381736076258905,-0.2632790487967148]\n",
      "[min,max] acceptance fraction: [0.23,0.4]\n",
      "total max nit/tau 10.321300895902615\n",
      "(nit/tau)/max[(nit/tau)] 1.0\n",
      "---\n",
      "\n",
      "sampled 800/2000 per walker\n",
      "mean tau: 66.03695701820791\n",
      "min nit/tau: 10.958225299968701\n",
      "[min,max] delta tau: [-0.2640207785715671,-0.17179819481785258]\n",
      "[min,max] acceptance fraction: [0.22,0.37]\n",
      "total max nit/tau 10.958225299968701\n",
      "(nit/tau)/max[(nit/tau)] 1.0\n",
      "---\n",
      "\n",
      "sampled 1000/2000 per walker\n",
      "mean tau: 81.82761384666372\n",
      "min nit/tau: 11.242079983255701\n",
      "[min,max] delta tau: [-0.208891617958819,-0.1750999661026899]\n",
      "[min,max] acceptance fraction: [0.2,0.36]\n",
      "total max nit/tau 11.242079983255701\n",
      "(nit/tau)/max[(nit/tau)] 1.0\n",
      "---\n",
      "\n",
      "sampled 1200/2000 per walker\n",
      "mean tau: 93.36950851978615\n",
      "min nit/tau: 11.84358864138312\n",
      "[min,max] delta tau: [-0.17232137997252778,-0.10253221073135241]\n",
      "[min,max] acceptance fraction: [0.2,0.35]\n",
      "total max nit/tau 11.84358864138312\n",
      "(nit/tau)/max[(nit/tau)] 1.0\n",
      "---\n",
      "\n",
      "sampled 1400/2000 per walker\n",
      "mean tau: 104.22225692124621\n",
      "min nit/tau: 12.233390635717178\n",
      "[min,max] delta tau: [-0.13504067334562558,-0.08304262240973138]\n",
      "[min,max] acceptance fraction: [0.18,0.34]\n",
      "total max nit/tau 12.233390635717178\n",
      "(nit/tau)/max[(nit/tau)] 1.0\n",
      "---\n",
      "\n",
      "sampled 1600/2000 per walker\n",
      "mean tau: 116.9425908742523\n",
      "min nit/tau: 12.234020435338508\n",
      "[min,max] delta tau: [-0.12495495323536444,-0.08696267940493838]\n",
      "[min,max] acceptance fraction: [0.18,0.34]\n",
      "total max nit/tau 12.234020435338508\n",
      "(nit/tau)/max[(nit/tau)] 1.0\n",
      "---\n",
      "\n",
      "sampled 1800/2000 per walker\n",
      "mean tau: 128.23622038373438\n",
      "min nit/tau: 12.500386480116259\n",
      "[min,max] delta tau: [-0.11616656853640837,-0.06494007904609882]\n",
      "[min,max] acceptance fraction: [0.18,0.34]\n",
      "total max nit/tau 12.500386480116259\n",
      "(nit/tau)/max[(nit/tau)] 1.0\n",
      "---\n",
      "\n",
      "sampled 2000/2000 per walker\n",
      "mean tau: 139.2135959064958\n",
      "min nit/tau: 12.618504343398882\n",
      "[min,max] delta tau: [-0.09149577678070536,-0.0712215560298874]\n",
      "[min,max] acceptance fraction: [0.18,0.34]\n",
      "total max nit/tau 12.618504343398882\n",
      "(nit/tau)/max[(nit/tau)] 1.0\n",
      "---\n",
      "\n",
      "Finished, sampled 2000/2000\n",
      "Calculating likelihoods for MCMC samples\n",
      "Calculating isochrone factors\n",
      "Doing fast isochrone factor calculation\n",
      "Unique (J-K) minimum values: [0.30000001 0.5       ]\n",
      "[219.57018643 337.96948108]\n",
      "Calculating mass\n",
      "Batch processing masses in parallel\n",
      "Calculated 2000/2000 masses\n",
      "Doing maximum likelihood\n",
      "MLE successful\n"
     ]
    }
   ],
   "source": [
    "def usr_log_prior(densfunc,params):\n",
    "    assert densfunc is pdens.triaxial_single_cutoff_zvecpa_plusexpdisk\\\n",
    "        or densfunc is pdens.triaxial_single_cutoff_zvecpa\n",
    "    if params[1] < 2.: return -np.inf\n",
    "    if params[1] > 55.: return -np.inf\n",
    "    return 0\n",
    "\n",
    "# densfunc = pdens.triaxial_single_cutoff_zvecpa\n",
    "# hf.set_densfunc(densfunc,usr_log_prior=usr_log_prior)\n",
    "# pmass.fit(hf, nprocs=nprocs, **fit_kwargs)\n",
    "\n",
    "densfunc = pdens.triaxial_single_cutoff_zvecpa_plusexpdisk\n",
    "hf.set_densfunc(densfunc,usr_log_prior=usr_log_prior)\n",
    "pmass.fit(hf, nprocs=nprocs, **fit_kwargs)"
   ]
  },
  {
   "cell_type": "markdown",
   "metadata": {},
   "source": [
    "### Triaxial broken power law"
   ]
  },
  {
   "cell_type": "code",
   "execution_count": null,
   "metadata": {
    "tags": []
   },
   "outputs": [],
   "source": [
    "# def usr_log_prior(densfunc,params):\n",
    "#     assert densfunc is pdens.triaxial_broken_angle_zvecpa_plusexpdisk\\\n",
    "#         or densfunc is pdens.triaxial_broken_angle_zvecpa\n",
    "#     if params[0] > 10.: return -np.inf\n",
    "#     if params[1] > 10.: return -np.inf\n",
    "#     if params[2] < 2.: return -np.inf\n",
    "#     if params[2] > 55.: return -np.inf\n",
    "#     return 0\n",
    "\n",
    "# densfunc = pdens.triaxial_broken_angle_zvecpa\n",
    "# hf.set_densfunc(densfunc,usr_log_prior=usr_log_prior)\n",
    "# pmass.fit(hf, nprocs=nprocs, **fit_kwargs)\n",
    "\n",
    "# densfunc = pdens.triaxial_broken_angle_zvecpa_plusexpdisk\n",
    "# hf.set_densfunc(densfunc,usr_log_prior=usr_log_prior)\n",
    "# pmass.fit(hf, nprocs=nprocs, **fit_kwargs)"
   ]
  },
  {
   "cell_type": "markdown",
   "metadata": {},
   "source": [
    "### Triaxial double broken power law"
   ]
  },
  {
   "cell_type": "code",
   "execution_count": null,
   "metadata": {
    "tags": []
   },
   "outputs": [],
   "source": [
    "# def usr_log_prior(densfunc,params):\n",
    "#     # return 0\n",
    "#     assert densfunc is pdens.triaxial_double_broken_angle_zvecpa_plusexpdisk\\\n",
    "#         or densfunc is pdens.triaxial_double_broken_angle_zvecpa\n",
    "#     if params[0] > 10.: return -np.inf\n",
    "#     if params[1] > 10.: return -np.inf\n",
    "#     if params[2] > 10.: return -np.inf\n",
    "#     #if params[3] < 2.: return -np.inf\n",
    "#     if params[3] > 55.: return -np.inf\n",
    "#     #if params[4] < 2.: return -np.inf\n",
    "#     if params[4] > 55.: return -np.inf\n",
    "#     return 0\n",
    "\n",
    "# densfunc = pdens.triaxial_double_broken_angle_zvecpa\n",
    "# hf.set_densfunc(densfunc,usr_log_prior=usr_log_prior)\n",
    "# pmass.fit(hf, nprocs=nprocs, **fit_kwargs)\n",
    "\n",
    "# densfunc = pdens.triaxial_double_broken_angle_zvecpa_plusexpdisk\n",
    "# hf.set_densfunc(densfunc,usr_log_prior=usr_log_prior)\n",
    "# pmass.fit(hf, nprocs=nprocs, **fit_kwargs)"
   ]
  },
  {
   "cell_type": "markdown",
   "metadata": {},
   "source": [
    "## Fits to data with AD selection, GS/E [Fe/H] range"
   ]
  },
  {
   "cell_type": "code",
   "execution_count": 15,
   "metadata": {},
   "outputs": [
    {
     "name": "stdout",
     "output_type": "stream",
     "text": [
      "Loading APOGEE kin. eff. sel. grid from /geir_data/scr/lane/projects/ges-mass/data/ksf/apogee_dr16_l33_gaia_edr3/v2_lb_ps_hb_tp/v2.03_beta_03_6e8_09_1.5e8/kSF_grid_linear_AD.dat\n",
      "Using informed init\n",
      "warning: setting init_type to uninformed because densfunc is triaxial_single_angle_zvecpa\n",
      "init_type: uninformed\n",
      "densfunc_source: None\n"
     ]
    }
   ],
   "source": [
    "selec = ['AD',]\n",
    "densfunc = pdens.triaxial_single_angle_zvecpa\n",
    "hf = pmass.HaloFit(densfunc=densfunc,\n",
    "                   selec=selec,\n",
    "                   fit_type=fit_type,\n",
    "                   feh_range=feh_range_fit,\n",
    "                   version=version,\n",
    "                   **hf_kwargs)"
   ]
  },
  {
   "cell_type": "markdown",
   "metadata": {},
   "source": [
    "### Triaxial single power law"
   ]
  },
  {
   "cell_type": "code",
   "execution_count": null,
   "metadata": {
    "tags": []
   },
   "outputs": [],
   "source": [
    "# def usr_log_prior(densfunc,params):\n",
    "#     return 0\n",
    "\n",
    "# densfunc = pdens.triaxial_single_angle_zvecpa\n",
    "# hf.set_densfunc(densfunc,usr_log_prior=usr_log_prior)\n",
    "# pmass.fit(hf, nprocs=nprocs, **fit_kwargs)\n",
    "\n",
    "# densfunc = pdens.triaxial_single_angle_zvecpa_plusexpdisk\n",
    "# hf.set_densfunc(densfunc,usr_log_prior=usr_log_prior)\n",
    "# pmass.fit(hf, nprocs=nprocs, **fit_kwargs)"
   ]
  },
  {
   "cell_type": "markdown",
   "metadata": {},
   "source": [
    "### Triaxial exponential cutoff"
   ]
  },
  {
   "cell_type": "code",
   "execution_count": 16,
   "metadata": {
    "collapsed": true,
    "jupyter": {
     "outputs_hidden": true
    },
    "tags": []
   },
   "outputs": [
    {
     "name": "stdout",
     "output_type": "stream",
     "text": [
      "Setting densfunc to: triaxial_single_cutoff_zvecpa\n",
      "Version is: 100w_2e3n_ksf_v2.03/\n",
      "Using init_type: ML\n",
      "warning: files required for init_type \"ML\" not present, changing init_type to \"uninformed\"\n",
      "init_type: uninformed\n",
      "densfunc_source: triaxial_single_angle_zvecpa\n",
      "source_fit_data_dir: /geir_data/scr/lane/projects/ges-mass/data/fitting/data/gse/AD/-2.0_feh_-0.6/triaxial_single_angle_zvecpa/100w_2e3n_ksf_v2.03/\n",
      "Doing maximum likelihood to find starting point\n",
      "MLE successful\n",
      "MLE result: [ 0.27558301 22.81772573  0.29202672  0.10000562  0.3577982   0.98196773\n",
      "  0.54843432]\n",
      "Running MCMC with 10 processers\n",
      "Generating MCMC samples...\n",
      "sampled 200/2000 per walker\n",
      "mean tau: 19.16489168434044\n",
      "min nit/tau: 8.966582306201\n",
      "[min,max] delta tau: [inf,inf]\n",
      "[min,max] acceptance fraction: [0.24,0.6]\n",
      "total max nit/tau 8.966582306201\n",
      "(nit/tau)/max[(nit/tau)] 1.0\n",
      "---\n",
      "\n",
      "sampled 400/2000 per walker\n",
      "mean tau: 36.5311247964132\n",
      "min nit/tau: 9.182339707353584\n",
      "[min,max] delta tau: [-0.525067065210025,-0.4203793990883441]\n",
      "[min,max] acceptance fraction: [0.26,0.48]\n",
      "total max nit/tau 9.182339707353584\n",
      "(nit/tau)/max[(nit/tau)] 1.0\n",
      "---\n",
      "\n",
      "sampled 600/2000 per walker\n",
      "mean tau: 50.5957219982455\n",
      "min nit/tau: 9.456595085748424\n",
      "[min,max] delta tau: [-0.3279718924554822,-0.22023258057220546]\n",
      "[min,max] acceptance fraction: [0.24,0.44]\n",
      "total max nit/tau 9.456595085748424\n",
      "(nit/tau)/max[(nit/tau)] 1.0\n",
      "---\n",
      "\n",
      "sampled 800/2000 per walker\n",
      "mean tau: 64.58621357200178\n",
      "min nit/tau: 9.573311216814702\n",
      "[min,max] delta tau: [-0.25544319261504866,-0.16973631630066863]\n",
      "[min,max] acceptance fraction: [0.22,0.43]\n",
      "total max nit/tau 9.573311216814702\n",
      "(nit/tau)/max[(nit/tau)] 1.0\n",
      "---\n",
      "\n",
      "sampled 1000/2000 per walker\n",
      "mean tau: 77.22219179755328\n",
      "min nit/tau: 9.893660674919799\n",
      "[min,max] delta tau: [-0.22405511853622198,-0.09798025496580084]\n",
      "[min,max] acceptance fraction: [0.2,0.41]\n",
      "total max nit/tau 9.893660674919799\n",
      "(nit/tau)/max[(nit/tau)] 1.0\n",
      "---\n",
      "\n",
      "sampled 1200/2000 per walker\n",
      "mean tau: 89.09725094279806\n",
      "min nit/tau: 10.232646633190292\n",
      "[min,max] delta tau: [-0.1840255994732166,-0.08247462293634451]\n",
      "[min,max] acceptance fraction: [0.2,0.39]\n",
      "total max nit/tau 10.232646633190292\n",
      "(nit/tau)/max[(nit/tau)] 1.0\n",
      "---\n",
      "\n",
      "sampled 1400/2000 per walker\n",
      "mean tau: 100.36364353621833\n",
      "min nit/tau: 10.43701737062395\n",
      "[min,max] delta tau: [-0.15472278237939857,-0.08992762831905898]\n",
      "[min,max] acceptance fraction: [0.21,0.38]\n",
      "total max nit/tau 10.43701737062395\n",
      "(nit/tau)/max[(nit/tau)] 1.0\n",
      "---\n",
      "\n",
      "sampled 1600/2000 per walker\n",
      "mean tau: 111.16721150558068\n",
      "min nit/tau: 10.858410446082729\n",
      "[min,max] delta tau: [-0.11562334276384022,-0.07810543432872737]\n",
      "[min,max] acceptance fraction: [0.22,0.38]\n",
      "total max nit/tau 10.858410446082729\n",
      "(nit/tau)/max[(nit/tau)] 1.0\n",
      "---\n",
      "\n",
      "sampled 1800/2000 per walker\n",
      "mean tau: 121.63159167210368\n",
      "min nit/tau: 11.210557492265819\n",
      "[min,max] delta tau: [-0.10193555841874687,-0.052456503531467434]\n",
      "[min,max] acceptance fraction: [0.23,0.37]\n",
      "total max nit/tau 11.210557492265819\n",
      "(nit/tau)/max[(nit/tau)] 1.0\n",
      "---\n",
      "\n",
      "sampled 2000/2000 per walker\n",
      "mean tau: 131.0520188623101\n",
      "min nit/tau: 11.488498251117134\n",
      "[min,max] delta tau: [-0.08049846352466727,-0.0562424215633309]\n",
      "[min,max] acceptance fraction: [0.23,0.37]\n",
      "total max nit/tau 11.488498251117134\n",
      "(nit/tau)/max[(nit/tau)] 1.0\n",
      "---\n",
      "\n",
      "Finished, sampled 2000/2000\n",
      "Calculating likelihoods for MCMC samples\n",
      "Calculating isochrone factors\n",
      "Doing fast isochrone factor calculation\n",
      "Unique (J-K) minimum values: [0.30000001 0.5       ]\n",
      "[219.57018643 337.96948108]\n",
      "Calculating mass\n",
      "Batch processing masses in parallel\n",
      "Calculated 2000/2000 masses\n",
      "Doing maximum likelihood\n",
      "MLE successful\n"
     ]
    }
   ],
   "source": [
    "def usr_log_prior(densfunc,params):\n",
    "    assert densfunc is pdens.triaxial_single_cutoff_zvecpa_plusexpdisk\\\n",
    "        or densfunc is pdens.triaxial_single_cutoff_zvecpa\n",
    "    if params[1] < 2.: return -np.inf\n",
    "    if params[1] > 55.: return -np.inf\n",
    "    return 0\n",
    "\n",
    "densfunc = pdens.triaxial_single_cutoff_zvecpa\n",
    "hf.set_densfunc(densfunc,usr_log_prior=usr_log_prior)\n",
    "pmass.fit(hf, nprocs=nprocs, **fit_kwargs)\n",
    "\n",
    "# densfunc = pdens.triaxial_single_cutoff_zvecpa_plusexpdisk\n",
    "# hf.set_densfunc(densfunc,usr_log_prior=usr_log_prior)\n",
    "# pmass.fit(hf, nprocs=nprocs, **fit_kwargs)"
   ]
  },
  {
   "cell_type": "markdown",
   "metadata": {},
   "source": [
    "### Triaxial broken power law"
   ]
  },
  {
   "cell_type": "code",
   "execution_count": null,
   "metadata": {
    "tags": []
   },
   "outputs": [],
   "source": [
    "# def usr_log_prior(densfunc,params):\n",
    "#     assert densfunc is pdens.triaxial_broken_angle_zvecpa_plusexpdisk\\\n",
    "#         or densfunc is pdens.triaxial_broken_angle_zvecpa\n",
    "#     if params[0] > 10.: return -np.inf\n",
    "#     if params[1] > 10.: return -np.inf\n",
    "#     if params[2] < 2.: return -np.inf\n",
    "#     if params[2] > 55.: return -np.inf\n",
    "#     return 0\n",
    "\n",
    "# densfunc = pdens.triaxial_broken_angle_zvecpa\n",
    "# hf.set_densfunc(densfunc,usr_log_prior=usr_log_prior)\n",
    "# pmass.fit(hf, nprocs=nprocs, **fit_kwargs)\n",
    "\n",
    "# densfunc = pdens.triaxial_broken_angle_zvecpa_plusexpdisk\n",
    "# hf.set_densfunc(densfunc,usr_log_prior=usr_log_prior)\n",
    "# pmass.fit(hf, nprocs=nprocs, **fit_kwargs)"
   ]
  },
  {
   "cell_type": "markdown",
   "metadata": {},
   "source": [
    "### Triaxial double broken power law"
   ]
  },
  {
   "cell_type": "code",
   "execution_count": null,
   "metadata": {
    "tags": []
   },
   "outputs": [],
   "source": [
    "# def usr_log_prior(densfunc,params):\n",
    "#     # return 0\n",
    "#     assert densfunc is pdens.triaxial_double_broken_angle_zvecpa_plusexpdisk\\\n",
    "#         or densfunc is pdens.triaxial_double_broken_angle_zvecpa\n",
    "#     if params[0] > 10.: return -np.inf\n",
    "#     if params[1] > 10.: return -np.inf\n",
    "#     if params[2] > 10.: return -np.inf\n",
    "#     #if params[3] < 2.: return -np.inf\n",
    "#     if params[3] > 55.: return -np.inf\n",
    "#     #if params[4] < 2.: return -np.inf\n",
    "#     if params[4] > 55.: return -np.inf\n",
    "#     return 0\n",
    "\n",
    "# densfunc = pdens.triaxial_double_broken_angle_zvecpa\n",
    "# hf.set_densfunc(densfunc,usr_log_prior=usr_log_prior)\n",
    "# pmass.fit(hf, nprocs=nprocs, **fit_kwargs)\n",
    "\n",
    "# densfunc = pdens.triaxial_double_broken_angle_zvecpa_plusexpdisk\n",
    "# hf.set_densfunc(densfunc,usr_log_prior=usr_log_prior)\n",
    "# pmass.fit(hf, nprocs=nprocs, **fit_kwargs)"
   ]
  },
  {
   "cell_type": "markdown",
   "metadata": {},
   "source": [
    "## Fits to data with JRLz selection, GS/E [Fe/H] range"
   ]
  },
  {
   "cell_type": "code",
   "execution_count": 17,
   "metadata": {},
   "outputs": [
    {
     "name": "stdout",
     "output_type": "stream",
     "text": [
      "Loading APOGEE kin. eff. sel. grid from /geir_data/scr/lane/projects/ges-mass/data/ksf/apogee_dr16_l33_gaia_edr3/v2_lb_ps_hb_tp/v2.03_beta_03_6e8_09_1.5e8/kSF_grid_linear_JRLz.dat\n",
      "Using informed init\n",
      "warning: setting init_type to uninformed because densfunc is triaxial_single_angle_zvecpa\n",
      "init_type: uninformed\n",
      "densfunc_source: None\n"
     ]
    }
   ],
   "source": [
    "selec = ['JRLz',]\n",
    "densfunc = pdens.triaxial_single_angle_zvecpa\n",
    "hf = pmass.HaloFit(densfunc=densfunc,\n",
    "                   selec=selec,\n",
    "                   fit_type=fit_type,\n",
    "                   feh_range=feh_range_fit,\n",
    "                   version=version,\n",
    "                   **hf_kwargs)"
   ]
  },
  {
   "cell_type": "markdown",
   "metadata": {},
   "source": [
    "### Triaxial single power law"
   ]
  },
  {
   "cell_type": "code",
   "execution_count": 18,
   "metadata": {
    "tags": []
   },
   "outputs": [
    {
     "name": "stdout",
     "output_type": "stream",
     "text": [
      "Setting densfunc to: triaxial_single_angle_zvecpa_plusexpdisk\n",
      "Version is: 100w_2e3n_ksf_v2.03/\n",
      "Using init_type: ML\n",
      "warning: files required for init_type \"ML\" not present, changing init_type to \"uninformed\"\n",
      "init_type: uninformed\n",
      "densfunc_source: triaxial_single_angle_zvecpa\n",
      "source_fit_data_dir: /geir_data/scr/lane/projects/ges-mass/data/fitting/data/gse/JRLz/-2.0_feh_-0.6/triaxial_single_angle_zvecpa/100w_2e3n_ksf_v2.03/\n",
      "Doing maximum likelihood to find starting point\n",
      "MLE successful\n",
      "MLE result: [1.7699179  0.5479147  0.47869057 0.05684719 0.5        0.57646384\n",
      " 0.6256443 ]\n",
      "Running MCMC with 10 processers\n",
      "Generating MCMC samples...\n",
      "sampled 200/2000 per walker\n",
      "mean tau: 17.42724372807951\n",
      "min nit/tau: 9.001123883043386\n",
      "[min,max] delta tau: [inf,inf]\n",
      "[min,max] acceptance fraction: [0.27,0.55]\n",
      "total max nit/tau 9.001123883043386\n",
      "(nit/tau)/max[(nit/tau)] 1.0\n",
      "---\n",
      "\n",
      "sampled 400/2000 per walker\n",
      "mean tau: 32.36756887056218\n",
      "min nit/tau: 8.430407808568955\n",
      "[min,max] delta tau: [-0.5317024897051781,-0.373461377293968]\n",
      "[min,max] acceptance fraction: [0.29,0.52]\n",
      "total max nit/tau 9.001123883043386\n",
      "(nit/tau)/max[(nit/tau)] 0.9365950205896438\n",
      "---\n",
      "\n",
      "sampled 600/2000 per walker\n",
      "mean tau: 45.38511650149515\n",
      "min nit/tau: 8.913235479596299\n",
      "[min,max] delta tau: [-0.32849442528831513,-0.25960776019378784]\n",
      "[min,max] acceptance fraction: [0.31,0.47]\n",
      "total max nit/tau 9.001123883043386\n",
      "(nit/tau)/max[(nit/tau)] 0.9902358411472756\n",
      "---\n",
      "\n",
      "sampled 800/2000 per walker\n",
      "mean tau: 58.53517108239568\n",
      "min nit/tau: 9.380480949760253\n",
      "[min,max] delta tau: [-0.36859040925367537,-0.14894238275401836]\n",
      "[min,max] acceptance fraction: [0.3,0.44]\n",
      "total max nit/tau 9.380480949760253\n",
      "(nit/tau)/max[(nit/tau)] 1.0\n",
      "---\n",
      "\n",
      "sampled 1000/2000 per walker\n",
      "mean tau: 71.59851790969039\n",
      "min nit/tau: 9.64776665120704\n",
      "[min,max] delta tau: [-0.328881702315801,-0.09788334095971375]\n",
      "[min,max] acceptance fraction: [0.3,0.43]\n",
      "total max nit/tau 9.64776665120704\n",
      "(nit/tau)/max[(nit/tau)] 1.0\n",
      "---\n",
      "\n",
      "sampled 1200/2000 per walker\n",
      "mean tau: 82.15096495824272\n",
      "min nit/tau: 9.500643899131141\n",
      "[min,max] delta tau: [-0.17937450857754492,-0.09945561487708683]\n",
      "[min,max] acceptance fraction: [0.29,0.43]\n",
      "total max nit/tau 9.64776665120704\n",
      "(nit/tau)/max[(nit/tau)] 0.9847505897069462\n",
      "---\n",
      "\n",
      "sampled 1400/2000 per walker\n",
      "mean tau: 91.97955623754972\n",
      "min nit/tau: 9.504558861172999\n",
      "[min,max] delta tau: [-0.14250393713911028,-0.0659513677875003]\n",
      "[min,max] acceptance fraction: [0.27,0.42]\n",
      "total max nit/tau 9.64776665120704\n",
      "(nit/tau)/max[(nit/tau)] 0.9851563791692532\n",
      "---\n",
      "\n",
      "sampled 1600/2000 per walker\n",
      "mean tau: 100.04791686034646\n",
      "min nit/tau: 9.682409251685202\n",
      "[min,max] delta tau: [-0.10862690010433877,-0.046072979121673054]\n",
      "[min,max] acceptance fraction: [0.26,0.41]\n",
      "total max nit/tau 9.682409251685202\n",
      "(nit/tau)/max[(nit/tau)] 1.0\n",
      "---\n",
      "\n",
      "sampled 1800/2000 per walker\n",
      "mean tau: 106.89037639031922\n",
      "min nit/tau: 9.936117006582789\n",
      "[min,max] delta tau: [-0.08781959362912087,-0.018636663048286498]\n",
      "[min,max] acceptance fraction: [0.25,0.41]\n",
      "total max nit/tau 9.936117006582789\n",
      "(nit/tau)/max[(nit/tau)] 1.0\n",
      "---\n",
      "\n",
      "sampled 2000/2000 per walker\n",
      "mean tau: 115.3765010711403\n",
      "min nit/tau: 10.069609774733303\n",
      "[min,max] delta tau: [-0.09701782626540058,-0.050421246240724825]\n",
      "[min,max] acceptance fraction: [0.26,0.41]\n",
      "total max nit/tau 10.069609774733303\n",
      "(nit/tau)/max[(nit/tau)] 1.0\n",
      "---\n",
      "\n",
      "Finished, sampled 2000/2000\n",
      "Calculating likelihoods for MCMC samples\n",
      "Calculating isochrone factors\n",
      "Doing fast isochrone factor calculation\n",
      "Unique (J-K) minimum values: [0.30000001 0.5       ]\n",
      "[219.57018643 337.96948108]\n",
      "Calculating mass\n",
      "Batch processing masses in parallel\n",
      "Calculated 2000/2000 masses\n",
      "Doing maximum likelihood\n",
      "MLE successful\n"
     ]
    }
   ],
   "source": [
    "def usr_log_prior(densfunc,params):\n",
    "    return 0\n",
    "\n",
    "# densfunc = pdens.triaxial_single_angle_zvecpa\n",
    "# hf.set_densfunc(densfunc,usr_log_prior=usr_log_prior)\n",
    "# pmass.fit(hf, nprocs=nprocs, **fit_kwargs)\n",
    "\n",
    "densfunc = pdens.triaxial_single_angle_zvecpa_plusexpdisk\n",
    "hf.set_densfunc(densfunc,usr_log_prior=usr_log_prior)\n",
    "pmass.fit(hf, nprocs=nprocs, **fit_kwargs)"
   ]
  },
  {
   "cell_type": "markdown",
   "metadata": {},
   "source": [
    "### Triaxial exponential cutoff"
   ]
  },
  {
   "cell_type": "code",
   "execution_count": null,
   "metadata": {
    "tags": []
   },
   "outputs": [],
   "source": [
    "# def usr_log_prior(densfunc,params):\n",
    "#     assert densfunc is pdens.triaxial_single_cutoff_zvecpa_plusexpdisk\\\n",
    "#         or densfunc is pdens.triaxial_single_cutoff_zvecpa\n",
    "#     if params[1] < 2.: return -np.inf\n",
    "#     if params[1] > 55.: return -np.inf\n",
    "#     return 0\n",
    "\n",
    "# densfunc = pdens.triaxial_single_cutoff_zvecpa\n",
    "# hf.set_densfunc(densfunc,usr_log_prior=usr_log_prior)\n",
    "# pmass.fit(hf, nprocs=nprocs, **fit_kwargs)\n",
    "\n",
    "# densfunc = pdens.triaxial_single_cutoff_zvecpa_plusexpdisk\n",
    "# hf.set_densfunc(densfunc,usr_log_prior=usr_log_prior)\n",
    "# pmass.fit(hf, nprocs=nprocs, **fit_kwargs)"
   ]
  },
  {
   "cell_type": "markdown",
   "metadata": {},
   "source": [
    "### Triaxial broken power law"
   ]
  },
  {
   "cell_type": "code",
   "execution_count": null,
   "metadata": {
    "tags": []
   },
   "outputs": [],
   "source": [
    "# def usr_log_prior(densfunc,params):\n",
    "#     assert densfunc is pdens.triaxial_broken_angle_zvecpa_plusexpdisk\\\n",
    "#         or densfunc is pdens.triaxial_broken_angle_zvecpa\n",
    "#     if params[0] > 10.: return -np.inf\n",
    "#     if params[1] > 10.: return -np.inf\n",
    "#     if params[2] < 2.: return -np.inf\n",
    "#     if params[2] > 55.: return -np.inf\n",
    "#     return 0\n",
    "\n",
    "# densfunc = pdens.triaxial_broken_angle_zvecpa\n",
    "# hf.set_densfunc(densfunc,usr_log_prior=usr_log_prior)\n",
    "# pmass.fit(hf, nprocs=nprocs, **fit_kwargs)\n",
    "\n",
    "# densfunc = pdens.triaxial_broken_angle_zvecpa_plusexpdisk\n",
    "# hf.set_densfunc(densfunc,usr_log_prior=usr_log_prior)\n",
    "# pmass.fit(hf, nprocs=nprocs, **fit_kwargs)"
   ]
  },
  {
   "cell_type": "markdown",
   "metadata": {},
   "source": [
    "### Triaxial double broken power law"
   ]
  },
  {
   "cell_type": "code",
   "execution_count": null,
   "metadata": {
    "tags": []
   },
   "outputs": [],
   "source": [
    "# def usr_log_prior(densfunc,params):\n",
    "#     # return 0\n",
    "#     assert densfunc is pdens.triaxial_double_broken_angle_zvecpa_plusexpdisk\\\n",
    "#         or densfunc is pdens.triaxial_double_broken_angle_zvecpa\n",
    "#     if params[0] > 10.: return -np.inf\n",
    "#     if params[1] > 10.: return -np.inf\n",
    "#     if params[2] > 10.: return -np.inf\n",
    "#     #if params[3] < 2.: return -np.inf\n",
    "#     if params[3] > 55.: return -np.inf\n",
    "#     #if params[4] < 2.: return -np.inf\n",
    "#     if params[4] > 55.: return -np.inf\n",
    "#     return 0\n",
    "\n",
    "# densfunc = pdens.triaxial_double_broken_angle_zvecpa\n",
    "# hf.set_densfunc(densfunc,usr_log_prior=usr_log_prior)\n",
    "# pmass.fit(hf, nprocs=nprocs, **fit_kwargs)\n",
    "\n",
    "# densfunc = pdens.triaxial_double_broken_angle_zvecpa_plusexpdisk\n",
    "# hf.set_densfunc(densfunc,usr_log_prior=usr_log_prior)\n",
    "# pmass.fit(hf, nprocs=nprocs, **fit_kwargs)"
   ]
  }
 ],
 "metadata": {
  "kernel_info": {
   "name": "python3"
  },
  "kernelspec": {
   "display_name": "Python 3 (ipykernel)",
   "language": "python",
   "name": "python3"
  },
  "language_info": {
   "codemirror_mode": {
    "name": "ipython",
    "version": 3
   },
   "file_extension": ".py",
   "mimetype": "text/x-python",
   "name": "python",
   "nbconvert_exporter": "python",
   "pygments_lexer": "ipython3",
   "version": "3.10.6"
  },
  "nteract": {
   "version": "0.28.0"
  },
  "vscode": {
   "interpreter": {
    "hash": "2c09f9892750024efe5c64805177155c0b3b90c2cacf15a9f18cf8d6a11608de"
   }
  }
 },
 "nbformat": 4,
 "nbformat_minor": 4
}
