{
 "cells": [
  {
   "cell_type": "code",
   "execution_count": null,
   "metadata": {
    "tags": []
   },
   "outputs": [],
   "source": [
    "# ------------------------------------------------------------------------\n",
    "#\n",
    "# TITLE - plot_fit_gse.ipynb\n",
    "# AUTHOR - James Lane\n",
    "# PROJECT - ges-mass\n",
    "#\n",
    "# ------------------------------------------------------------------------\n",
    "#\n",
    "# Docstrings and metadata:\n",
    "'''Plot fits to the GS/E sample Gaia/APOGEE data\n",
    "'''\n",
    "\n",
    "__author__ = \"James Lane\""
   ]
  },
  {
   "cell_type": "code",
   "execution_count": null,
   "metadata": {
    "tags": []
   },
   "outputs": [],
   "source": [
    "### Imports\n",
    "\n",
    "# Basic\n",
    "import os, sys, pdb, warnings, copy, dill as pickle\n",
    "import numpy as np\n",
    "\n",
    "# Matplotlib and plotting \n",
    "import matplotlib\n",
    "import matplotlib.pyplot as plt\n",
    "import corner\n",
    "\n",
    "# Project specific\n",
    "sys.path.insert(0,'../../src/')\n",
    "from ges_mass import mass as pmass\n",
    "from ges_mass import densprofiles as pdens\n",
    "from ges_mass import util as putil\n",
    "from ges_mass import plot as pplot\n",
    "\n",
    "### Notebook setup\n",
    "\n",
    "%matplotlib inline\n",
    "plt.style.use('../../src/mpl/project.mplstyle') # This must be exactly here\n",
    "%config InlineBackend.figure_format = 'retina'\n",
    "%load_ext autoreload\n",
    "%autoreload 2"
   ]
  },
  {
   "cell_type": "markdown",
   "metadata": {
    "tags": []
   },
   "source": [
    "### Keywords, Pathing, Loading, Data Preparation"
   ]
  },
  {
   "cell_type": "code",
   "execution_count": null,
   "metadata": {},
   "outputs": [],
   "source": [
    "# %load ../../src/nb_modules/keywords_pathing_loading_data_prep.py\n",
    "## Keywords\n",
    "cdict = putil.load_config_to_dict()\n",
    "keywords = ['BASE_DIR','APOGEE_DR','APOGEE_RESULTS_VERS','GAIA_DR','NDMOD',\n",
    "            'DMOD_MIN','DMOD_MAX','LOGG_MIN','LOGG_MAX','FEH_MIN','FEH_MAX',\n",
    "            'FEH_MIN_GSE','FEH_MAX_GSE','DF_VERSION','KSF_VERSION','NPROCS',\n",
    "            'RO','VO','ZO']\n",
    "base_dir,apogee_dr,apogee_results_vers,gaia_dr,ndmod,dmod_min,dmod_max,\\\n",
    "    logg_min,logg_max,feh_min,feh_max,feh_min_gse,feh_max_gse,df_version,\\\n",
    "    ksf_version,nprocs,ro,vo,zo = putil.parse_config_dict(cdict,keywords)\n",
    "logg_range = [logg_min,logg_max]\n",
    "feh_range = [feh_min,feh_max]\n",
    "feh_range_gse = [feh_min_gse,feh_max_gse]\n",
    "feh_range_all = [feh_min,feh_max_gse]\n",
    "# feh_range_fit = copy.deepcopy( # Need to choose here\n",
    "\n",
    "\n",
    "## Pathing\n",
    "fit_paths = putil.prepare_paths(base_dir,apogee_dr,apogee_results_vers,gaia_dr,\n",
    "                                df_version,ksf_version)\n",
    "data_dir,version_dir,ga_dir,gap_dir,df_dir,ksf_dir,fit_dir = fit_paths\n",
    "\n",
    "## Filenames\n",
    "fit_filenames = putil.prepare_filenames(ga_dir,gap_dir,feh_range_gse)\n",
    "apogee_SF_filename,apogee_effSF_filename,apogee_effSF_mask_filename,\\\n",
    "    iso_grid_filename,clean_kinematics_filename = fit_filenames\n",
    "\n",
    "## File loading and data preparation\n",
    "fit_stuff,other_stuff = putil.prepare_fitting(fit_filenames,\n",
    "    [ndmod,dmod_min,dmod_max],ro,zo,return_other=True)\n",
    "apogee_effSF_mask,dmap,iso_grid,jkmins,dmods,ds,effsel_grid,apof,\\\n",
    "    allstar_nomask,orbs_nomask = fit_stuff\n",
    "Rgrid,phigrid,zgrid = effsel_grid\n",
    "# apogee_SF,apogee_effSF_grid_inclArea,apogee_effSF_grid_inclArea_Jac = other_stuff\n",
    "\n",
    "# ## Load the distribution functions\n",
    "# df_filename = df_dir+'dfs.pkl'\n",
    "# betas = [0.3,0.8]\n",
    "# dfs = putil.load_distribution_functions(df_filename, betas)\n",
    "\n",
    "# ## Load the APOGEE field information, can also similarly load \n",
    "# ## '...apogee_field_glons.npy', '...apogee_field_glats.npy', \n",
    "# ## '...apogee_field_location_ids.npy'\n",
    "# apogee_fields = np.load(ga_dir+'apogee_fields.npy')"
   ]
  },
  {
   "cell_type": "markdown",
   "metadata": {},
   "source": [
    "### Global Parameters"
   ]
  },
  {
   "cell_type": "code",
   "execution_count": null,
   "metadata": {
    "tags": []
   },
   "outputs": [],
   "source": [
    "# %load ../../src/nb_modules/global_fitting_params.py\n",
    "## general kwargs\n",
    "verbose = True\n",
    "\n",
    "## HaloFit kwargs (ordering follows HaloFit.__init__)\n",
    "# allstar and orbs loaded in prep cell\n",
    "init = None\n",
    "init_type = 'ML'\n",
    "# fit_type provided at runtime\n",
    "mask_disk = True\n",
    "mask_halo = True\n",
    "# densfunc, selec provided at runtime\n",
    "# effsel, effsel_grid, effsel_mask, dmods loaded in prep cell\n",
    "nwalkers = 100\n",
    "nit = int(2e3)\n",
    "ncut = int(1e3)\n",
    "# usr_log_prior provided at runtime\n",
    "n_mass = 2000 # int(nwalkers*(nit-ncut))\n",
    "int_r_range = [2.,70.]\n",
    "iso = None # Will read from iso_grid_filename\n",
    "# iso_filename, jkmins loaded in prep cell\n",
    "# feh_range provided at runtime\n",
    "# logg_range loaded in config cell\n",
    "# fit_dir, gap_dir, ksf_dir loaded in prep cell\n",
    "# version provided at runtime\n",
    "# ro, vo, zo loaded in config cell\n",
    "\n",
    "hf_kwargs = {## HaloFit parameters\n",
    "             'allstar':allstar_nomask,\n",
    "             'orbs':orbs_nomask,\n",
    "             'init':init,\n",
    "             'init_type':init_type,\n",
    "             # 'fit_type':fit_type, # provided at runtime\n",
    "             'mask_disk':mask_disk,\n",
    "             'mask_halo':mask_halo,\n",
    "             ## _HaloFit parameters\n",
    "             # 'densfunc':densfunc, # provided at runtime\n",
    "             # 'selec':selec, # provided at runtime\n",
    "             'effsel':apof,\n",
    "             'effsel_mask':apogee_effSF_mask,\n",
    "             'effsel_grid':effsel_grid,\n",
    "             'dmods':dmods,\n",
    "             'nwalkers':nwalkers,\n",
    "             'nit':nit,\n",
    "             'ncut':ncut,\n",
    "             # 'usr_log_prior':usr_log_prior, # provided at runtime\n",
    "             'n_mass':n_mass,\n",
    "             'int_r_range':int_r_range,\n",
    "             'iso':iso,\n",
    "             'iso_filename':iso_grid_filename,\n",
    "             'jkmins':jkmins,\n",
    "             # 'feh_range':feh_range, # provided at runtime\n",
    "             'logg_range':logg_range,\n",
    "             'fit_dir':fit_dir,\n",
    "             'gap_dir':gap_dir,\n",
    "             'ksf_dir':ksf_dir,\n",
    "             # 'version':version, # provided at runtime\n",
    "             'verbose':verbose,\n",
    "             'ro':ro,\n",
    "             'vo':vo,\n",
    "             'zo':zo}\n",
    "\n",
    "## pmass.fit() function kwargs\n",
    "# nprocs set in config file\n",
    "force_fit = True\n",
    "mle_init = True\n",
    "just_mle = False\n",
    "return_walkers = True\n",
    "optimizer_method = 'Powell'\n",
    "mass_int_type = 'spherical_grid'\n",
    "batch_masses = True\n",
    "make_ml_aic_bic = True\n",
    "calculate_masses = True\n",
    "post_optimization = True\n",
    "mcmc_diagnostic = True\n",
    "\n",
    "fit_kwargs = {# 'nprocs':nprocs, # Normally given at runtime \n",
    "              'force_fit':force_fit,\n",
    "              'mle_init':mle_init,\n",
    "              'just_mle':just_mle,\n",
    "              'return_walkers':return_walkers,\n",
    "              'optimizer_method':optimizer_method,\n",
    "              'mass_int_type':mass_int_type,\n",
    "              'batch_masses':batch_masses,\n",
    "              'make_ml_aic_bic':make_ml_aic_bic,\n",
    "              'calculate_masses':calculate_masses,\n",
    "              'post_optimization':post_optimization,\n",
    "              'mcmc_diagnostic':mcmc_diagnostic,\n",
    "              }"
   ]
  },
  {
   "attachments": {},
   "cell_type": "markdown",
   "metadata": {},
   "source": [
    "## Convenience functions"
   ]
  },
  {
   "cell_type": "code",
   "execution_count": null,
   "metadata": {},
   "outputs": [],
   "source": [
    "def make_corner_with_ml_params(hf):\n",
    "    '''Convenience function to make a corner plot with the optimized\n",
    "    (initial and post) parameters, the ML sample from the chain, and the\n",
    "    median parameters from the chain.\n",
    "    '''\n",
    "    fig = pplot.plot_corner(hf,**corner_kwargs)\n",
    "\n",
    "    # Add the best-fitting model\n",
    "    labels = ['Init Optimization','Post Optimization','MCMC Max(L)',\n",
    "              'MCMC Medians']\n",
    "    colors = ['DarkGreen','DodgerBlue','Crimson','Black']\n",
    "    # linestyles = ['-','--','-.',':']\n",
    "    params = [hf.get_ml_params('init'),\n",
    "            hf.get_ml_params('post'),\n",
    "            hf.get_ml_params('mcmc_ml'),\n",
    "            hf.get_ml_params('mcmc_median'),]\n",
    "    for i,pm in enumerate(params):\n",
    "        params[i] = pdens.denormalize_parameters(pm, hf.densfunc).flatten()\n",
    "    \n",
    "    for i in range(len(params)):\n",
    "        overplot_lines_kwargs = {'color':colors[i],\n",
    "                                'label':labels[i],\n",
    "                                'alpha':1.,\n",
    "                                'lw':2.}\n",
    "        corner.overplot_lines(fig, params[i], **overplot_lines_kwargs)\n",
    "    \n",
    "    # Legend axis\n",
    "    axl = fig.add_axes([0.7,0.7,0.1,0.1])\n",
    "    axl.axis('off')\n",
    "    for i in range(len(params)):\n",
    "        axl.plot(0,0,color=colors[i],label=labels[i])\n",
    "    axl.legend(loc='center',frameon=False,fontsize=16)\n",
    "    \n",
    "    return fig"
   ]
  },
  {
   "cell_type": "markdown",
   "metadata": {},
   "source": [
    "## Plotting parameters"
   ]
  },
  {
   "cell_type": "code",
   "execution_count": null,
   "metadata": {},
   "outputs": [],
   "source": [
    "corner_kwargs={'samples':None,\n",
    "               'plot_mass':False,\n",
    "               'thin':None,\n",
    "               'thin_to':int(1e5),\n",
    "               'quantiles':[0.16,0.5,0.84],\n",
    "               'show_titles':True,\n",
    "               'truths':None,\n",
    "               'corner_kwargs':{}}"
   ]
  },
  {
   "attachments": {},
   "cell_type": "markdown",
   "metadata": {},
   "source": [
    "## Plot the best-fitting density profile for each GS/E sample"
   ]
  },
  {
   "cell_type": "code",
   "execution_count": null,
   "metadata": {},
   "outputs": [],
   "source": [
    "feh_range_fit = copy.deepcopy(feh_range_gse)\n",
    "version = '100w_2e3n'\n",
    "fit_type = 'gse'"
   ]
  },
  {
   "attachments": {},
   "cell_type": "markdown",
   "metadata": {},
   "source": [
    "### e-Lz selection\n",
    "Best density profile is `SC+D`"
   ]
  },
  {
   "cell_type": "code",
   "execution_count": null,
   "metadata": {},
   "outputs": [],
   "source": [
    "feh_range_fit = copy.deepcopy(feh_range_gse)\n",
    "version = '100w_2e3n'\n",
    "fit_type = 'gse'\n",
    "selec = ['eLz',]\n",
    "densfunc = pdens.triaxial_single_cutoff_zvecpa_plusexpdisk\n",
    "def usr_log_prior(densfunc,params):\n",
    "    return None\n",
    "hf = pmass.HaloFit(densfunc=densfunc,\n",
    "                   selec=selec,\n",
    "                   fit_type=fit_type,\n",
    "                   feh_range=feh_range_fit,\n",
    "                   version=version,\n",
    "                   **hf_kwargs)\n",
    "hf.get_results()\n",
    "hf.get_loglike_ml_aic_bic()"
   ]
  },
  {
   "cell_type": "code",
   "execution_count": null,
   "metadata": {},
   "outputs": [],
   "source": [
    "fig = make_corner_with_ml_params(hf)"
   ]
  },
  {
   "attachments": {},
   "cell_type": "markdown",
   "metadata": {},
   "source": [
    "### AD selection\n",
    "Best density profile is `SC`"
   ]
  },
  {
   "cell_type": "code",
   "execution_count": null,
   "metadata": {
    "tags": []
   },
   "outputs": [],
   "source": [
    "feh_range_fit = copy.deepcopy(feh_range_gse)\n",
    "version = '100w_2e3n'\n",
    "fit_type = 'gse'\n",
    "selec = ['AD',]\n",
    "densfunc = pdens.triaxial_single_cutoff_zvecpa\n",
    "def usr_log_prior(densfunc,params):\n",
    "    return None\n",
    "hf = pmass.HaloFit(densfunc=densfunc,\n",
    "                   selec=selec,\n",
    "                   fit_type=fit_type,\n",
    "                   feh_range=feh_range_fit,\n",
    "                   version=version,\n",
    "                   **hf_kwargs)\n",
    "hf.get_results()\n",
    "hf.get_loglike_ml_aic_bic()"
   ]
  },
  {
   "cell_type": "code",
   "execution_count": null,
   "metadata": {},
   "outputs": [],
   "source": [
    "fig = make_corner_with_ml_params(hf)"
   ]
  },
  {
   "attachments": {},
   "cell_type": "markdown",
   "metadata": {},
   "source": [
    "### JRLz selection\n",
    "Best density profile is `SC+D`"
   ]
  },
  {
   "cell_type": "code",
   "execution_count": null,
   "metadata": {
    "tags": []
   },
   "outputs": [],
   "source": [
    "feh_range_fit = copy.deepcopy(feh_range_gse)\n",
    "version = '100w_2e3n'\n",
    "fit_type = 'gse'\n",
    "selec = ['JRLz',]\n",
    "densfunc = pdens.triaxial_single_angle_zvecpa_plusexpdisk\n",
    "def usr_log_prior(densfunc,params):\n",
    "    return None\n",
    "hf = pmass.HaloFit(densfunc=densfunc,\n",
    "                   selec=selec,\n",
    "                   fit_type=fit_type,\n",
    "                   feh_range=feh_range_fit,\n",
    "                   version=version,\n",
    "                   **hf_kwargs)\n",
    "hf.get_results()\n",
    "hf.get_loglike_ml_aic_bic()"
   ]
  },
  {
   "cell_type": "code",
   "execution_count": null,
   "metadata": {},
   "outputs": [],
   "source": [
    "fig = make_corner_with_ml_params(hf)"
   ]
  },
  {
   "attachments": {},
   "cell_type": "markdown",
   "metadata": {},
   "source": [
    "### Plot the best-fitting density profile for the whole sample\n",
    "Best is `SPL+D`"
   ]
  },
  {
   "cell_type": "code",
   "execution_count": null,
   "metadata": {},
   "outputs": [],
   "source": [
    "feh_range_fit = copy.deepcopy(feh_range_all)\n",
    "version = '100w_2e3n'\n",
    "fit_type = 'all'\n",
    "selec = None\n",
    "densfunc = pdens.triaxial_single_angle_zvecpa_plusexpdisk\n",
    "def usr_log_prior(densfunc,params):\n",
    "    return None\n",
    "hf = pmass.HaloFit(densfunc=densfunc,\n",
    "                   selec=selec,\n",
    "                   fit_type=fit_type,\n",
    "                   feh_range=feh_range_fit,\n",
    "                   version=version,\n",
    "                   **hf_kwargs)\n",
    "hf.get_results()\n",
    "hf.get_loglike_ml_aic_bic()"
   ]
  },
  {
   "cell_type": "code",
   "execution_count": null,
   "metadata": {},
   "outputs": [],
   "source": [
    "fig = make_corner_with_ml_params(hf)"
   ]
  },
  {
   "attachments": {},
   "cell_type": "markdown",
   "metadata": {},
   "source": [
    "## Now examine the 1D distributions of parameters, and look for ways to organize them by likelihood"
   ]
  },
  {
   "cell_type": "code",
   "execution_count": null,
   "metadata": {},
   "outputs": [],
   "source": [
    "feh_range_fit = copy.deepcopy(feh_range_gse)\n",
    "version = '100w_2e3n'\n",
    "fit_type = 'gse'\n",
    "selec = ['AD',]\n",
    "densfunc = pdens.triaxial_single_cutoff_zvecpa_plusexpdisk\n",
    "def usr_log_prior(densfunc,params):\n",
    "    return None\n",
    "hf = pmass.HaloFit(densfunc=densfunc,\n",
    "                   selec=selec,\n",
    "                   fit_type=fit_type,\n",
    "                   feh_range=feh_range_fit,\n",
    "                   version=version,\n",
    "                   **hf_kwargs)\n",
    "hf.get_results()\n",
    "hf.get_loglike_ml_aic_bic()"
   ]
  },
  {
   "attachments": {},
   "cell_type": "markdown",
   "metadata": {},
   "source": [
    "### Histogram of parameters"
   ]
  },
  {
   "cell_type": "code",
   "execution_count": null,
   "metadata": {},
   "outputs": [],
   "source": [
    "fig = plt.figure(figsize=(20,8))\n",
    "axs = fig.subplots(nrows=2,ncols=4).flatten()\n",
    "\n",
    "# Plot the data\n",
    "samples = hf.samples\n",
    "samples = pdens.denormalize_parameters(samples, hf.densfunc)\n",
    "\n",
    "loglike = hf.loglike\n",
    "n_samples,n_params = samples.shape\n",
    "param_names = pdens.get_densfunc_mcmc_labels(hf.densfunc, physical_units=True)\n",
    "labels = ['Init Optimization','Post Optimization','MCMC Max(L)',\n",
    "              'MCMC Medians']\n",
    "colors = ['DarkGreen','DodgerBlue','Crimson','Black']\n",
    "params = [hf.get_ml_params('init'),\n",
    "          hf.get_ml_params('post'),\n",
    "          hf.get_ml_params('mcmc_ml'),\n",
    "          hf.get_ml_params('mcmc_median'),]\n",
    "for i,pm in enumerate(params):\n",
    "    params[i] = pdens.denormalize_parameters(pm, hf.densfunc).flatten()\n",
    "\n",
    "for i in range(8):\n",
    "    if i >= n_params:\n",
    "        axs[i].axis('off')\n",
    "        continue\n",
    "    axs[i].hist(samples[:,i],histtype='step',bins=20,color='Black')\n",
    "    for j,p in enumerate(params):\n",
    "        axs[i].axvline(p[i],color=colors[j],lw=2,label=labels[j])\n",
    "    if i == 0:\n",
    "        axs[i].legend(loc='upper left',fontsize=8)\n",
    "    if i in [0,4]:\n",
    "        axs[i].set_ylabel('N')\n",
    "    axs[i].set_xlabel(param_names[i])\n",
    "\n",
    "#fig.subplots_adjust()\n",
    "fig.show()"
   ]
  },
  {
   "attachments": {},
   "cell_type": "markdown",
   "metadata": {},
   "source": [
    "Parameters indexed by likelihood"
   ]
  },
  {
   "cell_type": "code",
   "execution_count": null,
   "metadata": {},
   "outputs": [],
   "source": []
  }
 ],
 "metadata": {
  "kernel_info": {
   "name": "python3"
  },
  "kernelspec": {
   "display_name": "phd",
   "language": "python",
   "name": "python3"
  },
  "language_info": {
   "codemirror_mode": {
    "name": "ipython",
    "version": 3
   },
   "file_extension": ".py",
   "mimetype": "text/x-python",
   "name": "python",
   "nbconvert_exporter": "python",
   "pygments_lexer": "ipython3",
   "version": "3.10.6"
  },
  "nteract": {
   "version": "0.28.0"
  },
  "vscode": {
   "interpreter": {
    "hash": "2c09f9892750024efe5c64805177155c0b3b90c2cacf15a9f18cf8d6a11608de"
   }
  }
 },
 "nbformat": 4,
 "nbformat_minor": 4
}
