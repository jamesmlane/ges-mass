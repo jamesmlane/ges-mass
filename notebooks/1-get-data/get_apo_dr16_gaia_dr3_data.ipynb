{
 "cells": [
  {
   "cell_type": "code",
   "execution_count": null,
   "metadata": {},
   "outputs": [],
   "source": [
    "# ------------------------------------------------------------------------\n",
    "#\n",
    "# TITLE - get_apo_dr16_gaia_dr3.ipynb\n",
    "# PROJECT - ges-mass\n",
    "#\n",
    "# ------------------------------------------------------------------------\n",
    "#\n",
    "# Docstrings and metadata:\n",
    "'''get Gaia DR3 and APOGEE DR16 data'''\n",
    "\n",
    "__author__ = \"James Lane\""
   ]
  },
  {
   "cell_type": "code",
   "execution_count": null,
   "metadata": {},
   "outputs": [],
   "source": [
    "### Imports\n",
    "import os,sys\n",
    "import numpy as np\n",
    "import dill as pickle\n",
    "\n",
    "# Set APOGEE version for the package, l33 is for DR16\n",
    "apogee_results_vers = 'l33'\n",
    "# Year 7 is appropriate for DR16 (l33)\n",
    "apo_combined_select_year = 7\n",
    "os.environ['RESULTS_VERS'] = apogee_results_vers\n",
    "\n",
    "# APOGEE, Gaia\n",
    "import apogee.tools.read as apread\n",
    "import apogee.select as apsel\n",
    "import apogee.tools as apotools\n",
    "from gaia_tools import xmatch\n",
    "\n",
    "# Project-specific\n",
    "sys.path.append('../../src/')\n",
    "from ges_mass import util as putil"
   ]
  },
  {
   "cell_type": "code",
   "execution_count": null,
   "metadata": {},
   "outputs": [],
   "source": [
    "### Notebook setup\n",
    "%load_ext autoreload\n",
    "%autoreload 2"
   ]
  },
  {
   "cell_type": "code",
   "execution_count": null,
   "metadata": {},
   "outputs": [],
   "source": [
    "### Keywords\n",
    "\n",
    "# Force load different data products even they exist (overwrite them)?\n",
    "force_load_allstar = True\n",
    "force_load_apogeeSF = True\n",
    "force_load_statIndx = True\n",
    "force_load_gaia = True\n",
    "\n",
    "# Keywords for APOGEE allstar (see apread.allStar.__doc__)\n",
    "allstar_main = True # Only select stars in the main survey\n",
    "allstar_rmdups = True # Remove duplicates\n",
    "allstar_rmcomissioning = True # Remove comissioning data\n",
    "allstar_use_astroNN_abundances = False # replace ASPCAP w/ astroNN abundances\n",
    "allstar_use_astroNN_distances = True # Add in astroNN distances\n",
    "allstar_use_astroNN_ages = False # Add in astroNN ages\n",
    "swap_in_edr3_distances = True # Add in distances calculated with eDR3\n",
    "\n",
    "# APOGEE and Gaia data release information\n",
    "apogee_dr = 'dr16' # dr16 or dr17\n",
    "gaia_dr = 'edr3' # dr2 or edr3\n",
    "\n",
    "# Sanity\n",
    "assert apotools.path._APOGEE_REDUX == apogee_results_vers,\\\n",
    "    'Not using correct results version!'"
   ]
  },
  {
   "cell_type": "code",
   "execution_count": null,
   "metadata": {},
   "outputs": [],
   "source": [
    "### Pathing\n",
    "\n",
    "# Outputs\n",
    "data_dir_base = '/geir_data/scr/lane/projects/ges-mass/data/gaia_apogee/'\n",
    "data_dir = data_dir_base+'apogee_'+apogee_dr+'_'+apogee_results_vers+\\\n",
    "                         '_gaia_'+gaia_dr+'/'\n",
    "os.makedirs(data_dir, exist_ok=True)\n",
    "\n",
    "allstar_filename = data_dir+'apogee_allstar.npy'\n",
    "apogeeSF_filename = data_dir+'apogee_SF.dat'\n",
    "statIndx_filename = data_dir+'apogee_statIndx.npy'\n",
    "gaia_data_filename = data_dir+'gaia_data.npy'\n",
    "gaia_apogee_matches_filename = data_dir+'gaia_apogee_matches.npy'"
   ]
  },
  {
   "cell_type": "markdown",
   "metadata": {},
   "source": [
    "# Get APOGEE Data"
   ]
  },
  {
   "cell_type": "code",
   "execution_count": null,
   "metadata": {},
   "outputs": [],
   "source": [
    "# Get data\n",
    "if not force_load_allstar and os.path.exists(allstar_filename):\n",
    "    print('Loading pre-computed allstar from '+allstar_filename)\n",
    "    allstar = np.load(allstar_filename)\n",
    "else:\n",
    "    print('Loading APOGEE from results version: '+apogee_results_vers)\n",
    "    allstar = apread.allStar(main=allstar_main, rmdups=allstar_rmdups, \n",
    "        use_astroNN_abundances=allstar_use_astroNN_abundances,\n",
    "        use_astroNN_distances=allstar_use_astroNN_distances,\n",
    "        use_astroNN_ages=allstar_use_astroNN_ages)\n",
    "    print('Saving allstar as: '+allstar_filename)\n",
    "    np.save(allstar_filename, allstar)\n",
    "    # Automatically force the rest because you loaded a new allstar\n",
    "    force_load_apogeeSF = True\n",
    "    force_load_statIndx = True\n",
    "    force_load_gaia = True"
   ]
  },
  {
   "cell_type": "markdown",
   "metadata": {},
   "source": [
    "# Get the APOGEE statistical sample\n",
    "This part will take awhile, a few hours probably"
   ]
  },
  {
   "cell_type": "code",
   "execution_count": null,
   "metadata": {},
   "outputs": [],
   "source": [
    "# Get selection function\n",
    "if not force_load_apogeeSF and os.path.exists(apogeeSF_filename):\n",
    "    print('Loading pre-computed selection function from '+apogeeSF_filename)\n",
    "    with open(apogeeSF_filename, 'rb') as f:\n",
    "        apo = pickle.load(f)\n",
    "else:\n",
    "    apo = apsel.apogeeCombinedSelect(year=apo_combined_select_year)\n",
    "    with open(apogeeSF_filename, 'wb') as f:\n",
    "        pickle.dump(apo,f)\n",
    "    # Automatically force the rest\n",
    "    force_load_statIndx = True\n",
    "    force_load_gaia = True\n",
    "\n",
    "# Make statistical sample\n",
    "if not force_load_statIndx and os.path.exists(statIndx_filename):\n",
    "    print('Loading pre-computed statistical sample from '+statIndx_filename)\n",
    "    statIndx = np.load(statIndx_filename)\n",
    "else:\n",
    "    statIndx = apo.determine_statistical(allstar)\n",
    "    np.save(statIndx_filename, statIndx)\n",
    "    # Automatically force the rest\n",
    "    force_load_gaia = True"
   ]
  },
  {
   "cell_type": "code",
   "execution_count": null,
   "metadata": {},
   "outputs": [],
   "source": [
    "# Save some information about the APOGEE selection function fields for use \n",
    "# elsewhere\n",
    "apo_field = apo._apogeeField\n",
    "glons = apo_field['GLON']\n",
    "glats = apo_field['GLAT']\n",
    "locids = apo_field['LOCATION_ID']\n",
    "\n",
    "np.save(data_dir+'apogee_field_glons.npy',glons)\n",
    "np.save(data_dir+'apogee_field_glats.npy',glats)\n",
    "np.save(data_dir+'apogee_field_location_ids.npy',locids)\n",
    "np.save(data_dir+'apogee_fields.npy',apo_field)"
   ]
  },
  {
   "cell_type": "markdown",
   "metadata": {},
   "source": [
    "## Get the Gaia eDR3 data"
   ]
  },
  {
   "cell_type": "code",
   "execution_count": null,
   "metadata": {},
   "outputs": [],
   "source": [
    "if not force_load_gaia and os.path.exists(gaia_data_filename)\\\n",
    "                       and os.path.exists(gaia_apogee_matches_filename):\n",
    "    print('Loading Gaia data from '+gaia_data_filename)\n",
    "    print('Loading Gaia-APOGEE matches from '+gaia_apogee_matches_filename)\n",
    "    gaia_data = np.load(gaia_data_filename)\n",
    "    matches_index = np.load(gaia_apogee_matches_filename)\n",
    "else:\n",
    "    if gaia_dr == 'edr3':\n",
    "        xcat_path = 'vizier:I/350/gaiaedr3'\n",
    "    gaia_data, matches_indx = xmatch.cds(allstar[statIndx], \n",
    "                                             colRA='RA', colDec='DEC', \n",
    "                                             xcat=xcat_path, \n",
    "                                             gaia_all_columns=True)\n",
    "    np.save(gaia_data_filename, gaia_data)\n",
    "    np.save(gaia_apogee_matches_filename, matches_indx)"
   ]
  },
  {
   "cell_type": "markdown",
   "metadata": {},
   "source": [
    "## Swap in Gaia eDR3 AstroNN distances if requested"
   ]
  },
  {
   "cell_type": "code",
   "execution_count": null,
   "metadata": {},
   "outputs": [],
   "source": [
    "if swap_in_edr3_distances:\n",
    "    allstar_new,_ = putil.swap_in_edr3_distances_to_dr16(allstar,\n",
    "        keep_old_distances=True,return_match=True)\n",
    "    \n",
    "    print('Saving allstar with eDR3 AstroNN distances as: '+allstar_filename)\n",
    "    np.save(allstar_filename, allstar_new)"
   ]
  }
 ],
 "metadata": {
  "kernel_info": {
   "name": "python3"
  },
  "kernelspec": {
   "display_name": "Python 3 (ipykernel)",
   "language": "python",
   "name": "python3"
  },
  "language_info": {
   "codemirror_mode": {
    "name": "ipython",
    "version": 3
   },
   "file_extension": ".py",
   "mimetype": "text/x-python",
   "name": "python",
   "nbconvert_exporter": "python",
   "pygments_lexer": "ipython3",
   "version": "3.10.6"
  },
  "nteract": {
   "version": "0.22.0"
  }
 },
 "nbformat": 4,
 "nbformat_minor": 4
}
