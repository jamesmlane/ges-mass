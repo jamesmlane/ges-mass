{
 "cells": [
  {
   "cell_type": "code",
   "execution_count": null,
   "metadata": {},
   "outputs": [],
   "source": [
    "# ------------------------------------------------------------------------\n",
    "#\n",
    "# TITLE - apo_mock_imf\n",
    "# AUTHOR - James Lane\n",
    "# PROJECT - ges-mass\n",
    "#\n",
    "# ------------------------------------------------------------------------\n",
    "#\n",
    "# Docstrings and metadata:\n",
    "'''Create the framework to generate mock APOGEE realizations of the stellar \n",
    "halo that can be used to test fitting routines. Investigate IMF sampling\n",
    "'''\n",
    "\n",
    "__author__ = \"James Lane\""
   ]
  },
  {
   "cell_type": "code",
   "execution_count": null,
   "metadata": {},
   "outputs": [],
   "source": [
    "### Imports\n",
    "\n",
    "## Basic\n",
    "import numpy as np\n",
    "import sys, os, pdb, copy, glob, subprocess, warnings, dill as pickle\n",
    "\n",
    "## Matplotlib\n",
    "# import matplotlib as mpl\n",
    "from matplotlib import pyplot as plt\n",
    "\n",
    "## scipy\n",
    "import scipy.integrate\n",
    "import scipy.interpolate\n",
    "\n",
    "## Project-specific\n",
    "sys.path.insert(0,'../../../src/')\n",
    "# import sample_project.module as project_module\n",
    "\n",
    "### Scale parameters\n",
    "ro = 8.275\n",
    "vo = 220\n",
    "zo = 0.0208 # Bennett+ 2019\n",
    "\n",
    "### Notebook setup\n",
    "%matplotlib inline\n",
    "plt.style.use('../../../src/mpl/project.mplstyle') # This must be exactly here\n",
    "%config InlineBackend.figure_format = 'retina'\n",
    "%load_ext autoreload\n",
    "%autoreload 2"
   ]
  },
  {
   "cell_type": "markdown",
   "metadata": {},
   "source": [
    "## Functions"
   ]
  },
  {
   "cell_type": "code",
   "execution_count": null,
   "metadata": {},
   "outputs": [],
   "source": [
    "def chabrier_imf(m,k=0.0193,A=1.):\n",
    "    '''chabrier_imf:\n",
    "    Chabrier initial mass function\n",
    "    '''\n",
    "    k = 0.0193 # Equalizes m<1 and m>1 at m=1\n",
    "    a = 2.3\n",
    "    \n",
    "    if not isinstance(m,np.ndarray):\n",
    "        m = np.atleast_1d(m)\n",
    "    ##fi\n",
    "    \n",
    "    where_m_gt_1 = m>1\n",
    "    Nm = np.empty(len(m))\n",
    "    Nm[~where_m_gt_1] = (0.158/(np.log(10)*m[~where_m_gt_1]))\\\n",
    "                        *np.exp(-(np.log10(m[~where_m_gt_1])-np.log10(0.08))**2\\\n",
    "                               /(2*0.69**2))\n",
    "    Nm[where_m_gt_1] = k*m[where_m_gt_1]**(-a)\n",
    "    Nm[m<0.01] = 0\n",
    "    return A*Nm\n",
    "#def\n",
    "\n",
    "def kroupa_imf(m,k1=1.):\n",
    "    '''kroupa_imf:\n",
    "    Kroupa initial mass function\n",
    "    '''\n",
    "    a1,a2,a3 = 0.3,1.3,2.3\n",
    "    k2 = 0.08*k1\n",
    "    k3 = 0.5*k2\n",
    "    \n",
    "    if not isinstance(m,np.ndarray):\n",
    "        m = np.atleast_1d(m)\n",
    "    ##fi\n",
    "    \n",
    "    where_m_1 = np.logical_and(m>=0.01,m<0.08)\n",
    "    where_m_2 = np.logical_and(m>=0.08,m<0.5)\n",
    "    where_m_3 = m>=0.5\n",
    "    Nm = np.empty(len(m))\n",
    "    Nm[where_m_1] = k1*m[where_m_1]**(-a1)\n",
    "    Nm[where_m_2] = k2*m[where_m_2]**(-a2)\n",
    "    Nm[where_m_3] = k3*m[where_m_3]**(-a3)\n",
    "    Nm[m<0.01] = 0\n",
    "    return Nm\n",
    "#def"
   ]
  },
  {
   "cell_type": "markdown",
   "metadata": {},
   "source": [
    "### Estimate the average mass of the IMFs over the default mass range (0.1 to 100)"
   ]
  },
  {
   "cell_type": "code",
   "execution_count": null,
   "metadata": {},
   "outputs": [],
   "source": [
    "ms = np.logspace(-1,2,100)\n",
    "np.average(ms,weights=chabrier_imf(ms))"
   ]
  },
  {
   "cell_type": "markdown",
   "metadata": {},
   "source": [
    "### Integrate the IMFs"
   ]
  },
  {
   "cell_type": "code",
   "execution_count": null,
   "metadata": {},
   "outputs": [],
   "source": [
    "scipy.integrate.quad(chabrier_imf, a=1.1, b=3)[0]"
   ]
  },
  {
   "cell_type": "code",
   "execution_count": null,
   "metadata": {},
   "outputs": [],
   "source": [
    "scipy.integrate.quad(chabrier_imf, a=3, b=np.inf)[0]"
   ]
  },
  {
   "cell_type": "code",
   "execution_count": null,
   "metadata": {},
   "outputs": [],
   "source": [
    "# scipy.integrate.quad(chabrier_imf, a=0.01, b=np.inf)\n",
    "# scipy.integrate.quad(chabrier_imf, a=0.01, b=100)\n",
    "# scipy.integrate.quad(kroupa_imf, a=0.01, b=np.inf)\n",
    "# scipy.integrate.quad(kroupa_imf, a=0.01, b=100)"
   ]
  },
  {
   "cell_type": "markdown",
   "metadata": {},
   "source": [
    "### Plot the IMFs"
   ]
  },
  {
   "cell_type": "code",
   "execution_count": null,
   "metadata": {},
   "outputs": [],
   "source": [
    "ms = np.logspace(-2,2,100)\n",
    "\n",
    "fig = plt.figure()\n",
    "ax = fig.add_subplot(111)\n",
    "\n",
    "ax.plot(np.log10(ms), np.log10(chabrier_imf(ms) ), color='DodgerBlue',\n",
    "        label='Chabrier', linestyle='solid', zorder=1)\n",
    "ax.plot(np.log10(ms), np.log10(kroupa_imf(ms,0.5) ), color='Red', \n",
    "        label='Kroupa', linestyle='dashed', zorder=2)\n",
    "ax.legend()\n",
    "\n",
    "ax.set_xlabel(r'$\\log_{10}(m)$')\n",
    "ax.set_ylabel(r'$\\xi$')\n",
    "\n",
    "fig.show()"
   ]
  },
  {
   "cell_type": "markdown",
   "metadata": {},
   "source": [
    "## Determine the cumulative probability functions, then the inverse cumulative probability functions"
   ]
  },
  {
   "cell_type": "code",
   "execution_count": null,
   "metadata": {},
   "outputs": [],
   "source": [
    "def cimf(f,b,a=0.01,intargs=()):\n",
    "    '''cimf:\n",
    "    Calculate the cumulative of the initial mass function\n",
    "    '''\n",
    "    return scipy.integrate.quad(f,a,b,args=intargs)[0]\n",
    "#def\n",
    "\n",
    "def make_icimf_interpolator(imf,m_min=0.01,m_max=100):\n",
    "    '''make_icimf_interpolator:\n",
    "    Make inverse interpolator for the cumulative initial mass function which \n",
    "    allows you to map normalized (0 to 1) cumulative IMF onto mass \n",
    "    (m_min to m_max). Note that the interpolator maps onto log10(m).\n",
    "    \n",
    "    Args:\n",
    "        imf (callable) - \n",
    "        m_min (float) - minimum mass (must be > 0)\n",
    "        m_max (float) - maximum mass (must be finite)\n",
    "        \n",
    "    Returns:\n",
    "        icimf_interp (scipy.interpolate.InterpolatedUnivariateSpline) - icimf\n",
    "            interpolated spline\n",
    "    '''\n",
    "    assert m_min > 0 and np.isfinite(m_max), 'mass range out of bounds'\n",
    "    ms = np.logspace(np.log10(m_min),np.log10(m_max),1000)\n",
    "    cml_imf = np.empty(len(ms))\n",
    "    for i in range(len(cml_imf)):\n",
    "        cml_imf[i] = cimf(imf,ms[i],a=m_min)\n",
    "    ###i\n",
    "    \n",
    "    # make sure that the cumulative IMF is normalized to 1\n",
    "    cml_imf /= cml_imf[-1]\n",
    "\n",
    "    return scipy.interpolate.InterpolatedUnivariateSpline(cml_imf,np.log10(ms),\n",
    "                                                          k=3)\n",
    "    \n",
    "    # xi_min = _m_to_xi(m_min,a=1.)\n",
    "    # xi_max = _m_to_xi(m_max,a=1.)\n",
    "    # xis= numpy.arange(xi_min,xi_max,1e-4)\n",
    "    # ms= _xi_to_m(xis,a=1.)\n",
    "\n",
    "    # mnorm= mass(self._denspot,self._rmax,use_physical=False)\n",
    "    # if self._rmin_sampling > 0:\n",
    "    #     ms-= mass(self._denspot,self._rmin_sampling)\n",
    "    #     mnorm-= mass(self._denspot,self._rmin_sampling)\n",
    "    # ms/= mnorm\n",
    "    # # Add total mass point\n",
    "    # if numpy.isinf(self._rmax):\n",
    "    #     xis= numpy.append(xis,1)\n",
    "    #     ms= numpy.append(ms,1)\n",
    "    \n",
    "    # return scipy.interpolate.InterpolatedUnivariateSpline(ms,xis,k=3)\n",
    "#def\n",
    "\n",
    "# def _m_to_xi(m,a=1.):\n",
    "#     out= numpy.divide((m/a-1.),(m/a+1.),where=True^numpy.isinf(r))\n",
    "#     if numpy.any(numpy.isinf(m)):\n",
    "#         if hasattr(m,'__len__'):\n",
    "#             out[numpy.isinf(m)]= 1.\n",
    "#         else:\n",
    "#             return 1.\n",
    "#     return out\n",
    "# #def\n",
    "\n",
    "# def _xi_to_m(xi,a=1.):\n",
    "#     return a*np.divide(1.+xi,1.-xi)\n",
    "# #def"
   ]
  },
  {
   "cell_type": "code",
   "execution_count": null,
   "metadata": {},
   "outputs": [],
   "source": [
    "chabrier_icimf_interp = make_icimf_interpolator(chabrier_imf)"
   ]
  },
  {
   "cell_type": "code",
   "execution_count": null,
   "metadata": {},
   "outputs": [],
   "source": [
    "kroupa_icimf_interp = make_icimf_interpolator(kroupa_imf)"
   ]
  },
  {
   "cell_type": "code",
   "execution_count": null,
   "metadata": {},
   "outputs": [],
   "source": [
    "fig = plt.figure(figsize=(8,3))\n",
    "axs = fig.subplots(nrows=1,ncols=2)\n",
    "\n",
    "icimfs = np.arange(0,1,0.001)\n",
    "ms = np.logspace(-2,2,100)\n",
    "\n",
    "chabrier_cimf = np.empty(len(ms))\n",
    "kroupa_cimf = np.empty(len(ms))\n",
    "for i in range(len(ms)):\n",
    "    chabrier_cimf[i] = cimf(chabrier_imf,ms[i],a=0.01)\n",
    "    kroupa_cimf[i] = cimf(kroupa_imf,ms[i],a=0.01)\n",
    "###i\n",
    "chabrier_cimf /= chabrier_cimf[-1]\n",
    "kroupa_cimf /= kroupa_cimf[-1]\n",
    "\n",
    "axs[0].plot(chabrier_icimf_interp(icimfs), icimfs, color='DodgerBlue',\n",
    "            linestyle='solid', zorder=1, linewidth=2., label='Chabrier')\n",
    "axs[0].plot(np.log10(ms), chabrier_cimf, color='Black', linestyle='dashed',\n",
    "            zorder=2)\n",
    "\n",
    "axs[1].plot(kroupa_icimf_interp(icimfs), icimfs, color='Red',\n",
    "            linestyle='solid', zorder=1, linewidth=2., label='Kroupa')\n",
    "axs[1].plot(np.log10(ms), kroupa_cimf, color='Black', linestyle='dashed', \n",
    "            zorder=2)\n",
    "\n",
    "axs[0].set_xlabel(r'$\\log_{10}(m)$')\n",
    "axs[0].set_ylabel(r'Normalized cumulative IMF')\n",
    "axs[1].set_xlabel(r'$\\log_{10}(m)$')\n",
    "axs[1].set_ylabel(r'Normalized cumulative IMF')\n",
    "\n",
    "fig.show()"
   ]
  },
  {
   "cell_type": "code",
   "execution_count": null,
   "metadata": {},
   "outputs": [],
   "source": [
    "# Draw samples from the inverse cumulative IMFs and see if they match the IMFs\n",
    "\n",
    "ms = np.logspace(-2,2,100)\n",
    "icimfs = np.random.random(int(1e6))\n",
    "\n",
    "chabrier_samples = chabrier_icimf_interp(icimfs)\n",
    "kroupa_samples = kroupa_icimf_interp(icimfs)\n",
    "\n",
    "fig = plt.figure(figsize=(8,3))\n",
    "axs = fig.subplots(nrows=1,ncols=2)\n",
    "\n",
    "# Weights convert logarithmic IMF to linear IMF (parameterized in functions)\n",
    "# See Chabrier 2003 review for details\n",
    "axs[0].plot(np.log10(ms), chabrier_imf(ms,A=8e5), color='DodgerBlue',\n",
    "            label='Chabrier', linestyle='solid', zorder=1)\n",
    "axs[0].hist(chabrier_samples, bins=20, range=(-2,2), log=True, edgecolor='DodgerBlue',\n",
    "            weights=1/(np.log(10)*np.power(10,chabrier_samples)), histtype='step')\n",
    "\n",
    "axs[1].plot(np.log10(ms), kroupa_imf(ms,4e5), color='Red', \n",
    "            label='Kroupa', linestyle='dashed', zorder=2)\n",
    "axs[1].hist(kroupa_samples, bins=20, range=(-2,2), log=True, edgecolor='Red',\n",
    "            weights=1/(np.log(10)*np.power(10,kroupa_samples)), histtype='step')\n",
    "\n",
    "axs[0].set_xlim(-2,2)\n",
    "axs[1].set_xlim(-2,2)\n",
    "\n",
    "axs[0].set_xlabel(r'$\\log_{10}(m)$')\n",
    "axs[0].set_ylabel(r'$\\log_{10}(\\xi)$')\n",
    "axs[1].set_xlabel(r'$\\log_{10}(m)$')\n",
    "axs[1].set_ylabel(r'$\\log_{10}(\\xi)$')\n",
    "\n",
    "fig.subplots_adjust(wspace=0.25)\n",
    "fig.show()"
   ]
  },
  {
   "cell_type": "markdown",
   "metadata": {},
   "source": [
    "### Create and try out a mass sampling function"
   ]
  },
  {
   "cell_type": "code",
   "execution_count": null,
   "metadata": {},
   "outputs": [],
   "source": [
    "def sample_mass(m_tot,imf_type='chabrier',m_min=0.01,m_max=100.):\n",
    "    '''sample_mass:\n",
    "    Draw mass samples from an IMF\n",
    "    \n",
    "    Args:\n",
    "        n (int) - Number of samples to draw\n",
    "        m_tot (float) - Total mass worth of stars to sample\n",
    "        imf_type (string) - IMF type, either chabrier or kroupa\n",
    "        m_min - (float) - minimum mass\n",
    "        m_max - (float) - maximum mass\n",
    "    \n",
    "    Returns:\n",
    "        ms (np.array) - sampled masses (shape n)\n",
    "    '''\n",
    "    ms_for_avg = np.arange(m_min,m_max,0.01)\n",
    "    # First make the icimf interpolator\n",
    "    if imf_type == 'chabrier':\n",
    "        m_avg = np.average(ms_for_avg,weights=chabrier_imf(ms_for_avg))\n",
    "        icimf_interp = make_icimf_interpolator(chabrier_imf,m_min=m_min,\n",
    "                                               m_max=m_max)\n",
    "    elif imf_type == 'kroupa':\n",
    "        m_avg = np.average(ms_for_avg,weights=kroupa_imf(ms_for_avg))\n",
    "        icimf_interp = make_icimf_interpolator(kroupa_imf,m_min=m_min,\n",
    "                                               m_max=m_max)\n",
    "    ##fi\n",
    "    \n",
    "    # Guess how many samples to draw based on the average mass\n",
    "    n_samples_guess = int(m_tot/m_avg)\n",
    "    \n",
    "    # Now draw first round of samples\n",
    "    print('Drawing first samples...')\n",
    "    icimf_samples = np.random.random(n_samples_guess)\n",
    "    ms = np.power(10,icimf_interp(icimf_samples))\n",
    "        \n",
    "    # Add more samples or take some away depending on where things landed\n",
    "    while np.sum(ms) < m_tot:\n",
    "        print('Resampling...')\n",
    "        n_samples_guess = int((m_tot-np.sum(ms))/m_avg)\n",
    "        if n_samples_guess < 1: break\n",
    "        icimf_samples = np.random.random(n_samples_guess)\n",
    "        ms = np.append(ms,np.power(10,icimf_interp(icimf_samples)))\n",
    "    ##wh\n",
    "    if np.sum(ms) > m_tot:\n",
    "        print('Removing some samples...')\n",
    "        ms = ms[:np.where(np.cumsum(ms) > m_tot)[0][0]]\n",
    "    ##fi\n",
    "    \n",
    "    return ms\n",
    "#def"
   ]
  },
  {
   "cell_type": "code",
   "execution_count": null,
   "metadata": {},
   "outputs": [],
   "source": [
    "mtot = 3e8\n",
    "t1 = time.time()\n",
    "ms = sample_mass(mtot,m_min=0.09,m_max=0.87)\n",
    "t2 = time.time()\n",
    "print('Took '+str(round(t2-t1,1))+' s')"
   ]
  },
  {
   "cell_type": "code",
   "execution_count": null,
   "metadata": {},
   "outputs": [],
   "source": [
    "np.sum(ms)/mtot"
   ]
  },
  {
   "cell_type": "code",
   "execution_count": null,
   "metadata": {},
   "outputs": [],
   "source": [
    "len(ms)"
   ]
  },
  {
   "cell_type": "markdown",
   "metadata": {},
   "source": [
    "### Success!"
   ]
  },
  {
   "cell_type": "markdown",
   "metadata": {},
   "source": [
    "### Also save some sample masses with varying sizes"
   ]
  },
  {
   "cell_type": "code",
   "execution_count": null,
   "metadata": {},
   "outputs": [],
   "source": [
    "data_dir = '/geir_data/scr/lane/projects/ges-mass/apo_mocks/'\n",
    "\n",
    "# Save 1e6 masses\n",
    "np.save(data_dir+'masses_1e6.npy', ms[:int(1e6)])\n",
    "# Save 1e7 masses\n",
    "np.save(data_dir+'masses_1e7.npy', ms[:int(1e7)])\n",
    "# Save 1e8 masses\n",
    "np.save(data_dir+'masses_1e8.npy', ms[:int(1e8)])\n",
    "# Save all masses\n",
    "np.save(data_dir+'masses.npy', ms)"
   ]
  }
 ],
 "metadata": {
  "kernel_info": {
   "name": "python3"
  },
  "kernelspec": {
   "display_name": "Python 3",
   "language": "python",
   "name": "python3"
  },
  "language_info": {
   "codemirror_mode": {
    "name": "ipython",
    "version": 3
   },
   "file_extension": ".py",
   "mimetype": "text/x-python",
   "name": "python",
   "nbconvert_exporter": "python",
   "pygments_lexer": "ipython3",
   "version": "3.6.5"
  },
  "nteract": {
   "version": "0.28.0"
  }
 },
 "nbformat": 4,
 "nbformat_minor": 4
}
