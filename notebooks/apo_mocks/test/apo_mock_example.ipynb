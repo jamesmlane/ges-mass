{
 "cells": [
  {
   "cell_type": "code",
   "execution_count": null,
   "metadata": {},
   "outputs": [],
   "source": [
    "%load_ext autoreload\n",
    "%autoreload 2"
   ]
  },
  {
   "cell_type": "code",
   "execution_count": null,
   "metadata": {},
   "outputs": [],
   "source": [
    "import os, dill as pickle\n",
    "\n",
    "import apomock\n",
    "from galpy import potential\n",
    "from apogee import select\n",
    "from astropy import units as apu\n",
    "import mwdust\n",
    "import numpy as np"
   ]
  },
  {
   "cell_type": "code",
   "execution_count": null,
   "metadata": {},
   "outputs": [],
   "source": [
    "denspot = potential.PowerSphericalPotential(alpha=2.)\n",
    "mock = apomock.APOGEEMock(denspot=denspot)"
   ]
  },
  {
   "cell_type": "code",
   "execution_count": null,
   "metadata": {},
   "outputs": [],
   "source": [
    "path_to_parsec_isochrone_grid = os.environ['ISODIST_DATA']+'/parsec1.2/2mass-spitzer-wise-0.0001-z-0.0060-1e10-age-1.4e10.dat'\n",
    "mock.load_parsec_isochrone(filename=path_to_parsec_isochrone_grid,z=0.0010,log_age=np.log10(1.1e10))"
   ]
  },
  {
   "cell_type": "code",
   "execution_count": null,
   "metadata": {},
   "outputs": [],
   "source": [
    "mock.sample_masses(m_tot=1e7*apu.M_sun)"
   ]
  },
  {
   "cell_type": "code",
   "execution_count": null,
   "metadata": {},
   "outputs": [],
   "source": [
    "mock.sample_positions(r_min=2*apu.kpc, r_max=70*apu.kpc)"
   ]
  },
  {
   "cell_type": "code",
   "execution_count": null,
   "metadata": {},
   "outputs": [],
   "source": [
    "dmap = mwdust.Combined19(filter='2MASS H')\n",
    "# aposf = select.apogeeCombinedSelect(sample='main',year=7)\n",
    "with open('/geir_data/scr/lane/projects/ges-mass/data/gaia_apogee/apogee_dr16_l33_gaia_dr2/apogee_SF.dat','rb') as f:\n",
    "    aposf = pickle.load(f)"
   ]
  },
  {
   "cell_type": "code",
   "execution_count": null,
   "metadata": {},
   "outputs": [],
   "source": [
    "mock.apply_selection_function(aposf, dmap)"
   ]
  },
  {
   "cell_type": "code",
   "execution_count": null,
   "metadata": {},
   "outputs": [],
   "source": []
  }
 ],
 "metadata": {
  "kernel_info": {
   "name": "python3"
  },
  "kernelspec": {
   "display_name": "Python 3",
   "language": "python",
   "name": "python3"
  },
  "language_info": {
   "codemirror_mode": {
    "name": "ipython",
    "version": 3
   },
   "file_extension": ".py",
   "mimetype": "text/x-python",
   "name": "python",
   "nbconvert_exporter": "python",
   "pygments_lexer": "ipython3",
   "version": "3.6.5"
  },
  "nteract": {
   "version": "0.28.0"
  }
 },
 "nbformat": 4,
 "nbformat_minor": 4
}
