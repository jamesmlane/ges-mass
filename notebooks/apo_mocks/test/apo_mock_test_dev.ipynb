{
 "cells": [
  {
   "cell_type": "code",
   "execution_count": null,
   "metadata": {},
   "outputs": [],
   "source": [
    "# ------------------------------------------------------------------------\n",
    "#\n",
    "# TITLE - apo_mock_test\n",
    "# AUTHOR - James Lane\n",
    "# PROJECT - ges-mass\n",
    "#\n",
    "# ------------------------------------------------------------------------\n",
    "#\n",
    "# Docstrings and metadata:\n",
    "'''Sandbox for development of random stuff related to apomock.\n",
    "'''\n",
    "\n",
    "__author__ = \"James Lane\""
   ]
  },
  {
   "cell_type": "code",
   "execution_count": null,
   "metadata": {},
   "outputs": [],
   "source": [
    "### Imports\n",
    "\n",
    "## Basic\n",
    "import numpy as np\n",
    "import sys, os, pdb, copy, glob, subprocess, warnings\n",
    "from astropy import units as apu\n",
    "\n",
    "## Matplotlib\n",
    "# import matplotlib as mpl\n",
    "from matplotlib import pyplot as plt\n",
    "\n",
    "## galpy\n",
    "from galpy import orbit\n",
    "from galpy import potential\n",
    "from galpy import df\n",
    "\n",
    "## dust\n",
    "import mwdust\n",
    "\n",
    "## Project-specific\n",
    "import apomock\n",
    "\n",
    "### Scale parameters\n",
    "ro = 8.275\n",
    "vo = 220\n",
    "zo = 0.0208 # Bennett+ 2019\n",
    "\n",
    "### Notebook setup\n",
    "%matplotlib inline\n",
    "plt.style.use('../../../../src/mpl/project.mplstyle') # This must be exactly here\n",
    "%config InlineBackend.figure_format = 'retina'\n",
    "%load_ext autoreload\n",
    "%autoreload 2"
   ]
  },
  {
   "cell_type": "markdown",
   "metadata": {},
   "source": [
    "### Load data"
   ]
  },
  {
   "cell_type": "code",
   "execution_count": null,
   "metadata": {},
   "outputs": [],
   "source": [
    "# filename = '/home/lane/data/software/isodist/parsec1.2/2mass-spitzer-wise-0.0001-z-0.0060-1e10-age-1.4e10.dat'\n",
    "# iso = np.genfromtxt(filename, names=True, skip_header=13, comments='#')     "
   ]
  },
  {
   "cell_type": "code",
   "execution_count": null,
   "metadata": {},
   "outputs": [],
   "source": [
    "dmap = mwdust.Combined19(filter='2MASS H')"
   ]
  },
  {
   "cell_type": "markdown",
   "metadata": {
    "tags": []
   },
   "source": [
    "### Functions"
   ]
  },
  {
   "cell_type": "code",
   "execution_count": null,
   "metadata": {},
   "outputs": [],
   "source": [
    "def test_lbIndx_matches_mwdust():\n",
    "    '''test_lbIndx_matches_mwdust:\n",
    "    \n",
    "    Test that calculated lbIndx values match those from mwdust\n",
    "    '''\n",
    "    pass\n",
    "    \n",
    "\n",
    "def test_extinction_matches_mwdust():\n",
    "    '''test_extinction_matches_mwdust:\n",
    "    \n",
    "    Test that calculated H-band extinctions match those from mwdust\n",
    "    '''\n",
    "    pass"
   ]
  },
  {
   "cell_type": "markdown",
   "metadata": {},
   "source": [
    "### lbIndx test"
   ]
  },
  {
   "cell_type": "code",
   "execution_count": null,
   "metadata": {},
   "outputs": [],
   "source": [
    "denspot = potential.HernquistPotential(ro=ro,vo=vo)\n",
    "mock = apomock.APOGEEMock(denspot=denspot)"
   ]
  },
  {
   "cell_type": "code",
   "execution_count": null,
   "metadata": {},
   "outputs": [],
   "source": [
    "n = int(1e2)\n",
    "ll=np.random.random(n)*360.\n",
    "bb=np.arccos(2*np.random.random(n)-1)*180./np.pi-90.\n",
    "dist = np.random.random(size=n)*50.\n",
    "mul,mub,vlos = np.zeros_like(ll), np.zeros_like(ll), np.zeros_like(ll)\n",
    "vxvvs = np.array([ll,bb,dist,mul,mub,vlos]).T\n",
    "orbs = orbit.Orbit(vxvvs,lb=True,ro=ro,vo=vo)"
   ]
  },
  {
   "cell_type": "code",
   "execution_count": null,
   "metadata": {},
   "outputs": [],
   "source": [
    "lbIndx_mock = mock._get_lbIndx(orbs,dmap)\n",
    "\n",
    "lbIndx_dmap = np.zeros(n)\n",
    "for i in range(n):\n",
    "    lbIndx_dmap[i] = dmap._lbIndx(ll[i],bb[i])\n",
    "lbIndx_dmap = lbIndx_dmap.astype(int)\n",
    "\n",
    "assert np.all(lbIndx_dmap == lbIndx_mock), 'lbIndx does not match mwdust values'"
   ]
  },
  {
   "cell_type": "markdown",
   "metadata": {},
   "source": [
    "### AH value test"
   ]
  },
  {
   "cell_type": "code",
   "execution_count": null,
   "metadata": {},
   "outputs": [],
   "source": [
    "print(mock._calculate_AH.__doc__)"
   ]
  },
  {
   "cell_type": "code",
   "execution_count": null,
   "metadata": {},
   "outputs": [],
   "source": [
    "lbIndx_mock = mock._get_lbIndx(orbs,dmap)\n",
    "AH_mock = mock._calculate_AH(dmap,lbIndx_mock,5.*np.log10(dist)+10.)\n",
    "\n",
    "AH_dmap = np.zeros(n)\n",
    "for i in range(n):\n",
    "    AH_dmap[i] = dmap(ll[i],bb[i],dist[i])\n",
    "\n",
    "tol = 1e-8\n",
    "assert np.all(np.fabs(AH_mock-AH_dmap)<tol), 'Mock AH values do not match dmap AH values'"
   ]
  },
  {
   "cell_type": "code",
   "execution_count": null,
   "metadata": {},
   "outputs": [],
   "source": [
    "AH_mock"
   ]
  },
  {
   "cell_type": "code",
   "execution_count": null,
   "metadata": {},
   "outputs": [],
   "source": [
    "AH_dmap"
   ]
  },
  {
   "cell_type": "code",
   "execution_count": null,
   "metadata": {},
   "outputs": [],
   "source": [
    "dmap.__class__"
   ]
  },
  {
   "cell_type": "code",
   "execution_count": null,
   "metadata": {},
   "outputs": [],
   "source": []
  }
 ],
 "metadata": {
  "kernel_info": {
   "name": "python3"
  },
  "kernelspec": {
   "display_name": "Python 3",
   "language": "python",
   "name": "python3"
  },
  "language_info": {
   "codemirror_mode": {
    "name": "ipython",
    "version": 3
   },
   "file_extension": ".py",
   "mimetype": "text/x-python",
   "name": "python",
   "nbconvert_exporter": "python",
   "pygments_lexer": "ipython3",
   "version": "3.6.5"
  },
  "nteract": {
   "version": "0.28.0"
  }
 },
 "nbformat": 4,
 "nbformat_minor": 4
}
