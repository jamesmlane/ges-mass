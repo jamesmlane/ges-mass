{
 "cells": [
  {
   "cell_type": "code",
   "execution_count": null,
   "metadata": {},
   "outputs": [],
   "source": [
    "# ------------------------------------------------------------------------\n",
    "#\n",
    "# TITLE - apo_mock_test_dmap\n",
    "# AUTHOR - James Lane\n",
    "# PROJECT - ges-mass\n",
    "#\n",
    "# ------------------------------------------------------------------------\n",
    "#\n",
    "# Docstrings and metadata:\n",
    "'''Test the dust map querying code to try and raise the error where single \n",
    "points have multiple lbIndx within the dust map.\n",
    "'''\n",
    "\n",
    "__author__ = \"James Lane\""
   ]
  },
  {
   "cell_type": "code",
   "execution_count": null,
   "metadata": {},
   "outputs": [],
   "source": [
    "### Imports\n",
    "\n",
    "import numpy as np\n",
    "import sys, os, pdb, copy, dill as pickle, time\n",
    "from astropy import units as apu\n",
    "from matplotlib import pyplot as plt\n",
    "from galpy import orbit\n",
    "from galpy import potential\n",
    "import mwdust\n",
    "import healpy\n",
    "import apomock\n",
    "\n",
    "### Scale parameters\n",
    "ro = 8.275\n",
    "vo = 220\n",
    "zo = 0.0208 # Bennett+ 2019\n",
    "\n",
    "### Notebook setup\n",
    "%matplotlib inline\n",
    "plt.style.use('../../../src/mpl/project.mplstyle') # This must be exactly here\n",
    "%config InlineBackend.figure_format = 'retina'\n",
    "%load_ext autoreload\n",
    "%autoreload 2"
   ]
  },
  {
   "cell_type": "markdown",
   "metadata": {
    "tags": []
   },
   "source": [
    "## Plan\n",
    "Generate `orbit.Orbit` instances with random sets of angles, then use `apomock.APOGEEMock._get_lbIndx()` to try and generate the error"
   ]
  },
  {
   "cell_type": "markdown",
   "metadata": {},
   "source": [
    "### Functions and preparation"
   ]
  },
  {
   "cell_type": "code",
   "execution_count": null,
   "metadata": {},
   "outputs": [],
   "source": [
    "def sample_angles(n):\n",
    "    '''sample_angles:\n",
    "    \n",
    "    Draw random on-sky angle samples. Even sampling for longitude, and weighted \n",
    "    sampling for latitude\n",
    "    '''\n",
    "    ll=np.random.random(n)*360.\n",
    "    bb=np.arccos(2*np.random.random(n)-1)*180./np.pi-90.\n",
    "    return ll,bb"
   ]
  },
  {
   "cell_type": "code",
   "execution_count": null,
   "metadata": {},
   "outputs": [],
   "source": [
    "# Dust map\n",
    "dmap = mwdust.Combined19(filter='2 MASS')"
   ]
  },
  {
   "cell_type": "code",
   "execution_count": null,
   "metadata": {},
   "outputs": [],
   "source": [
    "_DEGTORAD = np.pi/180.\n",
    "def _get_lbIndx(orbs,dmap):\n",
    "    '''_get_lbIndx:\n",
    "\n",
    "    Get the index of each sample into the dustmap. The dustmap is \n",
    "    arranged as a hierarchical healpix map, with cells at multiple \n",
    "    resolutions. Find the index of each sample in this structure\n",
    "\n",
    "    Args:\n",
    "        orbs (orbit.Orbit) - phase space samples\n",
    "        dmap (mwdust.DustMap3D) - Dust map\n",
    "\n",
    "    Returns:\n",
    "        lbindx (np.array) - dustmap indices of samples\n",
    "    '''\n",
    "    gl = orbs.ll(use_physical=True).value\n",
    "    gb = orbs.bb(use_physical=True).value\n",
    "    dist = np.atleast_2d(orbs.dist(use_physical=True).to(apu.kpc).value).T\n",
    "    # Prepare arrays to hold healpix information for samples\n",
    "    dmap_nsides = np.array(dmap._nsides)\n",
    "    pix_arr = np.zeros((len(orbs),len(dmap_nsides)))\n",
    "    nside_arr = np.repeat(dmap_nsides[:,np.newaxis],len(orbs),axis=1).T\n",
    "    # Calculate healpix pixels for samples\n",
    "    for i in range(len(dmap_nsides)):\n",
    "        pix_arr[:,i] = healpy.pixelfunc.ang2pix(dmap_nsides[i],\n",
    "                                                (90.-gb)*_DEGTORAD,\n",
    "                                                gl*_DEGTORAD, nest=True)\n",
    "    # Calculate healpix u for dust map and samples\n",
    "    dmap_hpu = (dmap._pix_info['healpix_index'] +\\\n",
    "                4*dmap._pix_info['nside']**2.).astype(int)\n",
    "    hpu = (pix_arr + 4*nside_arr**2).astype(int)\n",
    "    # Use searchsorted to match sample u to dust map u\n",
    "    dmap_hpu_argsort = np.argsort(dmap_hpu)\n",
    "    dmap_hpu_sorted = dmap_hpu[dmap_hpu_argsort]\n",
    "    hpu_indx_sorted = np.searchsorted(dmap_hpu_sorted,hpu)\n",
    "    hpu_indx = np.take(dmap_hpu_argsort, hpu_indx_sorted, mode=\"clip\")\n",
    "    hpu_mask = dmap_hpu[hpu_indx] != hpu\n",
    "    hpu_ma = np.ma.array(hpu_indx, mask=hpu_mask)\n",
    "    return hpu_ma"
   ]
  },
  {
   "cell_type": "markdown",
   "metadata": {},
   "source": [
    "### Get lbIndx values"
   ]
  },
  {
   "cell_type": "code",
   "execution_count": null,
   "metadata": {},
   "outputs": [],
   "source": [
    "n_samples = int(1e5)\n",
    "ll,bb = sample_angles(n_samples)\n",
    "dist = np.ones_like(ll)\n",
    "mul,mub,vlos = np.zeros_like(ll), np.zeros_like(ll), np.zeros_like(ll)\n",
    "vxvvs = np.array([ll,bb,dist,mul,mub,vlos]).T\n",
    "orbs = orbit.Orbit(vxvvs,lb=True,ro=ro,vo=vo)\n",
    "# Quick sanity checks\n",
    "assert np.all(np.fabs(ll-orbs.ll().value)<1e-8), 'll not correct'\n",
    "assert np.all(np.fabs(bb-orbs.bb().value)<1e-8), 'bb not correct'"
   ]
  },
  {
   "cell_type": "code",
   "execution_count": null,
   "metadata": {},
   "outputs": [],
   "source": [
    "# Get lbIndx\n",
    "hpu_ma = _get_lbIndx(orbs,dmap)\n",
    "lbIndx = hpu_ma.data[~hpu_ma.mask]\n",
    "print(str(len(lbIndx))+' lbIndx for '+str(len(orbs))+' orbits')"
   ]
  },
  {
   "cell_type": "code",
   "execution_count": null,
   "metadata": {},
   "outputs": [],
   "source": [
    "# Identify the orbits where multiple matches occured\n",
    "multiple_lbIndx_mask = np.sum(~hpu_ma.mask,axis=1)>1\n",
    "where_multiple_lbIndx = np.where(multiple_lbIndx_mask)[0]\n",
    "hpu_ma[where_multiple_lbIndx]"
   ]
  },
  {
   "cell_type": "code",
   "execution_count": null,
   "metadata": {},
   "outputs": [],
   "source": [
    "x = np.array([1,2,3,4,5,6,7])\n",
    "x[x>5]*=2"
   ]
  },
  {
   "cell_type": "code",
   "execution_count": null,
   "metadata": {},
   "outputs": [],
   "source": [
    "fig = plt.figure()\n",
    "ax = fig.add_subplot(111)\n",
    "ll_plot = ll[where_multiple_lbIndx]\n",
    "ll_plot[ll_plot>180.]-=360.\n",
    "bb_plot = bb[where_multiple_lbIndx]\n",
    "ax.scatter(ll_plot, bb_plot, s=8., color='Black')\n",
    "ax.set_xlabel(r'$\\ell$')\n",
    "ax.set_ylabel(r'$b$')\n",
    "fig.show()"
   ]
  },
  {
   "cell_type": "markdown",
   "metadata": {},
   "source": [
    "### Visualize the Healpix maps"
   ]
  },
  {
   "cell_type": "code",
   "execution_count": null,
   "metadata": {},
   "outputs": [],
   "source": [
    "dir(dmap)"
   ]
  },
  {
   "cell_type": "code",
   "execution_count": null,
   "metadata": {},
   "outputs": [],
   "source": [
    "dmap._pix_info"
   ]
  },
  {
   "cell_type": "code",
   "execution_count": null,
   "metadata": {},
   "outputs": [],
   "source": [
    "dmap._pix_info"
   ]
  },
  {
   "cell_type": "code",
   "execution_count": null,
   "metadata": {},
   "outputs": [],
   "source": [
    "dmap._nsides"
   ]
  },
  {
   "cell_type": "code",
   "execution_count": null,
   "metadata": {},
   "outputs": [],
   "source": [
    "nsides = dmap._nsides\n",
    "# fig = plt.figure(figsize=(5,20))\n",
    "# axs = fig.subplots(nrows=5, ncols=1)\n",
    "\n",
    "for i in range(len(nsides)):\n",
    "    hpi = dmap._pix_info['healpix_index'][dmap._pix_info['nside']==nsides[i]]\n",
    "    m = np.zeros(healpy.nside2npix(nsides[i]))\n",
    "    m[hpi]=1.\n",
    "    healpy.mollview(m,nest=True)\n",
    "    fig = plt.gcf()\n",
    "    fig.suptitle('Nsides = '+str(nsides[i]),x=0.7)\n",
    "###i"
   ]
  },
  {
   "cell_type": "markdown",
   "metadata": {},
   "source": [
    "## Process a single map evaluated at resolution Nside=1024\n",
    "So the pixels at two different resolutions separated by a single order, i.e. 1024 to 512, have a difference in the range spanned by their indices of a factor of 4. So given an index $p_{1}$ at resolution $k_{1}$, the indices of the descendant pixels of $p$ at resolution $k_{2}$ are:\n",
    "\n",
    "$p_{2} = 4^{k_{2}-k_{1}}p_{1} + [0,...,4^{k_{2}-k_{1}}]$"
   ]
  },
  {
   "cell_type": "code",
   "execution_count": null,
   "metadata": {},
   "outputs": [],
   "source": [
    "def get_healpix_descendents(p1,k1,k2):\n",
    "    '''Take a healpix array p1 at order k1 and get all descendents at a higher \n",
    "    order k2\n",
    "    '''\n",
    "    # Make the new array\n",
    "    dk = int(k2-k1)\n",
    "    dres = 4**dk\n",
    "    p2 = np.repeat(p1*dres,dres).astype(int)\n",
    "    pdesc = np.tile(np.arange(0,dres,1),p1.shape[0]).astype(int)\n",
    "    # pdb.set_trace()\n",
    "    p2 += pdesc\n",
    "    return p2"
   ]
  },
  {
   "cell_type": "code",
   "execution_count": null,
   "metadata": {},
   "outputs": [],
   "source": [
    "nside_ks = np.log2(nsides).astype(int)\n",
    "ps = []\n",
    "for i in range(len(nsides)):\n",
    "    p1 = dmap._pix_info['healpix_index'][dmap._pix_info['nside']==nsides[i]]\n",
    "    if i == 0: \n",
    "        ps.append(p1)\n",
    "        continue  # Already at resolution 1024\n",
    "    p2 = get_healpix_descendents(p1,nside_ks[i],np.log2(1024).astype(int))\n",
    "    ps.append(p2)"
   ]
  },
  {
   "cell_type": "code",
   "execution_count": null,
   "metadata": {},
   "outputs": [],
   "source": [
    "p10 = np.zeros(healpy.nside2npix(1024),dtype=int)\n",
    "for i in range(len(nsides)):\n",
    "    p10[ps[i]] += 1"
   ]
  },
  {
   "cell_type": "code",
   "execution_count": null,
   "metadata": {},
   "outputs": [],
   "source": [
    "healpy.mollview(p10,nest=True,min=0,max=2)"
   ]
  },
  {
   "cell_type": "code",
   "execution_count": null,
   "metadata": {},
   "outputs": [],
   "source": []
  }
 ],
 "metadata": {
  "kernel_info": {
   "name": "python3"
  },
  "kernelspec": {
   "display_name": "Python 3",
   "language": "python",
   "name": "python3"
  },
  "language_info": {
   "codemirror_mode": {
    "name": "ipython",
    "version": 3
   },
   "file_extension": ".py",
   "mimetype": "text/x-python",
   "name": "python",
   "nbconvert_exporter": "python",
   "pygments_lexer": "ipython3",
   "version": "3.6.5"
  },
  "nteract": {
   "version": "0.28.0"
  }
 },
 "nbformat": 4,
 "nbformat_minor": 4
}
