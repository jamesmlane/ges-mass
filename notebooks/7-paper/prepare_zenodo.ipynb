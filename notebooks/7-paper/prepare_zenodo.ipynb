{
 "cells": [
  {
   "cell_type": "code",
   "execution_count": null,
   "metadata": {
    "tags": []
   },
   "outputs": [],
   "source": [
    "# ------------------------------------------------------------------------\n",
    "#\n",
    "# TITLE - prepare_zenodo.ipynb\n",
    "# AUTHOR - James Lane\n",
    "# PROJECT - ges-mass\n",
    "#\n",
    "# ------------------------------------------------------------------------\n",
    "#\n",
    "# Docstrings and metadata:\n",
    "'''Get paths to download the final data products, and collect in simpler\n",
    "directories for Zenodo upload.\n",
    "'''\n",
    "\n",
    "__author__ = \"James Lane\""
   ]
  },
  {
   "cell_type": "code",
   "execution_count": null,
   "metadata": {
    "tags": []
   },
   "outputs": [],
   "source": [
    "### Imports\n",
    "\n",
    "# Basic\n",
    "import os, sys, copy\n",
    "import shutil\n",
    "import numpy as np\n",
    "\n",
    "# Project specific\n",
    "sys.path.insert(0,'../../src/')\n",
    "from ges_mass import mass as pmass\n",
    "from ges_mass import densprofiles as pdens\n",
    "from ges_mass import util as putil\n",
    "\n",
    "### Notebook setup\n",
    "%load_ext autoreload\n",
    "%autoreload 2"
   ]
  },
  {
   "cell_type": "markdown",
   "metadata": {
    "tags": []
   },
   "source": [
    "### Keywords, Pathing, Loading, Data Preparation"
   ]
  },
  {
   "cell_type": "code",
   "execution_count": null,
   "metadata": {
    "tags": []
   },
   "outputs": [],
   "source": [
    "# %load ../../src/nb_modules/keywords_pathing_loading_data_prep.py\n",
    "## Keywords\n",
    "cdict = putil.load_config_to_dict()\n",
    "keywords = ['BASE_DIR','APOGEE_DR','APOGEE_RESULTS_VERS','GAIA_DR','NDMOD',\n",
    "            'DMOD_MIN','DMOD_MAX','LOGG_MIN','LOGG_MAX','FEH_MIN','FEH_MAX',\n",
    "            'FEH_MIN_GSE','FEH_MAX_GSE','DF_VERSION','KSF_VERSION','NPROCS',\n",
    "            'RO','VO','ZO']\n",
    "base_dir,apogee_dr,apogee_results_vers,gaia_dr,ndmod,dmod_min,dmod_max,\\\n",
    "    logg_min,logg_max,feh_min,feh_max,feh_min_gse,feh_max_gse,df_version,\\\n",
    "    ksf_version,nprocs,ro,vo,zo = putil.parse_config_dict(cdict,keywords)\n",
    "logg_range = [logg_min,logg_max]\n",
    "feh_range = [feh_min,feh_max]\n",
    "feh_range_gse = [feh_min_gse,feh_max_gse]\n",
    "feh_range_all = [feh_min,feh_max_gse]\n",
    "# feh_range_fit = copy.deepcopy( # Need to choose here\n",
    "\n",
    "\n",
    "## Pathing\n",
    "fit_paths = putil.prepare_paths(base_dir,apogee_dr,apogee_results_vers,gaia_dr,\n",
    "                                df_version,ksf_version)\n",
    "data_dir,version_dir,ga_dir,gap_dir,df_dir,ksf_dir,fit_dir = fit_paths\n",
    "\n",
    "## Filenames\n",
    "fit_filenames = putil.prepare_filenames(ga_dir,gap_dir,feh_range_gse)\n",
    "apogee_SF_filename,apogee_effSF_filename,apogee_effSF_mask_filename,\\\n",
    "    iso_grid_filename,clean_kinematics_filename = fit_filenames\n",
    "\n",
    "## File loading and data preparation\n",
    "fit_stuff,other_stuff = putil.prepare_fitting(fit_filenames,\n",
    "    [ndmod,dmod_min,dmod_max],ro,zo,return_other=True)\n",
    "apogee_effSF_mask,dmap,iso_grid,jkmins,dmods,ds,effsel_grid,apof,\\\n",
    "    allstar_nomask,orbs_nomask = fit_stuff\n",
    "Rgrid,phigrid,zgrid = effsel_grid\n",
    "# apogee_SF,apogee_effSF_grid_inclArea,apogee_effSF_grid_inclArea_Jac = other_stuff\n",
    "\n",
    "# ## Load the distribution functions\n",
    "# df_filename = df_dir+'dfs.pkl'\n",
    "# betas = [0.3,0.9]\n",
    "# dfs = putil.load_distribution_functions(df_filename, betas)\n",
    "\n",
    "# ## Load the APOGEE field information, can also similarly load \n",
    "# ## '...apogee_field_glons.npy', '...apogee_field_glats.npy', \n",
    "# ## '...apogee_field_location_ids.npy'\n",
    "# apogee_fields = np.load(ga_dir+'apogee_fields.npy')"
   ]
  },
  {
   "cell_type": "markdown",
   "metadata": {},
   "source": [
    "### Global Parameters"
   ]
  },
  {
   "cell_type": "code",
   "execution_count": null,
   "metadata": {
    "tags": []
   },
   "outputs": [],
   "source": [
    "# %load ../../src/nb_modules/global_fitting_params.py\n",
    "## general kwargs\n",
    "verbose = True\n",
    "\n",
    "## HaloFit kwargs (ordering follows HaloFit.__init__)\n",
    "# allstar and orbs loaded in prep cell\n",
    "init = None\n",
    "init_type = 'ML'\n",
    "# fit_type provided at runtime\n",
    "mask_disk = True\n",
    "mask_halo = True\n",
    "# densfunc, selec provided at runtime\n",
    "# effsel, effsel_grid, effsel_mask, dmods loaded in prep cell\n",
    "nwalkers = 100\n",
    "nit = int(2e3)\n",
    "ncut = int(1e3)\n",
    "# usr_log_prior provided at runtime\n",
    "n_mass = 5000 # int(nwalkers*(nit-ncut))\n",
    "int_r_range = [2.,70.]\n",
    "iso = None # Will read from iso_grid_filename\n",
    "# iso_filename, jkmins loaded in prep cell\n",
    "# feh_range provided at runtime\n",
    "# logg_range loaded in config cell\n",
    "# fit_dir, gap_dir, ksf_dir loaded in prep cell\n",
    "# version provided at runtime\n",
    "# ro, vo, zo loaded in config cell\n",
    "\n",
    "hf_kwargs = {## HaloFit parameters\n",
    "             'allstar':allstar_nomask,\n",
    "             'orbs':orbs_nomask,\n",
    "             'init':init,\n",
    "             'init_type':init_type,\n",
    "             # 'fit_type':fit_type, # provided at runtime\n",
    "             'mask_disk':mask_disk,\n",
    "             'mask_halo':mask_halo,\n",
    "             ## _HaloFit parameters\n",
    "             # 'densfunc':densfunc, # provided at runtime\n",
    "             # 'selec':selec, # provided at runtime\n",
    "             'effsel':apof,\n",
    "             'effsel_mask':apogee_effSF_mask,\n",
    "             'effsel_grid':effsel_grid,\n",
    "             'dmods':dmods,\n",
    "             'nwalkers':nwalkers,\n",
    "             'nit':nit,\n",
    "             'ncut':ncut,\n",
    "             # 'usr_log_prior':usr_log_prior, # provided at runtime\n",
    "             'n_mass':n_mass,\n",
    "             'int_r_range':int_r_range,\n",
    "             'iso':iso,\n",
    "             'iso_filename':iso_grid_filename,\n",
    "             'jkmins':jkmins,\n",
    "             # 'feh_range':feh_range, # provided at runtime\n",
    "             'logg_range':logg_range,\n",
    "             'fit_dir':fit_dir,\n",
    "             'gap_dir':gap_dir,\n",
    "             'ksf_dir':ksf_dir,\n",
    "             # 'version':version, # provided at runtime\n",
    "             # 'verbose':verbose,\n",
    "             'ro':ro,\n",
    "             'vo':vo,\n",
    "             'zo':zo}\n",
    "\n",
    "## pmass.fit() function kwargs\n",
    "# nprocs set in config file\n",
    "force_fit = True\n",
    "mle_init = True\n",
    "just_mle = False\n",
    "return_walkers = True\n",
    "optimizer_method = 'Powell'\n",
    "mass_int_type = 'spherical_grid'\n",
    "batch_masses = True\n",
    "make_ml_aic_bic = True\n",
    "calculate_masses = True\n",
    "post_optimization = True\n",
    "mcmc_diagnostic = True\n",
    "\n",
    "fit_kwargs = {# 'nprocs':nprocs, # Normally given at runtime \n",
    "              'force_fit':force_fit,\n",
    "              'mle_init':mle_init,\n",
    "              'just_mle':just_mle,\n",
    "              'return_walkers':return_walkers,\n",
    "              'optimizer_method':optimizer_method,\n",
    "              'mass_int_type':mass_int_type,\n",
    "              'batch_masses':batch_masses,\n",
    "              'make_ml_aic_bic':make_ml_aic_bic,\n",
    "              'calculate_masses':calculate_masses,\n",
    "              'post_optimization':post_optimization,\n",
    "              'mcmc_diagnostic':mcmc_diagnostic,\n",
    "              }"
   ]
  },
  {
   "cell_type": "markdown",
   "metadata": {},
   "source": [
    "### GS/E data"
   ]
  },
  {
   "cell_type": "code",
   "execution_count": null,
   "metadata": {},
   "outputs": [],
   "source": [
    "densfuncs = [pdens.triaxial_single_angle_zvecpa,\n",
    "             pdens.triaxial_single_angle_zvecpa_plusexpdisk,\n",
    "             pdens.triaxial_single_cutoff_zvecpa,\n",
    "             pdens.triaxial_single_cutoff_zvecpa_plusexpdisk,\n",
    "             pdens.triaxial_broken_angle_zvecpa,\n",
    "             pdens.triaxial_broken_angle_zvecpa_plusexpdisk,\n",
    "             pdens.triaxial_double_broken_angle_zvecpa,\n",
    "             pdens.triaxial_double_broken_angle_zvecpa_plusexpdisk,\n",
    "             ]\n",
    "\n",
    "selec = ['eLz','AD','JRLz',None]\n",
    "fit_type = ['gse','gse','gse','all']\n",
    "_version = '100w_1e4n'\n",
    "versions = [_version]*4\n",
    "feh_range_fit = [feh_range_gse,feh_range_gse,feh_range_gse,feh_range_all]\n",
    "verbose = False"
   ]
  },
  {
   "cell_type": "code",
   "execution_count": null,
   "metadata": {},
   "outputs": [],
   "source": [
    "zenodo_dir = os.path.join(fit_dir,'zenodo/')\n",
    "os.makedirs(zenodo_dir, exist_ok=True)\n",
    "zenodo_gse_dir = os.path.join(zenodo_dir,'gse/')\n",
    "os.makedirs(zenodo_gse_dir, exist_ok=True)\n",
    "zenodo_all_dir = os.path.join(zenodo_dir,'all/')\n",
    "os.makedirs(zenodo_all_dir, exist_ok=True)\n",
    "\n",
    "for d1 in ['eLz','AD','JRLz']:\n",
    "    os.makedirs(os.path.join(zenodo_gse_dir,d1), exist_ok=True)\n",
    "    for d2 in densfuncs:\n",
    "        os.makedirs(os.path.join(zenodo_gse_dir,d1,d2.__name__), exist_ok=True)\n",
    "\n",
    "for d in densfuncs:\n",
    "    os.makedirs(os.path.join(zenodo_all_dir,d.__name__), exist_ok=True)"
   ]
  },
  {
   "cell_type": "code",
   "execution_count": null,
   "metadata": {},
   "outputs": [],
   "source": [
    "# Loop over the fit type / selection / version the loop over density profile\n",
    "for i in range(4):\n",
    "    for j in range(8):\n",
    "        hf = pmass.HaloFit(densfunc=densfuncs[j], fit_type=fit_type[i], \n",
    "                       version=versions[i], selec=selec[i], \n",
    "                       feh_range=feh_range_fit[i], **hf_kwargs)\n",
    "        samples_filename = os.path.join(hf.fit_data_dir,'samples.npy')\n",
    "        if fit_type[i] == 'gse':\n",
    "            samples_dest_filename = os.path.join(zenodo_gse_dir,selec[i],\n",
    "                densfuncs[j].__name__,'samples.npy')\n",
    "        elif fit_type[i] == 'all':\n",
    "            samples_dest_filename = os.path.join(zenodo_all_dir,\n",
    "                densfuncs[j].__name__,'samples.npy')\n",
    "\n",
    "        print('\\n')\n",
    "        print('HF fit_data_dir is: ',hf.fit_data_dir)\n",
    "        print('samples_filename is: ',samples_filename)\n",
    "        print('samples_dest_filename is: ',samples_dest_filename)\n",
    "        _data = np.load(samples_filename)\n",
    "        print('samples shape is: ',_data.shape)\n",
    "\n",
    "        shutil.copy(samples_filename,samples_dest_filename)"
   ]
  }
 ],
 "metadata": {
  "kernel_info": {
   "name": "python3"
  },
  "kernelspec": {
   "display_name": "Python 3 (ipykernel)",
   "language": "python",
   "name": "python3"
  },
  "language_info": {
   "codemirror_mode": {
    "name": "ipython",
    "version": 3
   },
   "file_extension": ".py",
   "mimetype": "text/x-python",
   "name": "python",
   "nbconvert_exporter": "python",
   "pygments_lexer": "ipython3",
   "version": "3.10.11"
  },
  "nteract": {
   "version": "0.28.0"
  },
  "vscode": {
   "interpreter": {
    "hash": "aee8b7b246df8f9039afb4144a1f6fd8d2ca17a180786b69acc140d282b71a49"
   }
  }
 },
 "nbformat": 4,
 "nbformat_minor": 4
}
