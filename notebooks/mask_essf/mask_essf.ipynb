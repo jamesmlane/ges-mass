{
 "cells": [
  {
   "cell_type": "code",
   "execution_count": null,
   "metadata": {},
   "outputs": [],
   "source": [
    "# ------------------------------------------------------------------------\n",
    "#\n",
    "# TITLE - mask_essf.ipynb\n",
    "# AUTHOR - James Lane\n",
    "# PROJECT - ges-mass\n",
    "#\n",
    "# ------------------------------------------------------------------------\n",
    "#\n",
    "# Docstrings and metadata:\n",
    "'''Create a mask for the effective survey selection function grid which removes \n",
    "any fields where data is not considered for modelling.\n",
    "'''\n",
    "\n",
    "__author__ = \"James Lane\""
   ]
  },
  {
   "cell_type": "code",
   "execution_count": null,
   "metadata": {},
   "outputs": [],
   "source": [
    "### Imports\n",
    "\n",
    "## Basic\n",
    "import numpy as np\n",
    "import sys, os, pdb, copy, dill as pickle\n",
    "\n",
    "## Matplotlib\n",
    "from matplotlib import pyplot as plt\n",
    "\n",
    "## Astropy\n",
    "from astropy import units as apu\n",
    "\n",
    "# Set APOGEE version for the package\n",
    "apogee_results_vers = 'l33'\n",
    "# Year 7 is appropriate for DR16 (l33)\n",
    "apo_combined_select_year = 7\n",
    "os.environ['RESULTS_VERS'] = apogee_results_vers\n",
    "\n",
    "import apogee.select as apsel\n",
    "import apogee.tools as apotools\n",
    "\n",
    "# Project specific\n",
    "sys.path.insert(0,'../../src/')\n",
    "from ges_mass import util as putil\n",
    "from ges_mass import mass as pmass\n",
    "\n",
    "### Scale parameters\n",
    "ro = 8.\n",
    "vo = 220\n",
    "zo = 0.0208 # Bennett+ 2019\n",
    "\n",
    "### Notebook setup\n",
    "\n",
    "%matplotlib inline\n",
    "plt.style.use('../../src/mpl/project.mplstyle') # This must be exactly here\n",
    "%config InlineBackend.figure_format = 'retina'\n",
    "%load_ext autoreload\n",
    "%autoreload 2"
   ]
  },
  {
   "cell_type": "markdown",
   "metadata": {
    "tags": []
   },
   "source": [
    "### Preliminaries"
   ]
  },
  {
   "cell_type": "code",
   "execution_count": null,
   "metadata": {},
   "outputs": [],
   "source": [
    "# Pathing\n",
    "cdict = putil.load_config_to_dict()\n",
    "keywords = ['BASE_DIR','APOGEE_DR','APOGEE_RESULTS_VERS','GAIA_DR','NDMOD',\n",
    "            'DMOD_MIN','DMOD_MAX']\n",
    "base_dir,apogee_dr,apogee_results_vers,gaia_dr,ndmod,dmod_min,dmod_max,\\\n",
    "    = putil.parse_config_dict(cdict,keywords)"
   ]
  },
  {
   "cell_type": "markdown",
   "metadata": {},
   "source": [
    "### Load data"
   ]
  },
  {
   "cell_type": "code",
   "execution_count": null,
   "metadata": {},
   "outputs": [],
   "source": [
    "# Filenames\n",
    "apogee_SF_filename = data_dir+gaia_apogee_dir+'apogee_SF.dat'\n",
    "apogee_effSF_filename = data_dir+gaia_apogee_dir+\\\n",
    "    'apogee_effSF_grid_inclArea.dat'\n",
    "\n",
    "# Selection function\n",
    "print('APOGEE data release is: '+apogee_dr+', and results version is: '+apogee_results_vers)\n",
    "if os.path.exists(apogee_SF_filename):\n",
    "    print('Loading APOGEE selection function from '+apogee_SF_filename)\n",
    "    with open(apogee_SF_filename, 'rb') as f:\n",
    "        apogee_SF = pickle.load(f)\n",
    "    ##wi\n",
    "else:\n",
    "    sys.exit('Could not find APOGEE selection function, make it. Exiting...')\n",
    "\n",
    "# Load the effective selection function grid\n",
    "if os.path.exists(apogee_effSF_filename):\n",
    "    print('\\nLoading effective selection function from '+apogee_effSF_filename)\n",
    "    with open(apogee_effSF_filename,'rb') as f:\n",
    "        apogee_effSF_grid_inclArea = pickle.load(f)\n",
    "    ##wi\n",
    "else:\n",
    "    sys.exit('\\nFailed to load effective survey section function')"
   ]
  },
  {
   "cell_type": "markdown",
   "metadata": {},
   "source": [
    "### Field and eSSF grid information"
   ]
  },
  {
   "cell_type": "code",
   "execution_count": null,
   "metadata": {},
   "outputs": [],
   "source": [
    "# Field info\n",
    "apogee_field = apogee_SF._apogeeField\n",
    "n_field = len(apogee_field)\n",
    "field_glon = apogee_field['GLON']\n",
    "field_glat = apogee_field['GLAT']\n",
    "field_locid = apogee_field['LOCATION_ID']\n",
    "\n",
    "# Distance modulus grid\n",
    "dmod,dist = putil.make_dmod_grid(ndmod,dmod_min,dmod_max)\n",
    "\n",
    "# Some sanity checks\n",
    "assert len(field_glon) == apogee_effSF_grid_inclArea.shape[0]\n",
    "assert np.all(field_locid == apogee_SF._locations)"
   ]
  },
  {
   "cell_type": "markdown",
   "metadata": {},
   "source": [
    "### Show the effective selection function\n",
    "Plot fields with and without the effective selection function. There should be \n",
    "some fields for which the effective selection function is zero along the entire \n",
    "length of the distance modulus grid (second axis of the effective selection \n",
    "function grid). This is set to an array of zeros in `make_effsf.py` when there \n",
    "are no spectroscopic targets in the field for any cohort."
   ]
  },
  {
   "cell_type": "code",
   "execution_count": null,
   "metadata": {},
   "outputs": [],
   "source": [
    "fig = plt.figure(figsize=(10,6))\n",
    "ax = fig.add_subplot(111)\n",
    "\n",
    "plot_glon = copy.deepcopy(field_glon)\n",
    "plot_glat = copy.deepcopy(field_glat)\n",
    "plot_glon[plot_glon > 180] = plot_glon[plot_glon > 180] - 360\n",
    "\n",
    "no_effSF = np.sum(apogee_effSF_grid_inclArea == 0., axis=1) == ndmod\n",
    "\n",
    "ax.scatter(plot_glon[~no_effSF], plot_glat[~no_effSF], \n",
    "           c='ForestGreen', s=4, zorder=2)\n",
    "ax.scatter(plot_glon[no_effSF], plot_glat[no_effSF], \n",
    "           c='Red', s=8, zorder=1)\n",
    "\n",
    "ax.set_xlabel(r'$\\ell$ [deg]')\n",
    "ax.set_ylabel(r'$b$ [deg]')\n",
    "ax.set_xlim(-180,180)\n",
    "ax.set_ylim(-90,90)\n",
    "ax.invert_xaxis()\n",
    "\n",
    "fig.show()"
   ]
  },
  {
   "cell_type": "markdown",
   "metadata": {},
   "source": [
    "### Now mask out fields where data is not considered\n",
    "\n",
    "This includes:\n",
    "1. Fields within a 20 degree square centered on the galactic bulge\n",
    "2. Fields with a globular cluster in them\n",
    "3. Fields with no spectroscopic targets"
   ]
  },
  {
   "cell_type": "code",
   "execution_count": null,
   "metadata": {},
   "outputs": [],
   "source": [
    "# Cut bulge fields. Within 20 degrees of the galactic center\n",
    "mask_bulge = ~(((field_glon > 340.) |\\\n",
    "                (field_glon < 20.)) &\\\n",
    "               (np.fabs(field_glat) < 20.)\n",
    "              )\n",
    "\n",
    "# Cut fields containing enhancements of globular cluster stars\n",
    "gc_locid = [2011,4353,5093,5229,5294,5295,5296,5297,5298,5299,5300,5325,5328,\n",
    "            5329,5438,5528,5529,5744,5801]\n",
    "mask_gc = ~np.isin(field_locid,gc_locid)\n",
    "\n",
    "# Mask parts of the selection function where there are no spectroscopic \n",
    "# targets and the whole field is set to zero.\n",
    "mask_nspec = ~np.all(apogee_effSF_grid_inclArea < 1e-9, axis=1)\n",
    "        \n",
    "# The fitting mask, which represents the parts of the effective selection \n",
    "# function grid which are used in the fitting process.\n",
    "mask_effSF = mask_bulge & mask_gc & mask_nspec"
   ]
  },
  {
   "cell_type": "markdown",
   "metadata": {},
   "source": [
    "### Show the masks"
   ]
  },
  {
   "cell_type": "code",
   "execution_count": null,
   "metadata": {},
   "outputs": [],
   "source": [
    "fig = plt.figure(figsize=(10,6))\n",
    "ax = fig.add_subplot(111)\n",
    "\n",
    "plot_glon = copy.deepcopy(field_glon)\n",
    "plot_glat = copy.deepcopy(field_glat)\n",
    "plot_glon[plot_glon > 180] = plot_glon[plot_glon > 180] - 360\n",
    "\n",
    "ax.scatter(plot_glon[~mask_bulge], plot_glat[~mask_bulge], \n",
    "           s=8, c='Red', zorder=1)\n",
    "ax.scatter(plot_glon[mask_bulge], plot_glat[mask_bulge], \n",
    "           c='ForestGreen', s=4, zorder=2)\n",
    "\n",
    "ax.plot([20,20],[20,-20],c='Black',linewidth=1.,zorder=3)\n",
    "ax.plot([20,-20],[-20,-20],c='Black',linewidth=1.,zorder=3)\n",
    "ax.plot([-20,-20],[-20,20],c='Black',linewidth=1.,zorder=3)\n",
    "ax.plot([-20,20],[20,20],c='Black',linewidth=1.,zorder=3)\n",
    "\n",
    "ax.set_xlabel(r'$\\ell$ [deg]')\n",
    "ax.set_ylabel(r'$b$ [deg]')\n",
    "ax.set_xlim(-180,180)\n",
    "ax.set_ylim(-90,90)\n",
    "ax.invert_xaxis()\n",
    "\n",
    "fig.show()"
   ]
  },
  {
   "cell_type": "code",
   "execution_count": null,
   "metadata": {
    "tags": []
   },
   "outputs": [],
   "source": [
    "fig = plt.figure(figsize=(10,6))\n",
    "ax = fig.add_subplot(111)\n",
    "\n",
    "plot_glon = copy.deepcopy(field_glon)\n",
    "plot_glat = copy.deepcopy(field_glat)\n",
    "plot_glon[plot_glon > 180] = plot_glon[plot_glon > 180] - 360\n",
    "\n",
    "ax.scatter(plot_glon[~mask_gc], plot_glat[~mask_gc], s=8, c='Red', \n",
    "           zorder=1)\n",
    "ax.scatter(plot_glon[mask_gc], plot_glat[mask_gc], \n",
    "           c='ForestGreen', s=4, zorder=2)\n",
    "\n",
    "ax.set_xlabel(r'$\\ell$ [deg]')\n",
    "ax.set_ylabel(r'$b$ [deg]')\n",
    "ax.set_xlim(-180,180)\n",
    "ax.set_ylim(-90,90)\n",
    "ax.invert_xaxis()\n",
    "\n",
    "fig.show()"
   ]
  },
  {
   "cell_type": "code",
   "execution_count": null,
   "metadata": {},
   "outputs": [],
   "source": [
    "fig = plt.figure(figsize=(10,6))\n",
    "ax = fig.add_subplot(111)\n",
    "\n",
    "plot_glon = copy.deepcopy(field_glon)\n",
    "plot_glat = copy.deepcopy(field_glat)\n",
    "plot_glon[plot_glon > 180] = plot_glon[plot_glon > 180] - 360\n",
    "\n",
    "ax.scatter(plot_glon[~mask_nspec], plot_glat[~mask_nspec], s=8, c='Red', \n",
    "           zorder=1)\n",
    "ax.scatter(plot_glon[mask_nspec], plot_glat[mask_nspec], \n",
    "           c='ForestGreen', s=4, zorder=2)\n",
    "\n",
    "ax.set_xlabel(r'$\\ell$ [deg]')\n",
    "ax.set_ylabel(r'$b$ [deg]')\n",
    "ax.set_xlim(-180,180)\n",
    "ax.set_ylim(-90,90)\n",
    "ax.invert_xaxis()\n",
    "\n",
    "fig.show()"
   ]
  },
  {
   "cell_type": "markdown",
   "metadata": {},
   "source": [
    "Note that many fields overlap with fields containing globular clusters yet they \n",
    "may not contain significant numbers of globular clusters themselves.\n",
    "\n",
    "### Save the masks"
   ]
  },
  {
   "cell_type": "code",
   "execution_count": null,
   "metadata": {},
   "outputs": [],
   "source": [
    "mask_effSF_filename = data_dir+gaia_apogee_dir+\\\n",
    "    'apogee_effSF_grid_mask.npy'\n",
    "np.save(mask_effSF_filename,mask_effSF)\n",
    "\n",
    "# Also save one which doesn't exclude globular cluster fields\n",
    "mask_effsf_no_gc_filename = data_dir+gaia_apogee_dir+\\\n",
    "    'apogee_effSF_grid_mask_no_gc.npy'\n",
    "# np.save(mask_effSF_no_gc_filename,mask_bulge & mask_nspec)"
   ]
  },
  {
   "cell_type": "code",
   "execution_count": null,
   "metadata": {},
   "outputs": [],
   "source": []
  }
 ],
 "metadata": {
  "kernel_info": {
   "name": "python3"
  },
  "kernelspec": {
   "display_name": "Python 3",
   "language": "python",
   "name": "python3"
  },
  "language_info": {
   "codemirror_mode": {
    "name": "ipython",
    "version": 3
   },
   "file_extension": ".py",
   "mimetype": "text/x-python",
   "name": "python",
   "nbconvert_exporter": "python",
   "pygments_lexer": "ipython3",
   "version": "3.6.5"
  },
  "nteract": {
   "version": "0.28.0"
  }
 },
 "nbformat": 4,
 "nbformat_minor": 4
}
