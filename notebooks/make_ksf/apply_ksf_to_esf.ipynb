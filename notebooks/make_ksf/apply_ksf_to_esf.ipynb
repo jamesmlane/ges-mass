{
 "cells": [
  {
   "cell_type": "code",
   "execution_count": null,
   "metadata": {},
   "outputs": [],
   "source": [
    "# ------------------------------------------------------------------------\n",
    "#\n",
    "# TITLE - apply_kSF_to_esf\n",
    "# AUTHOR - James Lane\n",
    "# PROJECT - ges_mass\n",
    "#\n",
    "# ------------------------------------------------------------------------\n",
    "#\n",
    "# Docstrings and metadata:\n",
    "'''Use the gridded spline interpolation of the kinematic selection function \n",
    "to correct the effective selection function\n",
    "'''\n",
    "\n",
    "__author__ = \"James Lane\""
   ]
  },
  {
   "cell_type": "code",
   "execution_count": null,
   "metadata": {},
   "outputs": [],
   "source": [
    "### Imports\n",
    "\n",
    "## Basic\n",
    "import numpy as np, os, sys\n",
    "from matplotlib import pyplot as plt\n",
    "from astropy import units as apu\n",
    "import dill as pickle\n",
    "\n",
    "## galpy\n",
    "from galpy import orbit\n",
    "from galpy import potential\n",
    "\n",
    "## Project-specific\n",
    "sys.path.insert(0,'../../src/')\n",
    "from ges_mass import ssf as pssf\n",
    "from ges_mass import plot as pplot\n",
    "from ges_mass import util as putil"
   ]
  },
  {
   "cell_type": "code",
   "execution_count": null,
   "metadata": {},
   "outputs": [],
   "source": [
    "### Notebook setup\n",
    "%matplotlib inline\n",
    "plt.style.use('../../src/mpl/project.mplstyle') # This must be exactly here\n",
    "%config InlineBackend.figure_format = 'retina'\n",
    "%load_ext autoreload\n",
    "%autoreload 2"
   ]
  },
  {
   "cell_type": "markdown",
   "metadata": {},
   "source": [
    "## Keywords & Parameters"
   ]
  },
  {
   "cell_type": "code",
   "execution_count": null,
   "metadata": {},
   "outputs": [],
   "source": [
    "# Keywords\n",
    "cdict = putil.load_config_to_dict()\n",
    "keywords = ['DATA_DIR','APOGEE_DR','APOGEE_RESULTS_VERS','GAIA_DR','RO','VO','ZO']\n",
    "data_dir_base,apogee_dr,apogee_results_vers,gaia_dr,ro,vo,zo\\\n",
    "    = putil.parse_config_dict(cdict,keywords)\n",
    "\n",
    "# Pathing\n",
    "gaia_apogee_dir = 'apogee_'+apogee_dr+'_'+apogee_results_vers+'_gaia_'+gaia_dr+'/'\n",
    "data_dir = data_dir_base+'gaia_apogee/'+gaia_apogee_dir\n",
    "kSF_dir = data_dir_base+'ksf/'+gaia_apogee_dir\n",
    "fig_dir = './fig/'\n",
    "\n",
    "# Filenames\n",
    "apogee_effSF_filename = data_dir+'apogee_effSF_grid_inclArea.dat'\n",
    "apogee_fields_filename = data_dir+'apogee_fields.npy'\n",
    "\n",
    "# Forcing\n",
    "\n",
    "# Density potential for weighting\n",
    "denspot = potential.PowerSphericalPotentialwCutoff(alpha=3.5,rc=30*apu.kpc)\n",
    "\n",
    "# Distance grid\n",
    "ndistmods=301\n",
    "minmax_distmods=[7.,19.]\n",
    "distmods = np.linspace(minmax_distmods[0], minmax_distmods[1], ndistmods)\n",
    "ds = 10.**(distmods/5-2)"
   ]
  },
  {
   "cell_type": "markdown",
   "metadata": {},
   "source": [
    "## Load the data"
   ]
  },
  {
   "cell_type": "code",
   "execution_count": null,
   "metadata": {},
   "outputs": [],
   "source": [
    "# Load the effective SF grid\n",
    "print('APOGEE data release is '+apogee_dr+', and results_version is: '\\\n",
    "      +apogee_results_vers)\n",
    "print('Loading APOGEE effective selection function from '+apogee_effSF_filename)\n",
    "with open(apogee_effSF_filename,'rb') as f:\n",
    "    effSF_grid = pickle.load(f)\n",
    "##wi\n",
    "\n",
    "# Load APOGEE field information\n",
    "print('Loading APOGEE field information from '+apogee_fields_filename)\n",
    "apogee_fields = np.load(apogee_fields_filename)\n",
    "nfields = len(apogee_fields)\n",
    "\n",
    "# Make sure the effective selection function grid is consistent with our \n",
    "# distance modulus grid and apogee fields\n",
    "assert effSF_grid.shape == (nfields,ndistmods), 'effective selection function'\\\n",
    "    +' grid shape does not match number apogee fields x number distances'"
   ]
  },
  {
   "cell_type": "markdown",
   "metadata": {},
   "source": [
    "## Apply the kSF to the ESSF"
   ]
  },
  {
   "cell_type": "code",
   "execution_count": null,
   "metadata": {
    "tags": []
   },
   "outputs": [],
   "source": [
    "selec_spaces = [['AD',],\n",
    "                ['eLz',],\n",
    "                ['JRLz'],\n",
    "                ['AD','eLz'],\n",
    "                ['AD','JRLz'],\n",
    "                ['eLz','JRLz'],\n",
    "               ]\n",
    "\n",
    "for i in range(len(selec_spaces)):\n",
    "    keffSF_grid = pssf.apply_kSF_splines_to_effSF(selec_spaces[i],effSF_grid,\n",
    "        apogee_fields, ds,kSF_dir,fig_dir,ro,vo,zo,make_SF_plots=True,\n",
    "        denspot=denspot)\n",
    "    \n",
    "    "
   ]
  },
  {
   "cell_type": "code",
   "execution_count": null,
   "metadata": {},
   "outputs": [],
   "source": []
  }
 ],
 "metadata": {
  "kernel_info": {
   "name": "python3"
  },
  "kernelspec": {
   "display_name": "Python 3",
   "language": "python",
   "name": "python3"
  },
  "language_info": {
   "codemirror_mode": {
    "name": "ipython",
    "version": 3
   },
   "file_extension": ".py",
   "mimetype": "text/x-python",
   "name": "python",
   "nbconvert_exporter": "python",
   "pygments_lexer": "ipython3",
   "version": "3.6.5"
  },
  "nteract": {
   "version": "0.22.0"
  }
 },
 "nbformat": 4,
 "nbformat_minor": 4
}
