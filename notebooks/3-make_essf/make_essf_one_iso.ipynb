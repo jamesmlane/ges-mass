{
 "cells": [
  {
   "cell_type": "code",
   "execution_count": null,
   "metadata": {},
   "outputs": [],
   "source": [
    "# ------------------------------------------------------------------------\n",
    "#\n",
    "# TITLE - make_essf_one_iso.py\n",
    "# AUTHOR - James Lane\n",
    "# PROJECT - ges-mass\n",
    "#\n",
    "# ------------------------------------------------------------------------\n",
    "#\n",
    "# Docstrings and metadata:\n",
    "'''Makes the effective survey selection function for APOGEE using a single \n",
    "isochrone drawn from a larger grid of isochrones. Only used for mock data\n",
    "generation and fitting\n",
    "'''\n",
    "\n",
    "__author__ = \"James Lane\""
   ]
  },
  {
   "cell_type": "code",
   "execution_count": null,
   "metadata": {},
   "outputs": [],
   "source": [
    "### Imports\n",
    "\n",
    "# General\n",
    "import numpy as np, pdb, sys, os, dill as pickle, multiprocessing\n",
    "from tqdm.notebook import tqdm\n",
    "\n",
    "# Set APOGEE version for the package\n",
    "apogee_results_vers = 'l33'\n",
    "# Year 7 is appropriate for DR16 (l33)\n",
    "apo_combined_select_year = 7\n",
    "os.environ['RESULTS_VERS'] = apogee_results_vers\n",
    "\n",
    "# Astronomy\n",
    "import apogee.select as apsel\n",
    "import apogee.tools as apotools\n",
    "from isodist import Z2FEH\n",
    "import mwdust\n",
    "\n",
    "# Project specific\n",
    "sys.path.insert(0,'../../src/')\n",
    "from ges_mass import iso as piso\n",
    "from ges_mass import util as putil"
   ]
  },
  {
   "cell_type": "code",
   "execution_count": null,
   "metadata": {},
   "outputs": [],
   "source": [
    "### Notebook setup\n",
    "\n",
    "%load_ext autoreload\n",
    "%autoreload 2"
   ]
  },
  {
   "cell_type": "markdown",
   "metadata": {},
   "source": [
    "### Preliminaries"
   ]
  },
  {
   "cell_type": "code",
   "execution_count": null,
   "metadata": {},
   "outputs": [],
   "source": [
    "# Keywords\n",
    "cdict = putil.load_config_to_dict()\n",
    "keywords = ['BASE_DIR','APOGEE_DR','APOGEE_RESULTS_VERS','GAIA_DR','NDMOD',\n",
    "            'DMOD_MIN','DMOD_MAX','LOGG_MIN','LOGG_MAX','NPROCS']\n",
    "base_dir,apogee_dr,apogee_results_vers,gaia_dr,ndmod,dmod_min,dmod_max,\\\n",
    "    logg_min,logg_max,nprocs\\\n",
    "    = putil.parse_config_dict(cdict,keywords)\n",
    "logg_range = [logg_min,logg_max]\n",
    "\n",
    "# Manually set number of processors\n",
    "nprocs = 36 # Go higher than the config\n",
    "\n",
    "# Sanity\n",
    "assert apotools.path._APOGEE_REDUX == apogee_results_vers,\\\n",
    "    'Not using correct results version!'\n",
    "\n",
    "# Filenames\n",
    "data_dir = base_dir+'data/'\n",
    "version_dir = 'apogee_'+apogee_dr+'_'+apogee_results_vers+'_gaia_'+gaia_dr+'/'\n",
    "ga_dir = data_dir+'gaia_apogee/'+version_dir\n",
    "apogee_SF_filename = ga_dir+'apogee_SF.dat'\n",
    "apogee_effSF_filename_prefix = ga_dir+'apogee_effSF_grid_inclArea'\n",
    "iso_filename = ga_dir+'iso_grid.npy'\n",
    "\n",
    "# Forcing\n",
    "force_effSF = False # Force calculation of the essf even if one exists?\n",
    "\n",
    "# Parameters for effective survey selection function\n",
    "distmods = np.linspace(dmod_min, dmod_max, ndmod)\n",
    "ds = 10.**(distmods/5-2)"
   ]
  },
  {
   "cell_type": "markdown",
   "metadata": {},
   "source": [
    "### Loading"
   ]
  },
  {
   "cell_type": "code",
   "execution_count": null,
   "metadata": {},
   "outputs": [],
   "source": [
    "# Selection function\n",
    "print('APOGEE data release is: '+apogee_dr+', and results version is: '+apogee_results_vers)\n",
    "if os.path.exists(apogee_SF_filename):\n",
    "    print('Loading APOGEE selection function from '+apogee_SF_filename)\n",
    "    with open(apogee_SF_filename, 'rb') as f:\n",
    "        apogee_SF = pickle.load(f)\n",
    "else:\n",
    "    sys.exit('Could not find APOGEE selection function, make it. Exiting...')\n",
    "\n",
    "# Dustmap and isochrones\n",
    "print('Loading isochrone grid')\n",
    "iso_filename = ga_dir+'iso_grid.npy'\n",
    "iso = np.load(iso_filename)\n",
    "print('Loading Combined19 dust map from mwdust')\n",
    "dmap = mwdust.Combined19(filter='2MASS H') # dustmap from mwdust, use most recent"
   ]
  },
  {
   "cell_type": "markdown",
   "metadata": {
    "tags": []
   },
   "source": [
    "### Effective selection function for one isochrone\n",
    "Default is to choose $Z_{ini} = 0.0010$ and $\\log_{10}(\\mathrm{age}) = 10$"
   ]
  },
  {
   "cell_type": "code",
   "execution_count": null,
   "metadata": {},
   "outputs": [],
   "source": [
    "iso_zini = 0.0010\n",
    "iso_logAge = 10.\n",
    "print('Calculating APOGEE effective selection function for z='+str(iso_zini)+\\\n",
    "      ', log(age)='+str(iso_logAge))\n",
    "\n",
    "# Isochrone elements and weights\n",
    "# The [Fe/H] range is based approximately off of the locus of GE in Mg/Fe-Fe/H\n",
    "iso_mask = (iso['logg'] > logg_min) &\\\n",
    "           (iso['logg'] < logg_max) &\\\n",
    "           (iso['Zini'] == iso_zini) &\\\n",
    "           (iso['logAge'] == iso_logAge)\n",
    "H = iso['Hmag'][iso_mask]\n",
    "J = iso['Jmag'][iso_mask]\n",
    "K = iso['Ksmag'][iso_mask]\n",
    "weights = iso['weights_imf'][iso_mask]/iso['Zini'][iso_mask]\n",
    "\n",
    "# Create an APOGEE effective selection function object\n",
    "apogee_effSF = apsel.apogeeEffectiveSelect(apogee_SF, dmap3d=dmap, MH=H, \n",
    "                                           JK0=(J-K), weights=weights)\n",
    "\n",
    "# Function to calculate the effective selection function at one location, \n",
    "# Based on the loaded isochrone, the dust map, and including the area factor\n",
    "def _calc_effSF_inclArea_one_loc(i):\n",
    "    loc = apogee_SF._locations[i]\n",
    "    if np.sum([np.nansum(apogee_SF._nspec_short[i]),\n",
    "               np.nansum(apogee_SF._nspec_medium[i]),\n",
    "               np.nansum(apogee_SF._nspec_long[i])]) < 1.:\n",
    "        effSF_inclArea = np.zeros(len(ds))\n",
    "    else:\n",
    "        effSF_inclArea = apogee_effSF(loc, ds, MH=H, JK0=(J-K), weights=weights)\\\n",
    "                         *apogee_SF.area(loc)\n",
    "    return effSF_inclArea\n",
    "\n",
    "with multiprocessing.Pool(nprocs) as p:\n",
    "    out = list(tqdm(p.imap(_calc_effSF_inclArea_one_loc, \n",
    "                                range(0,len(apogee_SF._locations))), \n",
    "                         total=len(apogee_SF._locations)))\n",
    "apogee_effSF_grid_inclArea = np.array(out)\n",
    "apogee_effSF_filename_suffix = '_z'+str(iso_zini)+'_logAge'+str(iso_logAge)+'.dat'\n",
    "apogee_effSF_filename = apogee_effSF_filename_prefix+apogee_effSF_filename_suffix\n",
    "with open(apogee_effSF_filename, 'wb') as f:\n",
    "    pickle.dump(apogee_effSF_grid_inclArea, f)"
   ]
  },
  {
   "cell_type": "markdown",
   "metadata": {},
   "source": [
    "### Effective selection function for one isochrone with no dust\n",
    "Choose the same isochrone parameters, but now ignore dust, using `mwdust.Zero`"
   ]
  },
  {
   "cell_type": "code",
   "execution_count": null,
   "metadata": {},
   "outputs": [],
   "source": [
    "dmap = mwdust.Zero(filter='2MASS H')\n",
    "iso_zini = 0.0010\n",
    "iso_logAge = 10.\n",
    "print('Calculating APOGEE effective selection function for z='+str(iso_zini)+\\\n",
    "      ', log(age)='+str(iso_logAge)+' without dust')\n",
    "\n",
    "# Isochrone elements and weights\n",
    "# The [Fe/H] range is based approximately off of the locus of GE in Mg/Fe-Fe/H\n",
    "iso_mask = (iso['logg'] > logg_min) &\\\n",
    "           (iso['logg'] < logg_max) &\\\n",
    "           (iso['Zini'] == iso_zini) &\\\n",
    "           (iso['logAge'] == iso_logAge)\n",
    "H = iso['Hmag'][iso_mask]\n",
    "J = iso['Jmag'][iso_mask]\n",
    "K = iso['Ksmag'][iso_mask]\n",
    "weights = iso['weights_imf'][iso_mask]/iso['Zini'][iso_mask]\n",
    "\n",
    "# Create an APOGEE effective selection function object\n",
    "apogee_effSF = apsel.apogeeEffectiveSelect(apogee_SF, dmap3d=dmap, MH=H, \n",
    "                                           JK0=(J-K), weights=weights)\n",
    "\n",
    "# Function to calculate the effective selection function at one location, \n",
    "# Based on the loaded isochrone, the dust map, and including the area factor\n",
    "def _calc_effSF_inclArea_one_loc(i):\n",
    "    loc = apogee_SF._locations[i]\n",
    "    if np.sum([np.nansum(apogee_SF._nspec_short[i]),\n",
    "               np.nansum(apogee_SF._nspec_medium[i]),\n",
    "               np.nansum(apogee_SF._nspec_long[i])]) < 1.:\n",
    "        effSF_inclArea = np.zeros(len(ds))\n",
    "    else:\n",
    "        effSF_inclArea = apogee_effSF(loc, ds, MH=H, JK0=(J-K), weights=weights)\\\n",
    "                         *apogee_SF.area(loc)\n",
    "    return effSF_inclArea\n",
    "\n",
    "with multiprocessing.Pool(nprocs) as p:\n",
    "    out = list(tqdm(p.imap(_calc_effSF_inclArea_one_loc, \n",
    "                                range(0,len(apogee_SF._locations))), \n",
    "                         total=len(apogee_SF._locations)))\n",
    "apogee_effSF_grid_inclArea = np.array(out)\n",
    "apogee_effSF_filename_suffix = '_z'+str(iso_zini)+'_logAge'+str(iso_logAge)+\\\n",
    "                               '_dmap_Zero.dat'\n",
    "apogee_effSF_filename = apogee_effSF_filename_prefix+apogee_effSF_filename_suffix\n",
    "with open(apogee_effSF_filename, 'wb') as f:\n",
    "    pickle.dump(apogee_effSF_grid_inclArea, f)"
   ]
  }
 ],
 "metadata": {
  "kernel_info": {
   "name": "python3"
  },
  "kernelspec": {
   "display_name": "Python 3 (ipykernel)",
   "language": "python",
   "name": "python3"
  },
  "language_info": {
   "codemirror_mode": {
    "name": "ipython",
    "version": 3
   },
   "file_extension": ".py",
   "mimetype": "text/x-python",
   "name": "python",
   "nbconvert_exporter": "python",
   "pygments_lexer": "ipython3",
   "version": "3.10.6"
  },
  "nteract": {
   "version": "0.28.0"
  }
 },
 "nbformat": 4,
 "nbformat_minor": 4
}
