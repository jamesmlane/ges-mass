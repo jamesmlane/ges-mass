{
 "cells": [
  {
   "cell_type": "code",
   "execution_count": null,
   "metadata": {},
   "outputs": [],
   "source": [
    "# ------------------------------------------------------------------------\n",
    "#\n",
    "# TITLE - mask_essf.ipynb\n",
    "# AUTHOR - James Lane\n",
    "# PROJECT - ges-mass\n",
    "#\n",
    "# ------------------------------------------------------------------------\n",
    "#\n",
    "# Docstrings and metadata:\n",
    "'''Create a mask for the effective survey selection function grid which removes \n",
    "any fields where data is not considered for modelling.\n",
    "'''\n",
    "\n",
    "__author__ = \"James Lane\""
   ]
  },
  {
   "cell_type": "code",
   "execution_count": null,
   "metadata": {},
   "outputs": [],
   "source": [
    "### Imports\n",
    "\n",
    "## Basic\n",
    "import numpy as np\n",
    "import sys, os, pdb, copy, dill as pickle, glob\n",
    "\n",
    "## Matplotlib\n",
    "from matplotlib import pyplot as plt\n",
    "\n",
    "## Astropy\n",
    "from astropy import units as apu\n",
    "\n",
    "# Set APOGEE version for the package\n",
    "apogee_results_vers = 'l33'\n",
    "# Year 7 is appropriate for DR16 (l33)\n",
    "apo_combined_select_year = 7\n",
    "os.environ['RESULTS_VERS'] = apogee_results_vers\n",
    "\n",
    "import apogee.select as apsel\n",
    "import apogee.tools as apotools\n",
    "\n",
    "# Project specific\n",
    "sys.path.insert(0,'../../src/')\n",
    "from ges_mass import util as putil\n",
    "from ges_mass import mass as pmass\n",
    "from ges_mass import ssf as pssf\n",
    "\n",
    "### Notebook setup\n",
    "\n",
    "%matplotlib inline\n",
    "plt.style.use('../../src/mpl/project.mplstyle') # This must be exactly here\n",
    "%config InlineBackend.figure_format = 'retina'\n",
    "%load_ext autoreload\n",
    "%autoreload 2"
   ]
  },
  {
   "cell_type": "markdown",
   "metadata": {
    "tags": []
   },
   "source": [
    "### Preliminaries"
   ]
  },
  {
   "cell_type": "code",
   "execution_count": null,
   "metadata": {},
   "outputs": [],
   "source": [
    "# Keywords\n",
    "cdict = putil.load_config_to_dict()\n",
    "keywords = ['BASE_DIR','APOGEE_DR','APOGEE_RESULTS_VERS','GAIA_DR','NDMOD',\n",
    "            'DMOD_MIN','DMOD_MAX','FEH_MIN','FEH_MAX','FEH_MIN_GSE',\n",
    "            'FEH_MAX_GSE']\n",
    "base_dir,apogee_dr,apogee_results_vers,gaia_dr,ndmod,dmod_min,dmod_max,feh_min,\\\n",
    "    feh_max,feh_min_gse,feh_max_gse = putil.parse_config_dict(cdict,keywords)\n",
    "\n",
    "# Filenames\n",
    "data_dir = base_dir+'data/'\n",
    "version_dir = 'apogee_'+apogee_dr+'_'+apogee_results_vers+'_gaia_'+gaia_dr+'/'\n",
    "ga_dir = data_dir+'gaia_apogee/'+version_dir\n",
    "fig_dir = './fig/'\n",
    "os.makedirs(fig_dir, exist_ok=True)\n",
    "apogee_SF_filename = ga_dir+'apogee_SF.dat'\n",
    "# Multiple possible effective selection function grids for different Fe/H ranges\n",
    "apogee_effSF_filenames = glob.glob(ga_dir+'apogee_effSF_grid_inclArea*feh*.dat')\n",
    "\n",
    "# Main eSSF mask output filename\n",
    "mask_effSF_filename = ga_dir+'apogee_effSF_grid_mask.npy'\n",
    "# Also save one which doesn't exclude globular cluster fields\n",
    "mask_effSF_incl_gc_filename = ga_dir+'apogee_effSF_grid_mask_incl_gc.npy'\n",
    "# Also save one which masks out the whole disk\n",
    "mask_effSF_no_disk_filename = ga_dir+'apogee_effSF_grid_mask_no_disk.npy'"
   ]
  },
  {
   "cell_type": "markdown",
   "metadata": {},
   "source": [
    "### Load data"
   ]
  },
  {
   "cell_type": "code",
   "execution_count": null,
   "metadata": {},
   "outputs": [],
   "source": [
    "# Selection function\n",
    "print('APOGEE data release is: '+apogee_dr+', and results version is: '+apogee_results_vers)\n",
    "if os.path.exists(apogee_SF_filename):\n",
    "    print('Loading APOGEE selection function from '+apogee_SF_filename)\n",
    "    with open(apogee_SF_filename, 'rb') as f:\n",
    "        apogee_SF = pickle.load(f)\n",
    "else:\n",
    "    sys.exit('Could not find APOGEE selection function, make it. Exiting...')"
   ]
  },
  {
   "cell_type": "code",
   "execution_count": null,
   "metadata": {},
   "outputs": [],
   "source": [
    "# Check to see if all of the effective selection functions with different \n",
    "# [Fe/H] ranges will behave the same. They should\n",
    "for i in range(len(apogee_effSF_filenames)):\n",
    "    print('Examining Nspec mask for effective selection function: '+apogee_effSF_filenames[i])\n",
    "    with open(apogee_effSF_filenames[i],'rb') as f:\n",
    "        apof = pickle.load(f)\n",
    "    _apof_nspec_mask = ~np.all(apof < 1e-9, axis=1)\n",
    "    if i == 0:\n",
    "        apof_nspec_mask = _apof_nspec_mask\n",
    "    else:\n",
    "        assert np.all(apof_nspec_mask==_apof_nspec_mask),\\\n",
    "            'Not all effective selection functions have the same Nspec mask. '+\\\n",
    "            'Should manually determine masks for each effective selection '+\\\n",
    "            'function grid'\n",
    "print('\\nAll selection functions have the same Nspec mask, loading the grid '\n",
    "      'corresponding to FEH_MIN and FEH_MAX')\n",
    "\n",
    "# Load the effective selection function grid\n",
    "apogee_effSF_filename = ga_dir+'apogee_effSF_grid_inclArea_'+\\\n",
    "                        str(feh_min)+'_feh_'+str(feh_max)+'.dat'\n",
    "if os.path.exists(apogee_effSF_filename):\n",
    "    print('\\nLoading effective selection function from '+apogee_effSF_filename)\n",
    "    with open(apogee_effSF_filename,'rb') as f:\n",
    "        apogee_effSF_grid_inclArea = pickle.load(f)\n",
    "else:\n",
    "    sys.exit('\\nFailed to load effective survey section function')"
   ]
  },
  {
   "cell_type": "markdown",
   "metadata": {},
   "source": [
    "### Field and eSSF grid information"
   ]
  },
  {
   "cell_type": "code",
   "execution_count": null,
   "metadata": {},
   "outputs": [],
   "source": [
    "# Field info\n",
    "apogee_field = apogee_SF._apogeeField\n",
    "n_field = len(apogee_field)\n",
    "field_glon = apogee_field['GLON']\n",
    "field_glat = apogee_field['GLAT']\n",
    "field_locid = apogee_field['LOCATION_ID']\n",
    "\n",
    "# Distance modulus grid\n",
    "dmod,dist = putil.make_dmod_grid(ndmod,dmod_min,dmod_max)\n",
    "\n",
    "# Some sanity checks\n",
    "assert len(field_glon) == apogee_effSF_grid_inclArea.shape[0]\n",
    "assert np.all(field_locid == apogee_SF._locations)"
   ]
  },
  {
   "cell_type": "markdown",
   "metadata": {},
   "source": [
    "### Now mask out fields where data is not considered\n",
    "\n",
    "This includes:\n",
    "1. Fields within a 20 degree square centered on the galactic bulge\n",
    "2. Fields with a globular cluster in them\n",
    "3. Fields with no spectroscopic targets"
   ]
  },
  {
   "cell_type": "code",
   "execution_count": null,
   "metadata": {},
   "outputs": [],
   "source": [
    "# Cut bulge fields. Within 20 degrees of the galactic center\n",
    "mask_bulge = ~(((field_glon > 340.) |\\\n",
    "                (field_glon < 20.)) &\\\n",
    "               (np.fabs(field_glat) < 20.)\n",
    "              )\n",
    "\n",
    "# Cut fields containing enhancements of globular cluster stars\n",
    "gc_locid = pssf.get_globular_cluster_fields()\n",
    "mask_gc = ~np.isin(field_locid,gc_locid)\n",
    "\n",
    "# Mask parts of the selection function where there are no spectroscopic \n",
    "# targets and the whole field is set to zero.\n",
    "mask_nspec = ~np.all(apogee_effSF_grid_inclArea < 1e-9, axis=1)\n",
    "\n",
    "# Mask the disk at |b|<20\n",
    "mask_disk = (np.fabs(field_glat) > 20.)\n",
    "\n",
    "# The fitting mask, which represents the parts of the effective selection \n",
    "# function grid which are used in the fitting process. Make one with and \n",
    "# one without the GC mask\n",
    "mask_effSF = mask_bulge & mask_gc & mask_nspec\n",
    "mask_effSF_no_disk = mask_bulge & mask_gc & mask_nspec & mask_disk\n",
    "mask_effSF_incl_gc = mask_bulge & mask_nspec"
   ]
  },
  {
   "cell_type": "markdown",
   "metadata": {},
   "source": [
    "### Show the masks"
   ]
  },
  {
   "cell_type": "code",
   "execution_count": null,
   "metadata": {},
   "outputs": [],
   "source": [
    "fig = plt.figure(figsize=(10,6))\n",
    "ax = fig.add_subplot(111)\n",
    "\n",
    "plot_glon = copy.deepcopy(field_glon)\n",
    "plot_glat = copy.deepcopy(field_glat)\n",
    "plot_glon[plot_glon > 180] = plot_glon[plot_glon > 180] - 360\n",
    "\n",
    "ax.scatter(plot_glon[~mask_bulge], plot_glat[~mask_bulge], \n",
    "           s=8, c='Red', zorder=1, label='Fields inside bulge mask')\n",
    "ax.scatter(plot_glon[mask_bulge], plot_glat[mask_bulge], \n",
    "           c='ForestGreen', s=4, zorder=2, label='Fields outside bulge mask')\n",
    "\n",
    "ax.plot([20,20],[20,-20],c='Black',linewidth=1.,zorder=3)\n",
    "ax.plot([20,-20],[-20,-20],c='Black',linewidth=1.,zorder=3)\n",
    "ax.plot([-20,-20],[-20,20],c='Black',linewidth=1.,zorder=3)\n",
    "ax.plot([-20,20],[20,20],c='Black',linewidth=1.,zorder=3)\n",
    "\n",
    "ax.set_xlabel(r'$\\ell$ [deg]')\n",
    "ax.set_ylabel(r'$b$ [deg]')\n",
    "ax.set_xlim(-180,180)\n",
    "ax.set_ylim(-90,90)\n",
    "ax.invert_xaxis()\n",
    "ax.legend()\n",
    "\n",
    "fig.savefig(fig_dir+'bulge_mask.png')\n",
    "fig.show()"
   ]
  },
  {
   "cell_type": "code",
   "execution_count": null,
   "metadata": {
    "tags": []
   },
   "outputs": [],
   "source": [
    "fig = plt.figure(figsize=(10,6))\n",
    "ax = fig.add_subplot(111)\n",
    "\n",
    "plot_glon = copy.deepcopy(field_glon)\n",
    "plot_glat = copy.deepcopy(field_glat)\n",
    "plot_glon[plot_glon > 180] = plot_glon[plot_glon > 180] - 360\n",
    "\n",
    "ax.scatter(plot_glon[~mask_gc], plot_glat[~mask_gc], s=8, c='Red', \n",
    "           zorder=1, label='GC fields')\n",
    "ax.scatter(plot_glon[mask_gc], plot_glat[mask_gc], \n",
    "           c='ForestGreen', s=4, zorder=2, \n",
    "           label='Fields without GC contamination')\n",
    "\n",
    "ax.set_xlabel(r'$\\ell$ [deg]')\n",
    "ax.set_ylabel(r'$b$ [deg]')\n",
    "ax.set_xlim(-180,180)\n",
    "ax.set_ylim(-90,90)\n",
    "ax.invert_xaxis()\n",
    "ax.legend()\n",
    "\n",
    "fig.savefig(fig_dir+'gc_mask.png')\n",
    "fig.show()"
   ]
  },
  {
   "cell_type": "code",
   "execution_count": null,
   "metadata": {},
   "outputs": [],
   "source": [
    "fig = plt.figure(figsize=(10,6))\n",
    "ax = fig.add_subplot(111)\n",
    "\n",
    "plot_glon = copy.deepcopy(field_glon)\n",
    "plot_glat = copy.deepcopy(field_glat)\n",
    "plot_glon[plot_glon > 180] = plot_glon[plot_glon > 180] - 360\n",
    "\n",
    "ax.scatter(plot_glon[~mask_nspec], plot_glat[~mask_nspec], s=8, c='Red', \n",
    "           zorder=1, label='Fields with no spectroscopic targets')\n",
    "ax.scatter(plot_glon[mask_nspec], plot_glat[mask_nspec], \n",
    "           c='ForestGreen', s=4, zorder=2, \n",
    "           label='Fields with spectroscopic targets')\n",
    "\n",
    "ax.set_xlabel(r'$\\ell$ [deg]')\n",
    "ax.set_ylabel(r'$b$ [deg]')\n",
    "ax.set_xlim(-180,180)\n",
    "ax.set_ylim(-90,90)\n",
    "ax.invert_xaxis()\n",
    "ax.legend()\n",
    "\n",
    "fig.savefig(fig_dir+'nspec_mask.png')\n",
    "fig.show()"
   ]
  },
  {
   "cell_type": "code",
   "execution_count": null,
   "metadata": {},
   "outputs": [],
   "source": [
    "fig = plt.figure(figsize=(10,6))\n",
    "ax = fig.add_subplot(111)\n",
    "\n",
    "plot_glon = copy.deepcopy(field_glon)\n",
    "plot_glat = copy.deepcopy(field_glat)\n",
    "plot_glon[plot_glon > 180] = plot_glon[plot_glon > 180] - 360\n",
    "\n",
    "ax.scatter(plot_glon[~mask_disk], plot_glat[~mask_disk], s=8, c='Red', \n",
    "           zorder=1, label='Fields not in the fitting sample')\n",
    "ax.scatter(plot_glon[mask_disk], plot_glat[mask_disk], \n",
    "           c='ForestGreen', s=4, zorder=2, \n",
    "           label='Fields in the fitting sample')\n",
    "\n",
    "ax.set_xlabel(r'$\\ell$ [deg]')\n",
    "ax.set_ylabel(r'$b$ [deg]')\n",
    "ax.set_xlim(-180,180)\n",
    "ax.set_ylim(-90,90)\n",
    "ax.invert_xaxis()\n",
    "ax.legend()\n",
    "\n",
    "fig.savefig(fig_dir+'disk_mask.png')\n",
    "fig.show()"
   ]
  },
  {
   "cell_type": "code",
   "execution_count": null,
   "metadata": {},
   "outputs": [],
   "source": [
    "fig = plt.figure(figsize=(10,6))\n",
    "ax = fig.add_subplot(111)\n",
    "\n",
    "plot_glon = copy.deepcopy(field_glon)\n",
    "plot_glat = copy.deepcopy(field_glat)\n",
    "plot_glon[plot_glon > 180] = plot_glon[plot_glon > 180] - 360\n",
    "\n",
    "ax.scatter(plot_glon[~mask_effSF], plot_glat[~mask_effSF], s=8, c='Red', \n",
    "           zorder=1, label='Fields not in the fitting sample')\n",
    "ax.scatter(plot_glon[mask_effSF], plot_glat[mask_effSF], \n",
    "           c='ForestGreen', s=4, zorder=2, \n",
    "           label='Fields in the fitting sample')\n",
    "\n",
    "ax.set_xlabel(r'$\\ell$ [deg]')\n",
    "ax.set_ylabel(r'$b$ [deg]')\n",
    "ax.set_xlim(-180,180)\n",
    "ax.set_ylim(-90,90)\n",
    "ax.invert_xaxis()\n",
    "ax.legend()\n",
    "\n",
    "fig.savefig(fig_dir+'essf_mask.png')\n",
    "fig.show()"
   ]
  },
  {
   "cell_type": "markdown",
   "metadata": {},
   "source": [
    "Note that many fields overlap with fields containing globular clusters yet they \n",
    "may not contain significant numbers of globular clusters themselves.\n",
    "\n",
    "### Save the masks"
   ]
  },
  {
   "cell_type": "code",
   "execution_count": null,
   "metadata": {},
   "outputs": [],
   "source": [
    "np.save(mask_effSF_filename, mask_effSF)\n",
    "np.save(mask_effSF_no_disk_filename, mask_effSF_no_disk)\n",
    "np.save(mask_effSF_incl_gc_filename, mask_effSF_incl_gc)"
   ]
  }
 ],
 "metadata": {
  "kernel_info": {
   "name": "python3"
  },
  "kernelspec": {
   "display_name": "Python 3 (ipykernel)",
   "language": "python",
   "name": "python3"
  },
  "language_info": {
   "codemirror_mode": {
    "name": "ipython",
    "version": 3
   },
   "file_extension": ".py",
   "mimetype": "text/x-python",
   "name": "python",
   "nbconvert_exporter": "python",
   "pygments_lexer": "ipython3",
   "version": "3.10.5"
  },
  "nteract": {
   "version": "0.28.0"
  }
 },
 "nbformat": 4,
 "nbformat_minor": 4
}
