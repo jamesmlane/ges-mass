{
 "cells": [
  {
   "cell_type": "code",
   "execution_count": null,
   "metadata": {
    "tags": []
   },
   "outputs": [],
   "source": [
    "# ------------------------------------------------------------------------\n",
    "#\n",
    "# TITLE - plot_fit_gse.ipynb\n",
    "# AUTHOR - James Lane\n",
    "# PROJECT - ges-mass\n",
    "#\n",
    "# ------------------------------------------------------------------------\n",
    "#\n",
    "# Docstrings and metadata:\n",
    "'''Plot fits to the GS/E sample Gaia/APOGEE data\n",
    "'''\n",
    "\n",
    "__author__ = \"James Lane\""
   ]
  },
  {
   "cell_type": "code",
   "execution_count": null,
   "metadata": {
    "tags": []
   },
   "outputs": [],
   "source": [
    "### Imports\n",
    "\n",
    "# Basic\n",
    "import os, sys, pdb, warnings, copy, dill as pickle\n",
    "import numpy as np\n",
    "\n",
    "# Matplotlib and plotting \n",
    "import matplotlib\n",
    "import matplotlib.pyplot as plt\n",
    "import corner\n",
    "\n",
    "# Project specific\n",
    "sys.path.insert(0,'../../src/')\n",
    "from ges_mass import mass as pmass\n",
    "from ges_mass import densprofiles as pdens\n",
    "from ges_mass import util as putil\n",
    "from ges_mass import plot as pplot\n",
    "\n",
    "### Notebook setup\n",
    "\n",
    "%matplotlib inline\n",
    "plt.style.use('../../src/mpl/project.mplstyle') # This must be exactly here\n",
    "%config InlineBackend.figure_format = 'retina'\n",
    "%load_ext autoreload\n",
    "%autoreload 2"
   ]
  },
  {
   "cell_type": "markdown",
   "metadata": {
    "tags": []
   },
   "source": [
    "### Keywords, Pathing, Loading, Data Preparation"
   ]
  },
  {
   "cell_type": "code",
   "execution_count": null,
   "metadata": {
    "tags": []
   },
   "outputs": [],
   "source": [
    "# %load ../../src/nb_modules/keywords_pathing_loading_data_prep.py\n",
    "## Keywords\n",
    "cdict = putil.load_config_to_dict()\n",
    "keywords = ['BASE_DIR','APOGEE_DR','APOGEE_RESULTS_VERS','GAIA_DR','NDMOD',\n",
    "            'DMOD_MIN','DMOD_MAX','LOGG_MIN','LOGG_MAX','FEH_MIN','FEH_MAX',\n",
    "            'FEH_MIN_GSE','FEH_MAX_GSE','DF_VERSION','KSF_VERSION','NPROCS',\n",
    "            'RO','VO','ZO']\n",
    "base_dir,apogee_dr,apogee_results_vers,gaia_dr,ndmod,dmod_min,dmod_max,\\\n",
    "    logg_min,logg_max,feh_min,feh_max,feh_min_gse,feh_max_gse,df_version,\\\n",
    "    ksf_version,nprocs,ro,vo,zo = putil.parse_config_dict(cdict,keywords)\n",
    "logg_range = [logg_min,logg_max]\n",
    "feh_range = [feh_min,feh_max]\n",
    "feh_range_gse = [feh_min_gse,feh_max_gse]\n",
    "feh_range_all = [feh_min,feh_max_gse]\n",
    "feh_range_fit = copy.deepcopy( feh_range_gse )# Need to choose here\n",
    "\n",
    "\n",
    "## Pathing\n",
    "fit_paths = putil.prepare_paths(base_dir,apogee_dr,apogee_results_vers,gaia_dr,\n",
    "                                df_version,ksf_version)\n",
    "data_dir,version_dir,ga_dir,gap_dir,df_dir,ksf_dir,fit_dir = fit_paths\n",
    "\n",
    "## Filenames\n",
    "fit_filenames = putil.prepare_filenames(ga_dir,gap_dir,feh_range_gse)\n",
    "apogee_SF_filename,apogee_effSF_filename,apogee_effSF_mask_filename,\\\n",
    "    iso_grid_filename,clean_kinematics_filename = fit_filenames\n",
    "\n",
    "## File loading and data preparation\n",
    "fit_stuff,other_stuff = putil.prepare_fitting(fit_filenames,\n",
    "    [ndmod,dmod_min,dmod_max], ro,zo,return_other=True)\n",
    "apogee_effSF_mask,dmap,iso_grid,jkmins,dmods,ds,effsel_grid,apof,\\\n",
    "    allstar_nomask,orbs_nomask = fit_stuff\n",
    "Rgrid,phigrid,zgrid = effsel_grid\n",
    "\n",
    "# ## Load the distribution functions\n",
    "# df_filename = df_dir+'dfs.pkl'\n",
    "# betas = [0.3,0.8]\n",
    "# dfs = putil.load_distribution_functions(df_filename, betas)"
   ]
  },
  {
   "cell_type": "markdown",
   "metadata": {},
   "source": [
    "### Global Parameters"
   ]
  },
  {
   "cell_type": "code",
   "execution_count": null,
   "metadata": {
    "tags": []
   },
   "outputs": [],
   "source": [
    "# %load ../../src/nb_modules/global_fitting_params.py\n",
    "## general kwargs\n",
    "verbose = True\n",
    "\n",
    "## HaloFit kwargs (ordering follows HaloFit.__init__)\n",
    "# allstar and orbs loaded in prep cell\n",
    "init = None\n",
    "init_type = 'ML'\n",
    "# fit_type provided at runtime\n",
    "mask_disk = True\n",
    "mask_halo = True\n",
    "# densfunc, selec provided at runtime\n",
    "# effsel, effsel_grid, effsel_mask, dmods loaded in prep cell\n",
    "nwalkers = 100\n",
    "nit = int(2e3)\n",
    "ncut = int(1e3)\n",
    "# usr_log_prior provided at runtime\n",
    "n_mass = 2000 # int(nwalkers*(nit-ncut))\n",
    "int_r_range = [2.,70.]\n",
    "iso = None # Will read from iso_grid_filename\n",
    "# iso_filename, jkmins loaded in prep cell\n",
    "# feh_range provided at runtime\n",
    "# logg_range loaded in config cell\n",
    "# fit_dir, gap_dir, ksf_dir loaded in prep cell\n",
    "# version provided at runtime\n",
    "# ro, vo, zo loaded in config cell\n",
    "\n",
    "hf_kwargs = {## HaloFit parameters\n",
    "             'allstar':allstar_nomask,\n",
    "             'orbs':orbs_nomask,\n",
    "             'init':init,\n",
    "             'init_type':init_type,\n",
    "             # 'fit_type':fit_type, # provided at runtime\n",
    "             'mask_disk':mask_disk,\n",
    "             'mask_halo':mask_halo,\n",
    "             ## _HaloFit parameters\n",
    "             # 'densfunc':densfunc, # provided at runtime\n",
    "             # 'selec':selec, # provided at runtime\n",
    "             'effsel':apof,\n",
    "             'effsel_mask':apogee_effSF_mask,\n",
    "             'effsel_grid':effsel_grid,\n",
    "             'dmods':dmods,\n",
    "             'nwalkers':nwalkers,\n",
    "             'nit':nit,\n",
    "             'ncut':ncut,\n",
    "             # 'usr_log_prior':usr_log_prior, # provided at runtime\n",
    "             'n_mass':n_mass,\n",
    "             'int_r_range':int_r_range,\n",
    "             'iso':iso,\n",
    "             'iso_filename':iso_grid_filename,\n",
    "             'jkmins':jkmins,\n",
    "             # 'feh_range':feh_range, # provided at runtime\n",
    "             'logg_range':logg_range,\n",
    "             'fit_dir':fit_dir,\n",
    "             'gap_dir':gap_dir,\n",
    "             'ksf_dir':ksf_dir,\n",
    "             # 'version':version, # provided at runtime\n",
    "             'verbose':verbose,\n",
    "             'ro':ro,\n",
    "             'vo':vo,\n",
    "             'zo':zo}\n",
    "\n",
    "## pmass.fit() function kwargs\n",
    "# nprocs set in config file\n",
    "force_fit = True\n",
    "mle_init = True\n",
    "just_mle = False\n",
    "return_walkers = True\n",
    "optimizer_method = 'Powell'\n",
    "mass_int_type = 'spherical_grid'\n",
    "batch_masses = True\n",
    "make_ml_aic_bic = True\n",
    "calculate_masses = True\n",
    "post_optimization = True\n",
    "mcmc_diagnostic = True\n",
    "\n",
    "fit_kwargs = {# 'nprocs':nprocs, # Normally given at runtime \n",
    "              'force_fit':force_fit,\n",
    "              'mle_init':mle_init,\n",
    "              'just_mle':just_mle,\n",
    "              'return_walkers':return_walkers,\n",
    "              'optimizer_method':optimizer_method,\n",
    "              'mass_int_type':mass_int_type,\n",
    "              'batch_masses':batch_masses,\n",
    "              'make_ml_aic_bic':make_ml_aic_bic,\n",
    "              'calculate_masses':calculate_masses,\n",
    "              'post_optimization':post_optimization,\n",
    "              'mcmc_diagnostic':mcmc_diagnostic,\n",
    "              }"
   ]
  },
  {
   "cell_type": "markdown",
   "metadata": {},
   "source": [
    "## Convenience functions"
   ]
  },
  {
   "cell_type": "markdown",
   "metadata": {},
   "source": [
    "Plots to make:\n",
    "- Each needs its own kwargs\n",
    "- Each needs to be called flexibly\n",
    "\n",
    "1. Corner plot\n",
    "- With / without masses\n",
    "- Needs kwargs\n",
    "\n",
    "\n",
    "2. Just masses\n",
    "- Needs kwargs\n",
    "\n",
    "\n",
    "3. Distance modulus posterior\n",
    "- Needs kwargs\n",
    "- Include log(radius on a twin axis)\n",
    "\n",
    "\n",
    "4. Density profile / contours\n",
    "- Needs kwargs\n",
    "- Needs a hole in the center of the figure\n",
    "\n",
    "\n",
    "5. Density vs. effective radius\n",
    "- Should include effective volume to show where "
   ]
  },
  {
   "cell_type": "code",
   "execution_count": null,
   "metadata": {
    "tags": []
   },
   "outputs": [],
   "source": [
    "def make_plots(hf, make_arr, corner_kwargs={}, masses_kwargs={}, \n",
    "               dmod_posterior_kwargs={}, density_slice_kwargs={}, \n",
    "               density_re_kwargs={}, return_figs=True):\n",
    "    '''make_arr is corner,masses,dmod_posterior,density_slice,density_re\n",
    "    '''\n",
    "    \n",
    "    # Unpack boolean arrays\n",
    "    make_corner, make_masses, make_dmod_posterior, make_density_slice,\\\n",
    "        make_density_re = make_arr\n",
    "    \n",
    "    # Make sure that the HaloFit object has the results loaded\n",
    "    hf.get_results()\n",
    "    hf.get_loglike_ml_aic_bic()\n",
    "    \n",
    "    figs = []\n",
    "    \n",
    "    # Make each figure\n",
    "    if make_corner:\n",
    "        print('Making corner figure')\n",
    "        fig = pplot.plot_corner(hf, **corner_kwargs)\n",
    "        fig.savefig(hf.fit_fig_dir+'corner.png')\n",
    "        figs.append(fig)\n",
    "        \n",
    "    if make_masses:\n",
    "        print('Making masses figure')\n",
    "        fig = pplot.plot_masses(hf, **masses_kwargs)\n",
    "        fig.savefig(hf.fit_fig_dir+'masses.png')\n",
    "        figs.append(fig)\n",
    "        \n",
    "    if make_dmod_posterior:\n",
    "        print('Making distance modulus posterior figure')\n",
    "        fig = pplot.plot_distmod_posterior(hf, **dmod_posterior_kwargs)\n",
    "        fig.savefig(hf.fit_fig_dir+'dmod_posterior.png')\n",
    "        figs.append(fig)\n",
    "        \n",
    "    if make_density_slice:\n",
    "        print('Making density slice figure')\n",
    "        fig = pplot.plot_density_xyz(hf, **density_slice_kwargs)\n",
    "        fig.savefig(hf.fit_fig_dir+'density_slice.png')\n",
    "        figs.append(fig)\n",
    "        \n",
    "    if make_density_re:\n",
    "        print('Make density vs effective radius figure')\n",
    "        fig = pplot.plot_density_re(hf, **density_re_kwargs)\n",
    "        fig.savefig(hf.fit_fig_dir+'density_re.png')\n",
    "        figs.append(fig)\n",
    "    \n",
    "    if return_figs:\n",
    "        return figs"
   ]
  },
  {
   "cell_type": "markdown",
   "metadata": {},
   "source": [
    "## Plotting parameters"
   ]
  },
  {
   "cell_type": "code",
   "execution_count": null,
   "metadata": {},
   "outputs": [],
   "source": [
    "make_arr = [True,True,True,False,True]\n",
    "\n",
    "corner_kwargs={'samples':None,\n",
    "               'plot_mass':False,\n",
    "               'thin':None,\n",
    "               'thin_to':int(1e6),\n",
    "               'quantiles':[0.16,0.5,0.84],\n",
    "               'show_titles':True,\n",
    "               'truths':'post',\n",
    "               'corner_kwargs':{}}\n",
    "\n",
    "masses_kwargs={}\n",
    "\n",
    "dmod_posterior_kwargs={'nrand':50,\n",
    "                       }\n",
    "\n",
    "density_slice_kwargs={'contour':True,\n",
    "                     }\n",
    "                      #'contour_kwargs':{'colors':'Black',\n",
    "                      #                  'levels':[0.5,1.,1.5,2.]}}\n",
    "\n",
    "density_re_kwargs={'nrand':50,\n",
    "                   'plot_physical':True,\n",
    "                   }\n",
    "\n",
    "return_figs = True\n",
    "\n",
    "plot_kwargs = {'corner_kwargs':corner_kwargs,\n",
    "               'masses_kwargs':masses_kwargs,\n",
    "               'dmod_posterior_kwargs':dmod_posterior_kwargs,\n",
    "               'density_slice_kwargs':density_slice_kwargs,\n",
    "               'density_re_kwargs':density_re_kwargs,\n",
    "               'return_figs':return_figs\n",
    "              }"
   ]
  },
  {
   "cell_type": "markdown",
   "metadata": {},
   "source": [
    "## Plotting fits with GS/E [Fe/H] range, using 100w_2e3n version"
   ]
  },
  {
   "cell_type": "code",
   "execution_count": null,
   "metadata": {},
   "outputs": [],
   "source": [
    "feh_range_fit = copy.deepcopy(feh_range_gse)\n",
    "version = '50w_2e3n'\n",
    "fit_type = 'gse'"
   ]
  },
  {
   "cell_type": "markdown",
   "metadata": {},
   "source": [
    "## e-Lz selection"
   ]
  },
  {
   "cell_type": "code",
   "execution_count": null,
   "metadata": {},
   "outputs": [],
   "source": [
    "selec = ['eLz',]\n",
    "densfunc = pdens.triaxial_single_angle_zvecpa\n",
    "def usr_log_prior(densfunc,params):\n",
    "    return None\n",
    "hf = pmass.HaloFit(densfunc=densfunc,\n",
    "                   selec=selec,\n",
    "                   fit_type=fit_type,\n",
    "                   feh_range=feh_range_fit,\n",
    "                   version=version,\n",
    "                   **hf_kwargs)"
   ]
  },
  {
   "cell_type": "markdown",
   "metadata": {},
   "source": [
    "### Triaxial single power law"
   ]
  },
  {
   "cell_type": "code",
   "execution_count": null,
   "metadata": {},
   "outputs": [],
   "source": [
    "hf.version"
   ]
  },
  {
   "cell_type": "code",
   "execution_count": null,
   "metadata": {
    "tags": []
   },
   "outputs": [],
   "source": [
    "densfunc = pdens.triaxial_single_angle_zvecpa\n",
    "hf.set_densfunc(densfunc)\n",
    "figs = make_plots(hf,make_arr,**plot_kwargs)"
   ]
  },
  {
   "cell_type": "code",
   "execution_count": null,
   "metadata": {
    "tags": []
   },
   "outputs": [],
   "source": [
    "densfunc = pdens.triaxial_single_angle_zvecpa_plusexpdisk\n",
    "hf.set_densfunc(densfunc,usr_log_prior=usr_log_prior)\n",
    "figs = make_plots(hf,make_arr,**plot_kwargs)"
   ]
  },
  {
   "cell_type": "markdown",
   "metadata": {
    "tags": []
   },
   "source": [
    "### Triaxial exponentially truncated single power law"
   ]
  },
  {
   "cell_type": "code",
   "execution_count": null,
   "metadata": {},
   "outputs": [],
   "source": [
    "densfunc = pdens.triaxial_single_cutoff_zvecpa\n",
    "hf.set_densfunc(densfunc,usr_log_prior=usr_log_prior)\n",
    "figs = make_plots(hf,make_arr,corner_kwargs=corner_kwargs)"
   ]
  },
  {
   "cell_type": "code",
   "execution_count": null,
   "metadata": {
    "tags": []
   },
   "outputs": [],
   "source": [
    "densfunc = pdens.triaxial_single_cutoff_zvecpa_plusexpdisk\n",
    "hf.set_densfunc(densfunc,usr_log_prior=usr_log_prior)\n",
    "figs = make_plots(hf,make_arr,**plot_kwargs)"
   ]
  },
  {
   "cell_type": "markdown",
   "metadata": {
    "tags": []
   },
   "source": [
    "### Triaxial broken power law"
   ]
  },
  {
   "cell_type": "code",
   "execution_count": null,
   "metadata": {
    "tags": []
   },
   "outputs": [],
   "source": [
    "densfunc = pdens.triaxial_broken_angle_zvecpa\n",
    "hf.set_densfunc(densfunc,usr_log_prior=usr_log_prior)\n",
    "figs = make_plots(hf,make_arr,**plot_kwargs)"
   ]
  },
  {
   "cell_type": "code",
   "execution_count": null,
   "metadata": {
    "tags": []
   },
   "outputs": [],
   "source": [
    "densfunc = pdens.triaxial_broken_angle_zvecpa_plusexpdisk\n",
    "hf.set_densfunc(densfunc,usr_log_prior=usr_log_prior)\n",
    "figs = make_plots(hf,make_arr,**plot_kwargs)"
   ]
  },
  {
   "cell_type": "code",
   "execution_count": null,
   "metadata": {
    "tags": []
   },
   "outputs": [],
   "source": [
    "# densfunc = pdens.triaxial_broken_angle_zvecpa_inv\n",
    "# hf.set_densfunc(densfunc)\n",
    "# figs = make_plots(hf,make_arr,corner_kwargs=corner_kwargs)"
   ]
  },
  {
   "cell_type": "markdown",
   "metadata": {},
   "source": [
    "### Triaxial double broken power law"
   ]
  },
  {
   "cell_type": "code",
   "execution_count": null,
   "metadata": {
    "tags": []
   },
   "outputs": [],
   "source": [
    "densfunc = pdens.triaxial_double_broken_angle_zvecpa\n",
    "hf.set_densfunc(densfunc,usr_log_prior=usr_log_prior)\n",
    "figs = make_plots(hf,make_arr,**plot_kwargs)"
   ]
  },
  {
   "cell_type": "code",
   "execution_count": null,
   "metadata": {
    "tags": []
   },
   "outputs": [],
   "source": [
    "densfunc = pdens.triaxial_double_broken_angle_zvecpa_plusexpdisk\n",
    "hf.set_densfunc(densfunc,usr_log_prior=usr_log_prior)\n",
    "figs = make_plots(hf,make_arr,**plot_kwargs)"
   ]
  },
  {
   "cell_type": "markdown",
   "metadata": {},
   "source": [
    "## AD selection"
   ]
  },
  {
   "cell_type": "code",
   "execution_count": null,
   "metadata": {
    "tags": []
   },
   "outputs": [],
   "source": [
    "selec = ['AD',]\n",
    "densfunc = pdens.triaxial_single_angle_zvecpa\n",
    "def usr_log_prior(densfunc,params):\n",
    "    return None\n",
    "hf = pmass.HaloFit(densfunc=densfunc,\n",
    "                   selec=selec,\n",
    "                   fit_type=fit_type,\n",
    "                   feh_range=feh_range_fit,\n",
    "                   version=version,\n",
    "                   **hf_kwargs)"
   ]
  },
  {
   "cell_type": "markdown",
   "metadata": {},
   "source": [
    "### Triaxial single power law"
   ]
  },
  {
   "cell_type": "code",
   "execution_count": null,
   "metadata": {
    "tags": []
   },
   "outputs": [],
   "source": [
    "densfunc = pdens.triaxial_single_angle_zvecpa\n",
    "hf.set_densfunc(densfunc)\n",
    "figs = make_plots(hf,make_arr,**plot_kwargs)"
   ]
  },
  {
   "cell_type": "code",
   "execution_count": null,
   "metadata": {
    "tags": []
   },
   "outputs": [],
   "source": [
    "densfunc = pdens.triaxial_single_angle_zvecpa_plusexpdisk\n",
    "hf.set_densfunc(densfunc,usr_log_prior=usr_log_prior)\n",
    "figs = make_plots(hf,make_arr,**plot_kwargs)"
   ]
  },
  {
   "cell_type": "markdown",
   "metadata": {
    "tags": []
   },
   "source": [
    "### Triaxial exponentially truncated single power law"
   ]
  },
  {
   "cell_type": "code",
   "execution_count": null,
   "metadata": {
    "tags": []
   },
   "outputs": [],
   "source": [
    "densfunc = pdens.triaxial_single_cutoff_zvecpa\n",
    "hf.set_densfunc(densfunc,usr_log_prior=usr_log_prior)\n",
    "#figs = make_plots(hf,make_arr,**plot_kwargs)"
   ]
  },
  {
   "cell_type": "code",
   "execution_count": null,
   "metadata": {
    "tags": []
   },
   "outputs": [],
   "source": [
    "densfunc = pdens.triaxial_single_cutoff_zvecpa_plusexpdisk\n",
    "hf.set_densfunc(densfunc,usr_log_prior=usr_log_prior)\n",
    "figs = make_plots(hf,make_arr,**plot_kwargs)"
   ]
  },
  {
   "cell_type": "markdown",
   "metadata": {
    "tags": []
   },
   "source": [
    "### Triaxial broken power law"
   ]
  },
  {
   "cell_type": "code",
   "execution_count": null,
   "metadata": {
    "tags": []
   },
   "outputs": [],
   "source": [
    "densfunc = pdens.triaxial_broken_angle_zvecpa\n",
    "hf.set_densfunc(densfunc,usr_log_prior=usr_log_prior)\n",
    "figs = make_plots(hf,make_arr,**plot_kwargs)"
   ]
  },
  {
   "cell_type": "code",
   "execution_count": null,
   "metadata": {
    "tags": []
   },
   "outputs": [],
   "source": [
    "densfunc = pdens.triaxial_broken_angle_zvecpa_plusexpdisk\n",
    "hf.set_densfunc(densfunc,usr_log_prior=usr_log_prior)\n",
    "figs = make_plots(hf,make_arr,**plot_kwargs)"
   ]
  },
  {
   "cell_type": "markdown",
   "metadata": {},
   "source": [
    "### Triaxial Double Broken Power Law"
   ]
  },
  {
   "cell_type": "code",
   "execution_count": null,
   "metadata": {
    "tags": []
   },
   "outputs": [],
   "source": [
    "densfunc = pdens.triaxial_double_broken_angle_zvecpa\n",
    "hf.set_densfunc(densfunc,usr_log_prior=usr_log_prior)\n",
    "figs = make_plots(hf,make_arr,**plot_kwargs)"
   ]
  },
  {
   "cell_type": "code",
   "execution_count": null,
   "metadata": {
    "tags": []
   },
   "outputs": [],
   "source": [
    "densfunc = pdens.triaxial_double_broken_angle_zvecpa_plusexpdisk\n",
    "hf.set_densfunc(densfunc,usr_log_prior=usr_log_prior)\n",
    "figs = make_plots(hf,make_arr,**plot_kwargs)"
   ]
  },
  {
   "cell_type": "markdown",
   "metadata": {},
   "source": [
    "## Plot fits to data with JRLz selection, GS/E [Fe/H] range"
   ]
  },
  {
   "cell_type": "code",
   "execution_count": null,
   "metadata": {
    "tags": []
   },
   "outputs": [],
   "source": [
    "selec = ['JRLz',]\n",
    "densfunc = pdens.triaxial_single_angle_zvecpa\n",
    "def usr_log_prior(densfunc,params):\n",
    "    return None\n",
    "hf = pmass.HaloFit(densfunc=densfunc,\n",
    "                   selec=selec,\n",
    "                   fit_type=fit_type,\n",
    "                   feh_range=feh_range_fit,\n",
    "                   version=version,\n",
    "                   **hf_kwargs)"
   ]
  },
  {
   "cell_type": "markdown",
   "metadata": {},
   "source": [
    "### Triaxial single power law"
   ]
  },
  {
   "cell_type": "code",
   "execution_count": null,
   "metadata": {
    "tags": []
   },
   "outputs": [],
   "source": [
    "densfunc = pdens.triaxial_single_angle_zvecpa\n",
    "hf.set_densfunc(densfunc,usr_log_prior=usr_log_prior)\n",
    "figs = make_plots(hf,make_arr,**plot_kwargs)"
   ]
  },
  {
   "cell_type": "code",
   "execution_count": null,
   "metadata": {
    "tags": []
   },
   "outputs": [],
   "source": [
    "densfunc = pdens.triaxial_single_angle_zvecpa_plusexpdisk\n",
    "hf.set_densfunc(densfunc,usr_log_prior=usr_log_prior)\n",
    "figs = make_plots(hf,make_arr,**plot_kwargs)"
   ]
  },
  {
   "cell_type": "markdown",
   "metadata": {},
   "source": [
    "### Triaxial exponentially truncated single power law"
   ]
  },
  {
   "cell_type": "code",
   "execution_count": null,
   "metadata": {
    "tags": []
   },
   "outputs": [],
   "source": [
    "densfunc = pdens.triaxial_single_cutoff_zvecpa\n",
    "hf.set_densfunc(densfunc,usr_log_prior=usr_log_prior)\n",
    "figs = make_plots(hf,make_arr,corner_kwargs=corner_kwargs)"
   ]
  },
  {
   "cell_type": "code",
   "execution_count": null,
   "metadata": {
    "tags": []
   },
   "outputs": [],
   "source": [
    "densfunc = pdens.triaxial_single_cutoff_zvecpa_plusexpdisk\n",
    "hf.set_densfunc(densfunc,usr_log_prior=usr_log_prior)\n",
    "figs = make_plots(hf,make_arr,corner_kwargs=corner_kwargs)"
   ]
  },
  {
   "cell_type": "markdown",
   "metadata": {
    "tags": []
   },
   "source": [
    "### Triaxial broken power law"
   ]
  },
  {
   "cell_type": "code",
   "execution_count": null,
   "metadata": {
    "tags": []
   },
   "outputs": [],
   "source": [
    "densfunc = pdens.triaxial_broken_angle_zvecpa\n",
    "hf.set_densfunc(densfunc,usr_log_prior=usr_log_prior)\n",
    "figs = make_plots(hf,make_arr,**plot_kwargs)"
   ]
  },
  {
   "cell_type": "code",
   "execution_count": null,
   "metadata": {
    "tags": []
   },
   "outputs": [],
   "source": [
    "densfunc = pdens.triaxial_broken_angle_zvecpa_plusexpdisk\n",
    "hf.set_densfunc(densfunc,usr_log_prior=usr_log_prior)\n",
    "figs = make_plots(hf,make_arr,**plot_kwargs)"
   ]
  },
  {
   "cell_type": "markdown",
   "metadata": {},
   "source": [
    "### Triaxial Double Broken Power Law"
   ]
  },
  {
   "cell_type": "code",
   "execution_count": null,
   "metadata": {
    "tags": []
   },
   "outputs": [],
   "source": [
    "densfunc = pdens.triaxial_double_broken_angle_zvecpa\n",
    "hf.set_densfunc(densfunc,usr_log_prior=usr_log_prior)\n",
    "figs = make_plots(hf,make_arr,**plot_kwargs)"
   ]
  },
  {
   "cell_type": "code",
   "execution_count": null,
   "metadata": {
    "tags": []
   },
   "outputs": [],
   "source": [
    "densfunc = pdens.triaxial_double_broken_angle_zvecpa_plusexpdisk\n",
    "hf.set_densfunc(densfunc,usr_log_prior=usr_log_prior)\n",
    "figs = make_plots(hf,make_arr,**plot_kwargs)"
   ]
  }
 ],
 "metadata": {
  "kernel_info": {
   "name": "python3"
  },
  "kernelspec": {
   "display_name": "Python 3 (ipykernel)",
   "language": "python",
   "name": "python3"
  },
  "language_info": {
   "codemirror_mode": {
    "name": "ipython",
    "version": 3
   },
   "file_extension": ".py",
   "mimetype": "text/x-python",
   "name": "python",
   "nbconvert_exporter": "python",
   "pygments_lexer": "ipython3",
   "version": "3.10.11"
  },
  "nteract": {
   "version": "0.28.0"
  }
 },
 "nbformat": 4,
 "nbformat_minor": 4
}
