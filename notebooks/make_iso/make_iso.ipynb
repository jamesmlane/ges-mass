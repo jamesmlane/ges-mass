{
 "cells": [
  {
   "cell_type": "code",
   "execution_count": null,
   "metadata": {},
   "outputs": [],
   "source": [
    "# ------------------------------------------------------------------------\n",
    "#\n",
    "# TITLE - make_iso.ipynb\n",
    "# AUTHOR - James Lane\n",
    "# PROJECT - ges-mass\n",
    "#\n",
    "# ------------------------------------------------------------------------\n",
    "#\n",
    "# Docstrings and metadata:\n",
    "'''Do some processing on the raw PARSEC v1.2 isochrones to make an isochrone\n",
    "grid which can be used with the mass fitting program. Specifically, add \n",
    "weights which represent the fractional number density of each isochrone point.\n",
    "'''\n",
    "\n",
    "__author__ = \"James Lane\""
   ]
  },
  {
   "cell_type": "code",
   "execution_count": null,
   "metadata": {},
   "outputs": [],
   "source": [
    "### Imports\n",
    "\n",
    "## Basic\n",
    "import numpy as np\n",
    "import sys, os, pdb, copy\n",
    "from matplotlib import pyplot as plt\n",
    "import scipy.integrate\n",
    "\n",
    "# Project specific\n",
    "sys.path.insert(0,'../../src/')\n",
    "from ges_mass import util as putil\n",
    "\n",
    "### Scale parameters\n",
    "ro = 8.\n",
    "vo = 220\n",
    "zo = 0.0208 # Bennett+ 2019\n",
    "\n",
    "### Notebook setup\n",
    "\n",
    "%matplotlib inline\n",
    "plt.style.use('../../src/mpl/project.mplstyle') # This must be exactly here\n",
    "%config InlineBackend.figure_format = 'retina'\n",
    "%load_ext autoreload\n",
    "%autoreload 2"
   ]
  },
  {
   "cell_type": "markdown",
   "metadata": {
    "tags": []
   },
   "source": [
    "### Preliminaries"
   ]
  },
  {
   "cell_type": "code",
   "execution_count": null,
   "metadata": {},
   "outputs": [],
   "source": [
    "# Keywords\n",
    "cdict = putil.load_config_to_dict()\n",
    "keywords = ['DATA_DIR','APOGEE_DR','APOGEE_RESULTS_VERS','GAIA_DR']\n",
    "data_dir_base,apogee_dr,apogee_results_vers,gaia_dr \\\n",
    "    = putil.parse_config_dict(cdict,keywords)\n",
    "data_dir = data_dir_base+'gaia_apogee/'\n",
    "gaia_apogee_dir = 'apogee_'+apogee_dr+'_'+apogee_results_vers+'_gaia_'+gaia_dr+'/'"
   ]
  },
  {
   "cell_type": "markdown",
   "metadata": {},
   "source": [
    "### Load data"
   ]
  },
  {
   "cell_type": "code",
   "execution_count": null,
   "metadata": {},
   "outputs": [],
   "source": [
    "# Path for isochrone, I keep it where data for isodist lives\n",
    "iso_dir = os.environ['ISODIST_DATA']+'/parsec1.2/'\n",
    "# Two isochrones, one for low metallicity and one for higher metallicity.\n",
    "# Done separately because of CMD 3.6 limitations, now joined.\n",
    "iso_names = ['2mass-spitzer-wise-0.0001-z-0.0030-1e10-age-1.4e10.dat',\n",
    "             '2mass-spitzer-wise-0.0031-z-0.0060-1e10-age-1.4e10.dat']\n",
    "iso_1 = np.genfromtxt(iso_dir+iso_names[0], names=True, skip_header=13, \n",
    "                      comments='#')\n",
    "iso_2 = np.genfromtxt(iso_dir+iso_names[1], names=True, skip_header=13, \n",
    "                      comments='#')\n",
    "iso = np.concatenate((iso_1,iso_2))"
   ]
  },
  {
   "cell_type": "markdown",
   "metadata": {},
   "source": [
    "### Processing\n",
    "First calculate the IMF-based weights and include them in the isochrone. The \n",
    "IMF for each isochrone element is the delta of iso['int_IMF'], calculated \n",
    "individually for each isochrone of a unique Z and Age. For the first mass point \n",
    "I integrate a normalized (1 M solar total) Chabrier (2001) IMF from 0.08 to the \n",
    "first initial mass point.\n",
    "\n",
    "Additionally remove any points with luminosity -9.999, which are WDs that can \n",
    "significantly warp the inferred mass fraction"
   ]
  },
  {
   "cell_type": "code",
   "execution_count": null,
   "metadata": {},
   "outputs": [],
   "source": [
    "def chabrier01(m,A=1.):\n",
    "    sigma = 0.627\n",
    "    m0 = 0.1\n",
    "    logm_imf = 0.141*np.exp(-np.square(np.log10(m)-np.log10(m0))/(2.*sigma**2.))\n",
    "    return A*logm_imf/np.log(10)/m\n",
    "\n",
    "chabrier01_imf_mass = lambda mass: chabrier01(mass)*mass"
   ]
  },
  {
   "cell_type": "code",
   "execution_count": null,
   "metadata": {},
   "outputs": [],
   "source": [
    "imf_norm = scipy.integrate.quad(chabrier01_imf_mass,0.,100.)[0]"
   ]
  },
  {
   "cell_type": "code",
   "execution_count": null,
   "metadata": {},
   "outputs": [],
   "source": [
    "unique_zini = np.unique(iso['Zini'])\n",
    "unique_age = np.unique(iso['logAge'])\n",
    "\n",
    "w_imf = np.zeros(len(iso),dtype=[('weights_imf','f8')])\n",
    "\n",
    "for i in range(len(unique_zini)):\n",
    "    for j in range(len(unique_age)):\n",
    "        iso_mask = np.where((iso['Zini']==unique_zini[i]) &\\\n",
    "                            (iso['logAge']==unique_age[j]))[0]\n",
    "        w_imf[iso_mask[1:]] = np.diff(iso[iso_mask]['int_IMF'])\n",
    "        w_imf[iso_mask[0]] = scipy.integrate.quad(chabrier01, 0.08, \n",
    "            iso[iso_mask[0]]['Mini'], args=(1/imf_norm))[0]\n",
    "        # w_imf[iso_mask[0]] = iso[iso_mask[0]]['int_IMF']"
   ]
  },
  {
   "cell_type": "code",
   "execution_count": null,
   "metadata": {},
   "outputs": [],
   "source": [
    "# mavg = np.zeros((len(unique_zini),len(unique_age)))\n",
    "# mtot = np.zeros((len(unique_zini),len(unique_age)))\n",
    "\n",
    "# for i in range(len(unique_zini)):\n",
    "#     for j in range(len(unique_age)):\n",
    "#         iso_mask = np.where((iso['Zini']==unique_zini[i]) &\\\n",
    "#                             (iso['logAge']==unique_age[j]) &\\\n",
    "#                             (iso['logL'] > -9)\n",
    "#                            )[0]\n",
    "        \n",
    "#         mavg[i,j] = np.sum(iso['Mini'][iso_mask]*w_imf[iso_mask])/np.sum(w_imf[iso_mask])\n",
    "#         mtot[i,j] = np.sum(iso['Mini'][iso_mask]*w_imf[iso_mask])\n",
    "        \n",
    "#         print('Z='+str(unique_zini[i])+', age='+str(unique_age[j])+\\\n",
    "#               ' total mass: '+str(mtot[i,j])+', average_mass: '+str(mavg[i,j]))"
   ]
  },
  {
   "cell_type": "code",
   "execution_count": null,
   "metadata": {},
   "outputs": [],
   "source": [
    "# Add the weights and remove WD points\n",
    "iso = np.lib.recfunctions.merge_arrays((iso,w_imf), flatten=True)\n",
    "iso = iso_merge[iso_merge['logL'] < -9]"
   ]
  },
  {
   "cell_type": "code",
   "execution_count": null,
   "metadata": {},
   "outputs": [],
   "source": [
    "iso_merge.dtype.names"
   ]
  },
  {
   "cell_type": "code",
   "execution_count": null,
   "metadata": {},
   "outputs": [],
   "source": [
    "# Save, store it with all of the other things required to run the density \n",
    "# fitting program\n",
    "np.save(data_dir+gaia_apogee_dir+'iso_grid.npy',iso_merge)"
   ]
  }
 ],
 "metadata": {
  "kernel_info": {
   "name": "python3"
  },
  "kernelspec": {
   "display_name": "Python 3",
   "language": "python",
   "name": "python3"
  },
  "language_info": {
   "codemirror_mode": {
    "name": "ipython",
    "version": 3
   },
   "file_extension": ".py",
   "mimetype": "text/x-python",
   "name": "python",
   "nbconvert_exporter": "python",
   "pygments_lexer": "ipython3",
   "version": "3.6.5"
  },
  "nteract": {
   "version": "0.28.0"
  }
 },
 "nbformat": 4,
 "nbformat_minor": 4
}
