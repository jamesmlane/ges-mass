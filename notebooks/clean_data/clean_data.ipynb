{
 "cells": [
  {
   "cell_type": "code",
   "execution_count": null,
   "metadata": {},
   "outputs": [],
   "source": [
    "# ------------------------------------------------------------------------\n",
    "#\n",
    "# TITLE - clean_data.ipynb\n",
    "# AUTHOR - James Lane\n",
    "# PROJECT - ges-mass\n",
    "#\n",
    "# ------------------------------------------------------------------------\n",
    "#\n",
    "# Docstrings and metadata:\n",
    "'''Clean the Gaia-APOGEE data\n",
    "'''\n",
    "\n",
    "__author__ = \"James Lane\""
   ]
  },
  {
   "cell_type": "code",
   "execution_count": null,
   "metadata": {},
   "outputs": [],
   "source": [
    "### Imports\n",
    "\n",
    "## Basic\n",
    "import numpy as np, pdb, sys, os, dill as pickle\n",
    "import matplotlib.pyplot as plt\n",
    "import astropy.units as apu\n",
    "# import kimmy\n",
    "\n",
    "## galpy\n",
    "from galpy import orbit\n",
    "from galpy import potential\n",
    "from galpy import actionAngle as aA\n",
    "\n",
    "sys.path.append('../../src/')\n",
    "from ges_mass import util as putil"
   ]
  },
  {
   "cell_type": "code",
   "execution_count": null,
   "metadata": {},
   "outputs": [],
   "source": [
    "# Notebook setup\n",
    "%matplotlib inline\n",
    "%config InlineBackend.figure_format = 'retina'\n",
    "%load_ext autoreload\n",
    "%autoreload 2"
   ]
  },
  {
   "cell_type": "code",
   "execution_count": null,
   "metadata": {},
   "outputs": [],
   "source": [
    "# Keywords and pathing\n",
    "cdict = putil.load_config_to_dict()\n",
    "keywords = ['DATA_DIR','RO','VO','ZO']\n",
    "data_dir_base,ro,vo,zo = putil.parse_config_dict(cdict,keywords)\n",
    "data_dir = data_dir_base+'gaia_apogee/'\n",
    "out_dir = data_dir_base+'gaia_apogee_processed/'\n",
    "\n",
    "# APOGEE and Gaia info\n",
    "apogee_dr = 'dr16' # dr16 or dr17\n",
    "apogee_results_vers = 'l33' # l33 for dr16, unknown for dr17\n",
    "gaia_dr = 'dr2' # dr2 or edr3\n",
    "gaia_apogee_dir = 'apogee_'+apogee_dr+'_'+apogee_results_vers+'_gaia_'+gaia_dr+'/'\n",
    "os.makedirs(out_dir+gaia_apogee_dir,exist_ok=True)"
   ]
  },
  {
   "cell_type": "code",
   "execution_count": null,
   "metadata": {},
   "outputs": [],
   "source": [
    "# Potential\n",
    "mwpot = potential.MWPotential2014\n",
    "potential.turn_physical_on(mwpot,ro=ro,vo=vo)\n",
    "phi0 = potential.evaluatePotentials(mwpot,1e10,0).value"
   ]
  },
  {
   "cell_type": "markdown",
   "metadata": {},
   "source": [
    "# Get data"
   ]
  },
  {
   "cell_type": "markdown",
   "metadata": {},
   "source": [
    "### APOGEE"
   ]
  },
  {
   "cell_type": "code",
   "execution_count": null,
   "metadata": {},
   "outputs": [],
   "source": [
    "# Load APOGEE data\n",
    "allstar_filename = data_dir+gaia_apogee_dir+'apogee_allstar.npy'\n",
    "print('APOGEE data release is: '+apogee_dr+', and results version is: '+apogee_results_vers)\n",
    "print('Loading APOGEE from '+allstar_filename)\n",
    "allstar = np.load(allstar_filename)\n",
    "print(str(len(allstar))+' stars in total sample.')\n",
    "\n",
    "# load APOGEE statistical sample index\n",
    "apogee_stat_indx_filename = data_dir+gaia_apogee_dir+'apogee_statIndx.npy'\n",
    "print('\\nLoading APOGEE DR16 statistical sample from '+apogee_stat_indx_filename)\n",
    "apogee_stat_indx = np.load(apogee_stat_indx_filename)\n",
    "print(str(np.sum(apogee_stat_indx))+' stars in statistical sample.')\n",
    "\n",
    "# Gaia data and Gaia-APOGEE match index\n",
    "gaia_data_filename = data_dir+gaia_apogee_dir+'gaia_data.npy'\n",
    "gaia_apogee_matches_filename = data_dir+gaia_apogee_dir+'gaia_apogee_matches.npy'\n",
    "print('\\nGaia data release is: '+gaia_dr)\n",
    "print('Loading Gaia catalog from '+gaia_data_filename)\n",
    "gaia_data = np.load(gaia_data_filename, allow_pickle=True)\n",
    "print('Loading Gaia-APOGEE matches from '+gaia_apogee_matches_filename)\n",
    "gaia_apogee_matches_indx = np.load(gaia_apogee_matches_filename)\n",
    "\n",
    "# Apply the statistical sample index and Gaia-APOGEE matching index\n",
    "allstar_gaia = allstar[apogee_stat_indx][gaia_apogee_matches_indx]"
   ]
  },
  {
   "cell_type": "markdown",
   "metadata": {
    "tags": []
   },
   "source": [
    "# Clean data and make kinematics\n",
    "\n",
    "The Staeckel deltas and eccentricities may take awhile"
   ]
  },
  {
   "cell_type": "code",
   "execution_count": null,
   "metadata": {},
   "outputs": [],
   "source": [
    "# Should have defined 6D kinematics for eccentricities\n",
    "input_mask = np.isfinite(gaia_data['RA']) &\\\n",
    "             np.isfinite(gaia_data['DEC']) &\\\n",
    "             np.isfinite(gaia_data['pmra']) &\\\n",
    "             np.isfinite(gaia_data['pmdec']) &\\\n",
    "             np.isfinite(allstar_gaia['weighted_dist']) &\\\n",
    "             np.isfinite(allstar_gaia['VHELIO_AVG'])\n",
    "\n",
    "allstar_input = allstar_gaia[input_mask]\n",
    "gaia_input = gaia_data[input_mask]"
   ]
  },
  {
   "cell_type": "code",
   "execution_count": null,
   "metadata": {},
   "outputs": [],
   "source": [
    "# Make coordinate array -> orbits\n",
    "vxvv = np.array([gaia_input['RA'],\n",
    "                 gaia_input['DEC'],\n",
    "                 allstar_input['weighted_dist']/1000,\n",
    "                 gaia_input['pmra'],\n",
    "                 gaia_input['pmdec'],\n",
    "                 allstar_input['VHELIO_AVG']\n",
    "                 ]).T\n",
    "orbs_input = orbit.Orbit(vxvv=vxvv, radec=True, ro=ro, vo=vo, zo=zo)"
   ]
  },
  {
   "cell_type": "code",
   "execution_count": null,
   "metadata": {},
   "outputs": [],
   "source": [
    "orbs_input.z()"
   ]
  },
  {
   "cell_type": "code",
   "execution_count": null,
   "metadata": {},
   "outputs": [],
   "source": [
    "# Force the calculation of new input kinematic quantities even if stashed\n",
    "# ones exist?\n",
    "force_kinematics = False\n",
    "input_kinematics_filename = out_dir+gaia_apogee_dir+'input_kinematics.npy'\n",
    "\n",
    "# Kinematics are stashed because they take some time to compute\n",
    "if force_kinematics or not os.path.exists(input_kinematics_filename):\n",
    "    aAS = aA.actionAngleStaeckel(pot=mwpot, delta=0.4, ro=ro, vo=vo, zo=zo, c=True)\n",
    "    print('Calculating Staeckel deltas...')\n",
    "    deltas_input = aA.estimateDeltaStaeckel(mwpot, orbs_input.R(), orbs_input.z(), no_median=True)\n",
    "    print('Calculating eccentricities...')\n",
    "    ecc_input,zmax_input,rperi_input,rapo_input = aAS.EccZmaxRperiRap(orbs_input, \n",
    "        delta=deltas_input, use_physical=True, c=True)\n",
    "    print('Calculating actions')\n",
    "    accs_freqs = aAS.actionsFreqs(orbs_input, use_physical=True, \n",
    "                                  delta=deltas_input, c=True)\n",
    "    E_input = orbs_input.E(pot=mwpot)\n",
    "    \n",
    "    deltas_input = deltas_input.value\n",
    "    ecc_input = ecc_input.value\n",
    "    zmax_input = zmax_input.value\n",
    "    rperi_input = rperi_input.value\n",
    "    rapo_input = rapo_input.value\n",
    "    E_input = E_input.value\n",
    "    jr_input = accs_freqs[0].value\n",
    "    Lz_input = accs_freqs[1].value\n",
    "    jz_input = accs_freqs[2].value\n",
    "    \n",
    "    eELzs_input = np.array([ecc_input,E_input,Lz_input])\n",
    "    accs_input = np.array([jr_input,Lz_input,jz_input])\n",
    "    orbextr_input = np.array([zmax_input,rperi_input,rapo_input])\n",
    "    print('Saving deltas, eELz, actions, extrema to '+input_kinematics_filename)\n",
    "    with open(input_kinematics_filename,'wb') as f:\n",
    "        pickle.dump([deltas_input,eELzs_input,accs_input,orbextr_input],f)\n",
    "else:\n",
    "    print('Loading eccentricities and deltas from '+input_kinematics_filename)\n",
    "    with open(input_kinematics_filename,'rb') as f:\n",
    "        deltas_input,eELzs_input,accs_input,orbextr_input = \\\n",
    "            pickle.load(f)\n",
    "##fi"
   ]
  },
  {
   "cell_type": "code",
   "execution_count": null,
   "metadata": {},
   "outputs": [],
   "source": [
    "allstar_input_locid = allstar_input['LOCATION_ID'] # Prevents unneccesary querying\n",
    "\n",
    "# Cut bulge fields. Within 20 degrees of the galactic center\n",
    "omask_bulge = ~(((allstar_input['GLON'] > 340.) |\\\n",
    "                 (allstar_input['GLON'] < 20.)) &\\\n",
    "                (np.fabs(allstar_input['GLAT']) < 20.)\n",
    "               )\n",
    "\n",
    "# Cut high fractional distance uncertainty, undefined eccentricity, undefined alpha/Fe, \n",
    "# undefined Fe, high log(g) uncertainty\n",
    "omask_quality = ((allstar_input['weighted_dist_error']/allstar_input['weighted_dist'] < 0.2) &\\\n",
    "                 (np.isfinite(eELzs_input[0])) &\\\n",
    "                 (allstar_input['MG_FE'] > -9999) &\\\n",
    "                 (allstar_input['FE_H'] > -9999) &\\\n",
    "                 (allstar_input['LOGG_ERR'] < 0.1)\n",
    "                )\n",
    "\n",
    "omask_gc = ((allstar_input_locid != 2011) &\\\n",
    "            (allstar_input_locid != 4353) &\\\n",
    "            (allstar_input_locid != 5093) &\\\n",
    "            (allstar_input_locid != 5229) &\\\n",
    "            (allstar_input_locid != 5294) &\\\n",
    "            (allstar_input_locid != 5295) &\\\n",
    "            (allstar_input_locid != 5296) &\\\n",
    "            (allstar_input_locid != 5297) &\\\n",
    "            (allstar_input_locid != 5298) &\\\n",
    "            (allstar_input_locid != 5299) &\\\n",
    "            (allstar_input_locid != 5300) &\\\n",
    "            (allstar_input_locid != 5325) &\\\n",
    "            (allstar_input_locid != 5328) &\\\n",
    "            (allstar_input_locid != 5329) &\\\n",
    "            (allstar_input_locid != 5438) &\\\n",
    "            (allstar_input_locid != 5528) &\\\n",
    "            (allstar_input_locid != 5529) &\\\n",
    "            (allstar_input_locid != 5744) &\\\n",
    "            (allstar_input_locid != 5801)\n",
    "           )\n",
    "\n",
    "omask = omask_bulge & omask_quality & omask_gc\n",
    "\n",
    "gaia_omask = gaia_input[omask]\n",
    "allstar_omask = allstar_input[omask]\n",
    "os_omask = orbs_input[omask]\n",
    "eELzs_omask = eELzs_input[:,omask]\n",
    "accs_omask = accs_input[:,omask]\n",
    "orbextr_omask = orbextr_input[:,omask]\n",
    "\n",
    "print('Number of good stars: '+str(len(os_omask)))"
   ]
  },
  {
   "cell_type": "code",
   "execution_count": null,
   "metadata": {},
   "outputs": [],
   "source": [
    "omask_kinematics_filename = out_dir+gaia_apogee_dir+'clean_kinematics.npy'\n",
    "with open(omask_kinematics_filename,'wb') as f:\n",
    "    pickle.dump([gaia_omask,allstar_omask,os_omask,eELzs_omask,accs_omask,orbextr_omask],f)\n",
    "##pkl"
   ]
  },
  {
   "cell_type": "code",
   "execution_count": null,
   "metadata": {},
   "outputs": [],
   "source": []
  }
 ],
 "metadata": {
  "kernel_info": {
   "name": "python3"
  },
  "kernelspec": {
   "display_name": "Python 3",
   "language": "python",
   "name": "python3"
  },
  "language_info": {
   "codemirror_mode": {
    "name": "ipython",
    "version": 3
   },
   "file_extension": ".py",
   "mimetype": "text/x-python",
   "name": "python",
   "nbconvert_exporter": "python",
   "pygments_lexer": "ipython3",
   "version": "3.6.5"
  },
  "nteract": {
   "version": "0.14.3"
  }
 },
 "nbformat": 4,
 "nbformat_minor": 4
}
